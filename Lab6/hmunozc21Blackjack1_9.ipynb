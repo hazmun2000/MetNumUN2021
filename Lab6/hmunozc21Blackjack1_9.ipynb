{
 "cells": [
  {
   "cell_type": "code",
   "execution_count": 1,
   "metadata": {
    "id": "qtauICRGiD_U"
   },
   "outputs": [],
   "source": [
    "import random as rnd\n",
    "import matplotlib.pyplot as plt\n",
    "import numpy as np\n",
    "import math"
   ]
  },
  {
   "cell_type": "markdown",
   "metadata": {
    "id": "SqdFLEaVO_xf"
   },
   "source": [
    "# Baraja Española Punto 1"
   ]
  },
  {
   "cell_type": "markdown",
   "metadata": {
    "id": "AMxfiUvgQGW3"
   },
   "source": [
    "Estimate the probability of getting a 21, the average number of cards required to complete 21 and plot the experimental distribution of the number of card required to complete 21 drawing cards sequentially from a shuffled Spanish 48-card deck with card values [1,2,3,4,5,6,7,10,11,12,1,2,3,4,5,6,7,8,9,10,11,12,1,2,3,4,5,6,7,8,9,10,11,12,1,2,3,4,5,6,7,8,9,10,11,12] using Montecarlo with 10 millions simulations."
   ]
  },
  {
   "cell_type": "code",
   "execution_count": 2,
   "metadata": {
    "id": "Qt2bSDuY7Y0V"
   },
   "outputs": [],
   "source": [
    "#n ---> Veces que se ralizo el juego\n",
    "n = 10000000\n",
    "\n",
    "#win_cont ---> Veces que se obtuvo 21\n",
    "win_cont = 0\n",
    "av_cards = 0\n",
    "dicc_21 = {2:0, 3:0, 4:0, 5:0, 6:0, 7:0, 8:0, 9:0, 10:0, 11:0}\n",
    "\n",
    "for i in range(n):\n",
    "  dk_esp = [1, 2, 3, 4, 5, 6, 7, 8, 9, 10, 11, 12,\n",
    "            1, 2, 3, 4, 5, 6, 7, 8, 9, 10, 11, 12,\n",
    "            1, 2, 3, 4, 5, 6, 7, 8, 9, 10, 11, 12,\n",
    "            1, 2, 3, 4, 5, 6, 7, 8, 9, 10, 11, 12]\n",
    "  rnd.shuffle(dk_esp)\n",
    "  hand = []\n",
    "  cards_in_hand = 0\n",
    "  while (sum(hand) < 21):\n",
    "    take = rnd.choice(dk_esp)\n",
    "    hand.append(take)\n",
    "    dk_esp.remove(take)\n",
    "    cards_in_hand += 1\n",
    "  \n",
    "  if (sum(hand) == 21):\n",
    "    win_cont += 1\n",
    "    av_cards += cards_in_hand\n",
    "    dicc_21[cards_in_hand] += 1 \n",
    "    "
   ]
  },
  {
   "cell_type": "code",
   "execution_count": 3,
   "metadata": {
    "colab": {
     "base_uri": "https://localhost:8080/",
     "height": 346
    },
    "id": "5EDKkKJeC7fp",
    "outputId": "a07a11c2-0771-4106-8b56-106cb8708f40"
   },
   "outputs": [
    {
     "name": "stdout",
     "output_type": "stream",
     "text": [
      "La probabilidad de obtener 21 es:  0.1578449\n",
      "El número promedio de cartas necesarias para completar 21 es: 3.4159000385821776 \n",
      "\n"
     ]
    },
    {
     "data": {
      "image/png": "[encoded data removed]",
      "text/plain": [
       "<Figure size 432x288 with 1 Axes>"
      ]
     },
     "metadata": {
      "needs_background": "light"
     },
     "output_type": "display_data"
    }
   ],
   "source": [
    "print('La probabilidad de obtener 21 es: ', (win_cont/n))\n",
    "print(\"El número promedio de cartas necesarias para completar 21 es:\", av_cards/win_cont,\"\\n\")\n",
    "\n",
    "plt.bar(dicc_21.keys(), dicc_21.values(), 1, edgecolor = 'black')\n",
    "plt.xlabel('Numero de cartas')\n",
    "plt.ylabel('Numero de Juegos')\n",
    "plt.title('21_GAME')\n",
    "plt.grid(True)\n"
   ]
  },
  {
   "cell_type": "markdown",
   "metadata": {
    "id": "Pq1wBMlxPFIw"
   },
   "source": [
    "# Baraja Poker Punto 1"
   ]
  },
  {
   "cell_type": "markdown",
   "metadata": {
    "id": "kGuTRQ9kQrTc"
   },
   "source": [
    "Estimate the probability of getting a 21, the average number of cards required to complete 21 and plot the experimental distribution of the number of card required to complete 21 drawing cards sequentially from a shuffled Poker 52-card with card values [1,2,3,4,5,6,7,8,9,10,11,12,13,1,2,3,4,5,6,7,8,9,10,11,12,13,1,2,3,4,5,6,7,8,9,10,11,12,13,1,2,3,4,5,6,7,8,9,10,11,12,13] using Montecarlo with 10 millions simulations."
   ]
  },
  {
   "cell_type": "code",
   "execution_count": null,
   "metadata": {
    "id": "mH2GbPtFIWTr"
   },
   "outputs": [],
   "source": [
    "#n ---> Veces que se ralizo el juego\n",
    "n = 10000000\n",
    "\n",
    "#win_cont ---> Veces que se obtuvo 21\n",
    "win_cont = 0\n",
    "av_cards = 0\n",
    "dicc_21 = {2:0, 3:0, 4:0, 5:0, 6:0, 7:0, 8:0, 9:0, 10:0, 11:0}\n",
    "\n",
    "for i in range(n):\n",
    "  dk_poker = [1, 2, 3, 4, 5, 6, 7, 8, 9, 10, 11, 12, 13,\n",
    "              1, 2, 3, 4, 5, 6, 7, 8, 9, 10, 11, 12, 13,\n",
    "              1, 2, 3, 4, 5, 6, 7, 8, 9, 10, 11, 12, 13,\n",
    "              1, 2, 3, 4, 5, 6, 7, 8, 9, 10, 11, 12, 13]\n",
    "  rnd.shuffle(dk_poker)\n",
    "  hand = []\n",
    "  cards_in_hand = 0\n",
    "  while (sum(hand) < 21):\n",
    "    take = rnd.choice(dk_poker)\n",
    "    hand.append(take)\n",
    "    dk_poker.remove(take)\n",
    "    cards_in_hand += 1\n",
    "  \n",
    "  if (sum(hand) == 21):\n",
    "    win_cont += 1\n",
    "    av_cards += cards_in_hand\n",
    "    dicc_21[cards_in_hand] += 1 "
   ]
  },
  {
   "cell_type": "code",
   "execution_count": null,
   "metadata": {
    "colab": {
     "base_uri": "https://localhost:8080/",
     "height": 346
    },
    "id": "59WGumDYPQRc",
    "outputId": "deb43972-dc34-424f-f184-fc8f84fc7e6b"
   },
   "outputs": [],
   "source": [
    "print('La probabilidad de obtener 21 es: ', (win_cont/n))\n",
    "print(\"El número promedio de cartas necesarias para completar 21 es:\", av_cards/win_cont,\"\\n\")\n",
    "\n",
    "plt.bar(dicc_21.keys(), dicc_21.values(), 1, edgecolor = 'black')\n",
    "plt.xlabel('Numero de cartas')\n",
    "plt.ylabel('Numero de Juegos')\n",
    "plt.title('21_GAME')\n",
    "plt.grid(True)"
   ]
  },
  {
   "cell_type": "markdown",
   "metadata": {
    "id": "P6NuqvBvR_YT"
   },
   "source": [
    "# Baraja Española Punto 2"
   ]
  },
  {
   "cell_type": "markdown",
   "metadata": {
    "id": "ZgmsD2fHfddj"
   },
   "source": [
    "Estimate the probability of getting a 21, the average number of cards required to complete 21 and plot the experimental distribution of the number of card required to complete 21 drawing cards sequentially from a shuffled Spanish 48-card deck with card values [1,2,3,4,5,6,7,10,10,10,1,2,3,4,5,6,7,8,9,10,10,10,1,2,3,4,5,6,7,8,9,10,10,10,1,2,3,4,5,6,7,8,9,10,10,10] using Montecarlo with 10 millions simulations."
   ]
  },
  {
   "cell_type": "code",
   "execution_count": null,
   "metadata": {
    "id": "7p8s9LNFRyiO"
   },
   "outputs": [],
   "source": [
    "#n ---> Veces que se ralizo el juego\n",
    "n = 10000000\n",
    "\n",
    "#win_cont ---> Veces que se obtuvo 21\n",
    "win_cont = 0\n",
    "av_cards = 0\n",
    "dicc_21 = {2:0, 3:0, 4:0, 5:0, 6:0, 7:0, 8:0, 9:0, 10:0, 11:0}\n",
    "\n",
    "for i in range(n):\n",
    "  dk_esp = [1, 2, 3, 4, 5, 6, 7, 8, 9, 10, 10, 10,\n",
    "            1, 2, 3, 4, 5, 6, 7, 8, 9, 10, 10, 10,\n",
    "            1, 2, 3, 4, 5, 6, 7, 8, 9, 10, 10, 10,\n",
    "            1, 2, 3, 4, 5, 6, 7, 8, 9, 10, 10, 10]\n",
    "  rnd.shuffle(dk_esp)\n",
    "  hand = []\n",
    "  cards_in_hand = 0\n",
    "  while (sum(hand) < 21):\n",
    "    take = rnd.choice(dk_esp)\n",
    "    hand.append(take)\n",
    "    dk_esp.remove(take)\n",
    "    cards_in_hand += 1\n",
    "  \n",
    "  if (sum(hand) == 21):\n",
    "    win_cont += 1\n",
    "    av_cards += cards_in_hand\n",
    "    dicc_21[cards_in_hand] += 1 "
   ]
  },
  {
   "cell_type": "code",
   "execution_count": null,
   "metadata": {
    "colab": {
     "base_uri": "https://localhost:8080/",
     "height": 346
    },
    "id": "X48lRLo0g91Y",
    "outputId": "09c31c89-57b6-42b5-813d-90023a2e25c1"
   },
   "outputs": [],
   "source": [
    "print('La probabilidad de obtener 21 es: ', (win_cont/n))\n",
    "print(\"El número promedio de cartas necesarias para completar 21 es:\", av_cards/win_cont,\"\\n\")\n",
    "\n",
    "plt.bar(dicc_21.keys(), dicc_21.values(), 1, edgecolor = 'black')\n",
    "plt.xlabel('Numero de cartas')\n",
    "plt.ylabel('Numero de Juegos')\n",
    "plt.title('21_GAME')\n",
    "plt.grid(True)\n"
   ]
  },
  {
   "cell_type": "markdown",
   "metadata": {
    "id": "iAdOE44eovVt"
   },
   "source": [
    "# Baraja Poker Punto 2"
   ]
  },
  {
   "cell_type": "markdown",
   "metadata": {
    "id": "-frZRYyjoyz_"
   },
   "source": [
    "Estimate the probability of getting a 21, the average number of cards required to complete 21 and plot the experimental distribution of the number of card required to complete 21 drawing cards sequentially from a shuffled Poker 52-card deck with card values [1,2,3,4,5,6,7,8,9,10,11,12,13,1,2,3,4,5,6,7,8,9,10,10,10,10,1,2,3,4,5,6,7,8,9,10,10,10,10,1,2,3,4,5,6,7,8,9,10,10,10,10] using Montecarlo with 10 millions simulations."
   ]
  },
  {
   "cell_type": "code",
   "execution_count": null,
   "metadata": {
    "id": "-dXV0yL3oSaj"
   },
   "outputs": [],
   "source": [
    "#n ---> Veces que se ralizo el juego\n",
    "n = 10000000\n",
    "\n",
    "#win_cont ---> Veces que se obtuvo 21\n",
    "win_cont = 0\n",
    "av_cards = 0\n",
    "dicc_21 = {2:0, 3:0, 4:0, 5:0, 6:0, 7:0, 8:0, 9:0, 10:0, 11:0}\n",
    "\n",
    "for i in range(n):\n",
    "  dk_poker = [1, 2, 3, 4, 5, 6, 7, 8, 9, 10, 10, 10, 10,\n",
    "              1, 2, 3, 4, 5, 6, 7, 8, 9, 10, 10, 10, 10,\n",
    "              1, 2, 3, 4, 5, 6, 7, 8, 9, 10, 10, 10, 10,\n",
    "              1, 2, 3, 4, 5, 6, 7, 8, 9, 10, 10, 10, 10]\n",
    "  rnd.shuffle(dk_poker)\n",
    "  hand = []\n",
    "  cards_in_hand = 0\n",
    "  while (sum(hand) < 21):\n",
    "    take = rnd.choice(dk_poker)\n",
    "    hand.append(take)\n",
    "    dk_poker.remove(take)\n",
    "    cards_in_hand += 1\n",
    "  \n",
    "  if (sum(hand) == 21):\n",
    "    win_cont += 1\n",
    "    av_cards += cards_in_hand\n",
    "    dicc_21[cards_in_hand] += 1 "
   ]
  },
  {
   "cell_type": "code",
   "execution_count": null,
   "metadata": {
    "colab": {
     "base_uri": "https://localhost:8080/",
     "height": 346
    },
    "id": "IZncYt4_pS85",
    "outputId": "1acbcc5c-ab2c-4443-a5c3-2cdaf65a4ed2"
   },
   "outputs": [],
   "source": [
    "print('La probabilidad de obtener 21 es: ', (win_cont/n))\n",
    "print(\"El número promedio de cartas necesarias para completar 21 es:\", av_cards/win_cont,\"\\n\")\n",
    "\n",
    "plt.bar(dicc_21.keys(), dicc_21.values(), 1, edgecolor = 'black')\n",
    "plt.xlabel('Numero de cartas')\n",
    "plt.ylabel('Numero de Juegos')\n",
    "plt.title('21_GAME')\n",
    "plt.grid(True)"
   ]
  },
  {
   "cell_type": "code",
   "execution_count": null,
   "metadata": {
    "id": "ULdeHAnZpXWC"
   },
   "outputs": [],
   "source": []
  },
  {
   "cell_type": "markdown",
   "metadata": {
    "id": "i64E24H0tid6"
   },
   "source": [
    "# Baraja Española Punto 3"
   ]
  },
  {
   "cell_type": "markdown",
   "metadata": {
    "id": "Z5tpEWlYtneA"
   },
   "source": [
    "Estimate the probability of getting a 21, the average total number of cards required to complete 21 and lot the experimental distribution of the number of card required to complete 21; assuming that you have in your hand the cards [7,7,5] and the remaining deck has n/2 cards for the regular Spanish 48-card deck. You can pick the n/2 cards in the remaining deck in whatever way you choose but with restriction that this has maximum two 7s and three 5, you have to keep the remaining deck fixed through the Montecarlo simulations, use 10 million simulations."
   ]
  },
  {
   "cell_type": "code",
   "execution_count": null,
   "metadata": {
    "id": "iZ7CoTPrushN"
   },
   "outputs": [],
   "source": [
    "#n ---> Veces que se ralizo el juego\n",
    "n = 10000000\n",
    "\n",
    "#win_cont ---> Veces que se obtuvo 21\n",
    "win_cont = 0\n",
    "av_cards = 0\n",
    "dicc_21 = {2:0, 3:0, 4:0, 5:0, 6:0, 7:0, 8:0, 9:0, 10:0, 11:0}\n",
    "\n",
    "for i in range(n):\n",
    "  dk_esp = [1, 2, 3, 4, 5, 6, 7, 8, 9, 10, 10, 10,\n",
    "            1, 2, 3, 4, 5, 6, 7, 8, 9, 10, 10, 5]\n",
    "  rnd.shuffle(dk_esp)\n",
    "  hand = [7, 7, 5]\n",
    "  cards_in_hand = 3\n",
    "  while (sum(hand) < 21):\n",
    "    take = rnd.choice(dk_esp)\n",
    "    hand.append(take)\n",
    "    dk_esp.remove(take)\n",
    "    cards_in_hand += 1\n",
    "  \n",
    "  if (sum(hand) == 21):\n",
    "    win_cont += 1\n",
    "    av_cards += cards_in_hand\n",
    "    dicc_21[cards_in_hand] += 1 "
   ]
  },
  {
   "cell_type": "code",
   "execution_count": null,
   "metadata": {
    "colab": {
     "base_uri": "https://localhost:8080/",
     "height": 346
    },
    "id": "t61LfpVCuxUP",
    "outputId": "d5fd2123-c3ed-428a-9a3f-120565f6a6b9"
   },
   "outputs": [],
   "source": [
    "print('La probabilidad de obtener 21 es: ', (win_cont/n))\n",
    "print(\"El número promedio de cartas necesarias para completar 21 es:\", av_cards/win_cont,\"\\n\")\n",
    "\n",
    "plt.bar(dicc_21.keys(), dicc_21.values(), 1, edgecolor = 'black')\n",
    "plt.xlabel('Numero de cartas')\n",
    "plt.ylabel('Numero de Juegos')\n",
    "plt.title('21_GAME')\n",
    "plt.grid(True)"
   ]
  },
  {
   "cell_type": "markdown",
   "metadata": {
    "id": "AlsS8LbSvdgO"
   },
   "source": [
    "# Baraja Poker Punto 3"
   ]
  },
  {
   "cell_type": "markdown",
   "metadata": {
    "id": "XYdi2v-Bvj6x"
   },
   "source": [
    "Estimate the probability of getting a 21, the average total number of cards required to complete 21 and lot the experimental distribution of the number of card required to complete 21; assuming that you have in your hand the cards [7,7,5] and the remaining deck has n/2 cards for the regular de póquer de 52 cartas. You can pick the n/2 cards in the remaining deck in whatever way you choose but with restriction that this has maximum two 7s and three 5, you have to keep the remaining deck fixed through the Montecarlo simulations, use 10 million simulations."
   ]
  },
  {
   "cell_type": "code",
   "execution_count": null,
   "metadata": {
    "id": "-wB6MhgFvv3w"
   },
   "outputs": [],
   "source": [
    "#n ---> Veces que se ralizo el juego\n",
    "n = 10000000\n",
    "\n",
    "#win_cont ---> Veces que se obtuvo 21\n",
    "win_cont = 0\n",
    "av_cards = 0\n",
    "dicc_21 = {2:0, 3:0, 4:0, 5:0, 6:0, 7:0, 8:0, 9:0, 10:0, 11:0}\n",
    "\n",
    "for i in range(n):\n",
    "  dk_poker = [1, 2, 3, 4, 5, 6, 7, 8, 9, 10, 10, 10, 10,\n",
    "              1, 2, 3, 4, 5, 6, 7, 8, 9, 10, 10, 10, 5]\n",
    "  rnd.shuffle(dk_poker)\n",
    "  hand = [7, 7, 5]\n",
    "  cards_in_hand = 3\n",
    "  while (sum(hand) < 21):\n",
    "    take = rnd.choice(dk_poker)\n",
    "    hand.append(take)\n",
    "    dk_poker.remove(take)\n",
    "    cards_in_hand += 1\n",
    "  \n",
    "  if (sum(hand) == 21):\n",
    "    win_cont += 1\n",
    "    av_cards += cards_in_hand\n",
    "    dicc_21[cards_in_hand] += 1 "
   ]
  },
  {
   "cell_type": "code",
   "execution_count": null,
   "metadata": {
    "colab": {
     "base_uri": "https://localhost:8080/",
     "height": 346
    },
    "id": "keDrl34lvxjt",
    "outputId": "44d5ae69-e996-4801-c383-63401973be08"
   },
   "outputs": [],
   "source": [
    "print('La probabilidad de obtener 21 es: ', (win_cont/n))\n",
    "print(\"El número promedio de cartas necesarias para completar 21 es:\", av_cards/win_cont,\"\\n\")\n",
    "\n",
    "plt.bar(dicc_21.keys(), dicc_21.values(), 1, edgecolor = 'black')\n",
    "plt.xlabel('Numero de cartas')\n",
    "plt.ylabel('Numero de Juegos')\n",
    "plt.title('21_GAME')\n",
    "plt.grid(True)"
   ]
  },
  {
   "cell_type": "markdown",
   "metadata": {
    "id": "-6LaLNAowM-q"
   },
   "source": [
    "# Baraja Española Punto 4"
   ]
  },
  {
   "cell_type": "markdown",
   "metadata": {
    "id": "Kx1xD1VywRb7"
   },
   "source": [
    "Estimate and calculate analytically the probability of getting a 21, the average total number of cards required to complete 21 and the experimental distribution of the number of card required to complete 21; assuming that you have in your hand the cards [7,7,5] and the remaining deck has two possible sets of 8 cards for the regular Spanish 48-card deck. he two possible remaining decks are a (hot deck) that contains four 1 cards and four 2 cards a (cold deck) with not 1 or 2 cards, for the estimations use Montecarlo with 10 million simulations."
   ]
  },
  {
   "cell_type": "code",
   "execution_count": null,
   "metadata": {
    "id": "RMJFrtNYw9eR"
   },
   "outputs": [],
   "source": [
    "#n ---> Veces que se ralizo el juego\n",
    "n = 10000000\n",
    "\n",
    "#win_cont ---> Veces que se obtuvo 21\n",
    "win_cont = 0\n",
    "av_cards = 0\n",
    "dicc_21 = {2:0, 3:0, 4:0, 5:0, 6:0, 7:0, 8:0, 9:0, 10:0, 11:0}\n",
    "\n",
    "for i in range(n):\n",
    "  dk_esp = [1, 1, 1, 1, 2, 2, 2, 2] #Hot Deck\n",
    "  rnd.shuffle(dk_esp)\n",
    "  hand = [7, 7, 5]\n",
    "  cards_in_hand = 3\n",
    "  while (sum(hand) < 21):\n",
    "    take = rnd.choice(dk_esp)\n",
    "    hand.append(take)\n",
    "    dk_esp.remove(take)\n",
    "    cards_in_hand += 1\n",
    "  \n",
    "  if (sum(hand) == 21):\n",
    "    win_cont += 1\n",
    "    av_cards += cards_in_hand\n",
    "    dicc_21[cards_in_hand] += 1 "
   ]
  },
  {
   "cell_type": "code",
   "execution_count": null,
   "metadata": {
    "colab": {
     "base_uri": "https://localhost:8080/"
    },
    "id": "xbRQ1M4qxPj4",
    "outputId": "44bfe7e8-7cf0-4847-e6cd-0c14df6d2ffb"
   },
   "outputs": [],
   "source": [
    "print('La probabilidad de obtener 21 es: ', (win_cont/n))\n",
    "print(\"El número promedio de cartas necesarias para completar 21 es:\", av_cards/win_cont,\"\\n\")\n",
    "\n",
    "plt.bar(dicc_21.keys(), dicc_21.values(), 1, edgecolor = 'black')\n",
    "plt.xlabel('Numero de cartas')\n",
    "plt.ylabel('Numero de Juegos')\n",
    "plt.title('21_GAME')\n",
    "plt.grid(True)"
   ]
  },
  {
   "cell_type": "code",
   "execution_count": null,
   "metadata": {
    "id": "S-iEJBDAjTGp"
   },
   "outputs": [],
   "source": [
    "#n ---> Veces que se ralizo el juego\n",
    "n = 10000000\n",
    "\n",
    "#win_cont ---> Veces que se obtuvo 21\n",
    "win_cont = 0\n",
    "av_cards = 0\n",
    "dicc_21 = {2:0, 3:0, 4:0, 5:0, 6:0, 7:0, 8:0, 9:0, 10:0, 11:0}\n",
    "\n",
    "for i in range(n):\n",
    "  dk_esp = [3, 4, 5, 6, 7, 8, 9, 10] #Hot Deck\n",
    "  rnd.shuffle(dk_esp)\n",
    "  hand = [7, 7, 5]\n",
    "  cards_in_hand = 3\n",
    "  while (sum(hand) < 21):\n",
    "    take = rnd.choice(dk_esp)\n",
    "    hand.append(take)\n",
    "    dk_esp.remove(take)\n",
    "    cards_in_hand += 1\n",
    "  \n",
    "  if (sum(hand) == 21):\n",
    "    win_cont += 1\n",
    "    av_cards += cards_in_hand\n",
    "    dicc_21[cards_in_hand] += 1 "
   ]
  },
  {
   "cell_type": "code",
   "execution_count": null,
   "metadata": {
    "colab": {
     "base_uri": "https://localhost:8080/"
    },
    "id": "0Ri-EKdBjW_h",
    "outputId": "5440b6df-3aa8-43a2-f944-5a92216cb6f5"
   },
   "outputs": [],
   "source": [
    "print('La probabilidad de obtener 21 es: ', (win_cont/n))\n",
    "print(\"El número promedio de cartas necesarias para completar 21 escero en este caso\")\n",
    "\n",
    "plt.bar(dicc_21.keys(), dicc_21.values(), 1, edgecolor = 'black')\n",
    "plt.xlabel('Numero de cartas')\n",
    "plt.ylabel('Numero de Juegos')\n",
    "plt.title('21_GAME')\n",
    "plt.grid(True)"
   ]
  },
  {
   "cell_type": "markdown",
   "metadata": {
    "id": "tMOOH4BVyHE8"
   },
   "source": [
    "# Baraja Poker Punto 4"
   ]
  },
  {
   "cell_type": "markdown",
   "metadata": {
    "id": "7NdWR6cgyLvV"
   },
   "source": [
    "Estimate and calculate analytically the probability of getting a 21, the average total number of cards required to complete 21 and the experimental distribution of the number of card required to complete 21; assuming that you have in your hand the cards [7,7,5] and the remaining deck has two possible sets of 8 cards for the regular Poker 52-card deck. he two possible remaining decks are a (hot deck) that contains four 1 cards and four 2 cards a (cold deck) with not 1 or 2 cards, for the estimations use Montecarlo with 10 million simulations."
   ]
  },
  {
   "cell_type": "code",
   "execution_count": null,
   "metadata": {
    "id": "3M6CniCtyU7d"
   },
   "outputs": [],
   "source": [
    "#n ---> Veces que se ralizo el juego\n",
    "n = 10000000\n",
    "\n",
    "#win_cont ---> Veces que se obtuvo 21\n",
    "win_cont = 0\n",
    "av_cards = 0\n",
    "dicc_21 = {2:0, 3:0, 4:0, 5:0, 6:0, 7:0, 8:0, 9:0, 10:0, 11:0}\n",
    "\n",
    "for i in range(n):\n",
    "  dk_poker = [1, 1, 1, 1, 2, 2, 2, 2]     #Hot Deck\n",
    "  rnd.shuffle(dk_poker)\n",
    "  hand = [7, 7, 5]\n",
    "  cards_in_hand = 3\n",
    "  while (sum(hand) < 21):\n",
    "    take = rnd.choice(dk_poker)\n",
    "    hand.append(take)\n",
    "    dk_poker.remove(take)\n",
    "    cards_in_hand += 1\n",
    "  \n",
    "  if (sum(hand) == 21):\n",
    "    win_cont += 1\n",
    "    av_cards += cards_in_hand\n",
    "    dicc_21[cards_in_hand] += 1 "
   ]
  },
  {
   "cell_type": "code",
   "execution_count": null,
   "metadata": {
    "colab": {
     "base_uri": "https://localhost:8080/",
     "height": 346
    },
    "id": "p_6PV9rbyVh-",
    "outputId": "7ef5f3dd-ca11-4955-a559-7ee094ddd261"
   },
   "outputs": [],
   "source": [
    "print('La probabilidad de obtener 21 es: ', (win_cont/n))\n",
    "print(\"El número promedio de cartas necesarias para completar 21 es:\", av_cards/win_cont,\"\\n\")\n",
    "\n",
    "plt.bar(dicc_21.keys(), dicc_21.values(), 1, edgecolor = 'black')\n",
    "plt.xlabel('Numero de cartas')\n",
    "plt.ylabel('Numero de Juegos')\n",
    "plt.title('21_GAME')\n",
    "plt.grid(True)"
   ]
  },
  {
   "cell_type": "code",
   "execution_count": null,
   "metadata": {
    "id": "6LBkaPkNlWVC"
   },
   "outputs": [],
   "source": [
    "#n ---> Veces que se ralizo el juego\n",
    "n = 10000000\n",
    "\n",
    "#win_cont ---> Veces que se obtuvo 21\n",
    "win_cont = 0\n",
    "av_cards = 0\n",
    "dicc_21 = {2:0, 3:0, 4:0, 5:0, 6:0, 7:0, 8:0, 9:0, 10:0, 11:0}\n",
    "\n",
    "for i in range(n):\n",
    "  dk_poker = [3, 4, 5, 6, 7, 8, 9, 10]     #Hot Deck\n",
    "  rnd.shuffle(dk_poker)\n",
    "  hand = [7, 7, 5]\n",
    "  cards_in_hand = 3\n",
    "  while (sum(hand) < 21):\n",
    "    take = rnd.choice(dk_poker)\n",
    "    hand.append(take)\n",
    "    dk_poker.remove(take)\n",
    "    cards_in_hand += 1\n",
    "  \n",
    "  if (sum(hand) == 21):\n",
    "    win_cont += 1\n",
    "    av_cards += cards_in_hand\n",
    "    dicc_21[cards_in_hand] += 1 "
   ]
  },
  {
   "cell_type": "code",
   "execution_count": null,
   "metadata": {
    "colab": {
     "base_uri": "https://localhost:8080/",
     "height": 329
    },
    "id": "0wmicfCylhcr",
    "outputId": "2d6f1868-d6cc-49e8-a7a3-a01a864a3248"
   },
   "outputs": [],
   "source": [
    "print('La probabilidad de obtener 21 es: ', (win_cont/n))\n",
    "print(\"El número promedio de cartas necesarias para completar 21 es cero en este caso\")\n",
    "\n",
    "plt.bar(dicc_21.keys(), dicc_21.values(), 1, edgecolor = 'black')\n",
    "plt.xlabel('Numero de cartas')\n",
    "plt.ylabel('Numero de Juegos')\n",
    "plt.title('21_GAME')\n",
    "plt.grid(True)"
   ]
  },
  {
   "cell_type": "markdown",
   "metadata": {
    "id": "klC2d6TYmFwx"
   },
   "source": [
    "# Baraja Española Punto 5 (Hot Deck)"
   ]
  },
  {
   "cell_type": "markdown",
   "metadata": {
    "id": "2xskBsztmL_z"
   },
   "source": [
    "Estimate the average amount of money (expected value) that Ben wins or losses on a weekend if Ben goes to Vegas every weekend (Friday, Saturday and Sunday), plays every weekend day 10 hours, each game takes 3 mins. Assume that for each game he gets two possibilities, in one he gets in his hand the cards [7,7,5] and a remaining hot deck with 8 cards in which case he bets \\$1000 this happens with probability 1/10; in the other one he gets no cards in his hand a complete shuffled deck in which case he bets $10, this happens with the remaining probability 9/10. Use 10000 Montecarlo simulations to estimated the expected amount of money that Ben wins or losses on a weekend for the Spanish 48-card deck."
   ]
  },
  {
   "cell_type": "code",
   "execution_count": null,
   "metadata": {
    "id": "7qDzitiumrKQ"
   },
   "outputs": [],
   "source": [
    "#n ---> Veces que se ralizo el juego\n",
    "n = 10000\n",
    "\n",
    "#win_cont ---> Veces que se obtuvo 21\n",
    "win_cont = 0\n",
    "av_cards = 0\n",
    "dicc_21 = {2:0, 3:0, 4:0, 5:0, 6:0, 7:0, 8:0, 9:0, 10:0, 11:0}\n",
    "cash = 0\n",
    "\n",
    "for i in range(n):\n",
    "  for j in range(60):\n",
    "    dk_esp = [1, 1, 1, 1, 2, 2, 2, 2]     #Hot Deck\n",
    "    rnd.shuffle(dk_esp)\n",
    "    hand = [7, 7, 5]\n",
    "    cards_in_hand = 3\n",
    "    while (sum(hand) < 21):\n",
    "      take = rnd.choice(dk_esp)\n",
    "      hand.append(take)\n",
    "      dk_esp.remove(take)\n",
    "      cards_in_hand += 1\n",
    "  \n",
    "    if (sum(hand) == 21):\n",
    "      win_cont += 1\n",
    "      cash += 1000\n",
    "      av_cards += cards_in_hand\n",
    "      dicc_21[cards_in_hand] += 1\n",
    "    else:\n",
    "      cash -= 1000"
   ]
  },
  {
   "cell_type": "code",
   "execution_count": null,
   "metadata": {
    "colab": {
     "base_uri": "https://localhost:8080/"
    },
    "id": "nzGsj6pKmtFT",
    "outputId": "4be79150-90af-4b28-f482-99b59ea9f288"
   },
   "outputs": [],
   "source": [
    "print('El balance dinero obtenido con el Hot deck es: ', cash/n)"
   ]
  },
  {
   "cell_type": "markdown",
   "metadata": {
    "id": "V0pMdqJ0w5FE"
   },
   "source": [
    "# Baraja Española Punto 5 (Cold Deck)"
   ]
  },
  {
   "cell_type": "code",
   "execution_count": null,
   "metadata": {
    "id": "QHsWIgTVv8Z2"
   },
   "outputs": [],
   "source": [
    "#n ---> Veces que se ralizo el juego\n",
    "n = 10000\n",
    "\n",
    "#win_cont ---> Veces que se obtuvo 21\n",
    "win_cont = 0\n",
    "av_cards = 0\n",
    "dicc_21 = {2:0, 3:0, 4:0, 5:0, 6:0, 7:0, 8:0, 9:0, 10:0, 11:0}\n",
    "cash_2 = 0\n",
    "\n",
    "for i in range(n):\n",
    "  for j in range(540):\n",
    "    dk_esp = [1, 2, 3, 4, 5, 6, 7, 8, 9, 10, 11, 12, 13,\n",
    "                1, 2, 3, 4, 5, 6, 7, 8, 9, 10, 11, 12, 13,\n",
    "                1, 2, 3, 4, 5, 6, 7, 8, 9, 10, 11, 12, 13,\n",
    "                1, 2, 3, 4, 5, 6, 7, 8, 9, 10, 11, 12, 13]     \n",
    "    rnd.shuffle(dk_esp)\n",
    "    hand = []\n",
    "    cards_in_hand = 0\n",
    "\n",
    "    while (sum(hand) < 21):\n",
    "      take = rnd.choice(dk_esp)\n",
    "      hand.append(take)\n",
    "      dk_esp.remove(take)\n",
    "      cards_in_hand += 1\n",
    "  \n",
    "    if (sum(hand) == 21):\n",
    "      win_cont += 1\n",
    "      cash_2 += 10\n",
    "      av_cards += cards_in_hand\n",
    "      dicc_21[cards_in_hand] += 1\n",
    "    else:\n",
    "      cash_2 -= 10"
   ]
  },
  {
   "cell_type": "code",
   "execution_count": null,
   "metadata": {
    "colab": {
     "base_uri": "https://localhost:8080/"
    },
    "id": "nFHMznTlxswu",
    "outputId": "f20d5f04-54e3-48f5-985b-5b6a56c3d129"
   },
   "outputs": [],
   "source": [
    "print('El balance de dinero obtenido con el cold deck es: ', cash_2/n)"
   ]
  },
  {
   "cell_type": "code",
   "execution_count": null,
   "metadata": {
    "colab": {
     "base_uri": "https://localhost:8080/"
    },
    "id": "zG64yPpM7jAH",
    "outputId": "0395bf0f-0eeb-4e1b-d507-73b095abc1ee"
   },
   "outputs": [],
   "source": [
    "print('El dinero ganado en el fin de semana fue: $', cash + cash_2)"
   ]
  },
  {
   "cell_type": "markdown",
   "metadata": {
    "id": "vhAn1RJImttx"
   },
   "source": [
    "# Baraja Poker Punto 5 (Hot Deck)"
   ]
  },
  {
   "cell_type": "markdown",
   "metadata": {
    "id": "yKrahyKvmzKO"
   },
   "source": [
    "Estimate the average amount of money (expected value) that Ben wins or losses on a weekend if Ben goes to Vegas every weekend (Friday, Saturday and Sunday), plays every weekend day 10 hours, each game takes 3 mins. Assume that for each game he gets two possibilities, in one he gets in his hand the cards [7,7,5] and a remaining hot deck with 8 cards in which case he bets \\$1000 this happens with probability 1/10; in the other one he gets no cards in his hand a complete shuffled deck in which case he bets $10, this happens with the remaining probability 9/10. Use 10000 Montecarlo simulations to estimated the expected amount of money that Ben wins or losses on a weekend for a Poker 52-card deck."
   ]
  },
  {
   "cell_type": "code",
   "execution_count": null,
   "metadata": {
    "id": "wQKM5rhbm_b2"
   },
   "outputs": [],
   "source": [
    "#n ---> Veces que se ralizo el juego\n",
    "n = 10000\n",
    "\n",
    "#win_cont ---> Veces que se obtuvo 21\n",
    "win_cont = 0\n",
    "av_cards = 0\n",
    "dicc_21 = {2:0, 3:0, 4:0, 5:0, 6:0, 7:0, 8:0, 9:0, 10:0, 11:0}\n",
    "cash = 0\n",
    "\n",
    "for i in range(n):\n",
    "  for j in range(60):\n",
    "    dk_poker = [1, 1, 1, 1, 2, 2, 2, 2]     #Hot Deck\n",
    "    rnd.shuffle(dk_poker)\n",
    "    hand = [7, 7, 5]\n",
    "    cards_in_hand = 3\n",
    "    while (sum(hand) < 21):\n",
    "      take = rnd.choice(dk_poker)\n",
    "      hand.append(take)\n",
    "      dk_poker.remove(take)\n",
    "      cards_in_hand += 1\n",
    "  \n",
    "    if (sum(hand) == 21):\n",
    "      win_cont += 1\n",
    "      cash += 1000\n",
    "      av_cards += cards_in_hand\n",
    "      dicc_21[cards_in_hand] += 1\n",
    "    else:\n",
    "      cash -= 1000"
   ]
  },
  {
   "cell_type": "code",
   "execution_count": null,
   "metadata": {
    "colab": {
     "base_uri": "https://localhost:8080/"
    },
    "id": "CMTk5YhT6N_D",
    "outputId": "d2228bbf-f27b-4067-c0f7-6138824f8db8"
   },
   "outputs": [],
   "source": [
    "print('El balance de dinero obtenido en el Hot deck es: ', cash/n)"
   ]
  },
  {
   "cell_type": "markdown",
   "metadata": {
    "id": "eCDxR0PM8slP"
   },
   "source": [
    "# Baraja Poker Punto 5 (Cold Deck)"
   ]
  },
  {
   "cell_type": "code",
   "execution_count": null,
   "metadata": {
    "id": "mQlpkSFU8oKP"
   },
   "outputs": [],
   "source": [
    "#n ---> Veces que se ralizo el juego\n",
    "n = 10000\n",
    "\n",
    "#win_cont ---> Veces que se obtuvo 21\n",
    "win_cont = 0\n",
    "av_cards = 0\n",
    "dicc_21 = {2:0, 3:0, 4:0, 5:0, 6:0, 7:0, 8:0, 9:0, 10:0, 11:0}\n",
    "cash_2 = 0\n",
    "\n",
    "for i in range(n):\n",
    "  for j in range(540):\n",
    "    dk_poker = [1, 2, 3, 4, 5, 6, 7, 8, 9, 10, 11, 12, 13,\n",
    "                1, 2, 3, 4, 5, 6, 7, 8, 9, 10, 11, 12, 13,\n",
    "                1, 2, 3, 4, 5, 6, 7, 8, 9, 10, 11, 12, 13,\n",
    "                1, 2, 3, 4, 5, 6, 7, 8, 9, 10, 11, 12, 13]     \n",
    "    rnd.shuffle(dk_poker)\n",
    "    hand = []\n",
    "    cards_in_hand = 0\n",
    "\n",
    "    while (sum(hand) < 21):\n",
    "      take = rnd.choice(dk_poker)\n",
    "      hand.append(take)\n",
    "      dk_poker.remove(take)\n",
    "      cards_in_hand += 1\n",
    "  \n",
    "    if (sum(hand) == 21):\n",
    "      win_cont += 1\n",
    "      cash_2 += 10\n",
    "      av_cards += cards_in_hand\n",
    "      dicc_21[cards_in_hand] += 1\n",
    "    else:\n",
    "      cash_2 -= 10"
   ]
  },
  {
   "cell_type": "code",
   "execution_count": null,
   "metadata": {
    "colab": {
     "base_uri": "https://localhost:8080/"
    },
    "id": "yMzalxjCS7M4",
    "outputId": "a73675a0-9b27-4669-961c-31d2a22d39ce"
   },
   "outputs": [],
   "source": [
    "print('El balance de dinero obtenido con el cold deck es: ', cash_2/n)"
   ]
  },
  {
   "cell_type": "code",
   "execution_count": null,
   "metadata": {
    "colab": {
     "base_uri": "https://localhost:8080/"
    },
    "id": "PaBPyKrJ9A8H",
    "outputId": "013f15d5-7ade-4d1f-833c-8d570cbc145d"
   },
   "outputs": [],
   "source": [
    "print('El balance final del fin de semana es: ', (cash + cash_2))"
   ]
  }
 ],
 "metadata": {
  "colab": {
   "collapsed_sections": [
    "SqdFLEaVO_xf",
    "Pq1wBMlxPFIw",
    "P6NuqvBvR_YT",
    "iAdOE44eovVt",
    "i64E24H0tid6",
    "AlsS8LbSvdgO",
    "-6LaLNAowM-q",
    "tMOOH4BVyHE8",
    "klC2d6TYmFwx",
    "V0pMdqJ0w5FE",
    "vhAn1RJImttx",
    "eCDxR0PM8slP"
   ],
   "name": "jzmendezl21Blackjack1_9.ipynb",
   "provenance": []
  },
  "kernelspec": {
   "display_name": "Python 3",
   "language": "python",
   "name": "python3"
  },
  "language_info": {
   "codemirror_mode": {
    "name": "ipython",
    "version": 3
   },
   "file_extension": ".py",
   "mimetype": "text/x-python",
   "name": "python",
   "nbconvert_exporter": "python",
   "pygments_lexer": "ipython3",
   "version": "3.8.5"
  }
 },
 "nbformat": 4,
 "nbformat_minor": 1
}
