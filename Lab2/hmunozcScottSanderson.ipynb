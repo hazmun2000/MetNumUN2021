{
 "cells": [
  {
   "cell_type": "code",
   "execution_count": 1,
   "metadata": {
    "colab": {
     "base_uri": "https://localhost:8080/"
    },
    "id": "BU5_lig3E0lp",
    "outputId": "b9bcd257-b269-4033-8447-dbbd6c2c509d"
   },
   "outputs": [
    {
     "name": "stdout",
     "output_type": "stream",
     "text": [
      "Requirement already up-to-date: fortran-magic in c:\\users\\hazael_pc\\anaconda3\\lib\\site-packages (0.7)\n",
      "Requirement already satisfied, skipping upgrade: ipython in c:\\users\\hazael_pc\\anaconda3\\lib\\site-packages (from fortran-magic) (7.19.0)\n",
      "Requirement already satisfied, skipping upgrade: numpy in c:\\users\\hazael_pc\\anaconda3\\lib\\site-packages (from fortran-magic) (1.19.2)\n",
      "Requirement already satisfied, skipping upgrade: pickleshare in c:\\users\\hazael_pc\\anaconda3\\lib\\site-packages (from ipython->fortran-magic) (0.7.5)\n",
      "Requirement already satisfied, skipping upgrade: setuptools>=18.5 in c:\\users\\hazael_pc\\anaconda3\\lib\\site-packages (from ipython->fortran-magic) (50.3.1.post20201107)\n",
      "Requirement already satisfied, skipping upgrade: pygments in c:\\users\\hazael_pc\\anaconda3\\lib\\site-packages (from ipython->fortran-magic) (2.7.2)\n",
      "Requirement already satisfied, skipping upgrade: traitlets>=4.2 in c:\\users\\hazael_pc\\anaconda3\\lib\\site-packages (from ipython->fortran-magic) (5.0.5)\n",
      "Requirement already satisfied, skipping upgrade: colorama; sys_platform == \"win32\" in c:\\users\\hazael_pc\\anaconda3\\lib\\site-packages (from ipython->fortran-magic) (0.4.4)\n",
      "Requirement already satisfied, skipping upgrade: decorator in c:\\users\\hazael_pc\\anaconda3\\lib\\site-packages (from ipython->fortran-magic) (4.4.2)\n",
      "Requirement already satisfied, skipping upgrade: backcall in c:\\users\\hazael_pc\\anaconda3\\lib\\site-packages (from ipython->fortran-magic) (0.2.0)\n",
      "Requirement already satisfied, skipping upgrade: jedi>=0.10 in c:\\users\\hazael_pc\\anaconda3\\lib\\site-packages (from ipython->fortran-magic) (0.17.1)\n",
      "Requirement already satisfied, skipping upgrade: prompt-toolkit!=3.0.0,!=3.0.1,<3.1.0,>=2.0.0 in c:\\users\\hazael_pc\\anaconda3\\lib\\site-packages (from ipython->fortran-magic) (3.0.8)\n",
      "Requirement already satisfied, skipping upgrade: ipython-genutils in c:\\users\\hazael_pc\\anaconda3\\lib\\site-packages (from traitlets>=4.2->ipython->fortran-magic) (0.2.0)\n",
      "Requirement already satisfied, skipping upgrade: parso<0.8.0,>=0.7.0 in c:\\users\\hazael_pc\\anaconda3\\lib\\site-packages (from jedi>=0.10->ipython->fortran-magic) (0.7.0)\n",
      "Requirement already satisfied, skipping upgrade: wcwidth in c:\\users\\hazael_pc\\anaconda3\\lib\\site-packages (from prompt-toolkit!=3.0.0,!=3.0.1,<3.1.0,>=2.0.0->ipython->fortran-magic) (0.2.5)\n",
      "Note: you may need to restart the kernel to use updated packages.\n"
     ]
    }
   ],
   "source": [
    "pip install -U fortran-magic"
   ]
  },
  {
   "cell_type": "code",
   "execution_count": 2,
   "metadata": {
    "colab": {
     "base_uri": "https://localhost:8080/",
     "height": 51
    },
    "id": "ChgJ-lfrE-yK",
    "outputId": "51093f67-d723-4a82-fa91-7873328f682a"
   },
   "outputs": [
    {
     "data": {
      "application/javascript": [
       "new Promise(function(resolve, reject) {\n",
       "\tvar script = document.createElement(\"script\");\n",
       "\tscript.onload = resolve;\n",
       "\tscript.onerror = reject;\n",
       "\tscript.src = \"https://raw.github.com/marijnh/CodeMirror/master/mode/fortran/fortran.js\";\n",
       "\tdocument.head.appendChild(script);\n",
       "}).then(() => {\n",
       "IPython.config.cell_magic_highlight['magic_fortran'] = {'reg':[/^%%fortran/]};\n",
       "});"
      ]
     },
     "metadata": {},
     "output_type": "display_data"
    }
   ],
   "source": [
    "%reload_ext fortranmagic"
   ]
  },
  {
   "cell_type": "code",
   "execution_count": 3,
   "metadata": {
    "autoscroll": false,
    "colab": {
     "base_uri": "https://localhost:8080/"
    },
    "ein.tags": "worksheet-0",
    "id": "K8uTdbj6IUlQ",
    "outputId": "7293042a-4688-4b68-f69b-d98d7df69665"
   },
   "outputs": [
    {
     "name": "stdout",
     "output_type": "stream",
     "text": [
      "The fortranmagic extension is already loaded. To reload it, use:\n",
      "  %reload_ext fortranmagic\n"
     ]
    }
   ],
   "source": [
    "%matplotlib inline\n",
    "%load_ext fortranmagic\n",
    "\n",
    "import sys; sys.path.append('..')\n",
    "\n",
    "import pandas as pd\n",
    "import numpy as np\n",
    "import matplotlib as mpl\n",
    "import matplotlib.pyplot as plt\n",
    "import seaborn as sns\n",
    "\n",
    "mpl.rc('figure', figsize=(12, 7))\n",
    "\n",
    "ran_the_first_cell = True\n",
    "\n",
    "jan2017 = pd.to_datetime(['2017-01-03 00:00:00+00:00',\n",
    " '2017-01-04 00:00:00+00:00',\n",
    " '2017-01-05 00:00:00+00:00',\n",
    " '2017-01-06 00:00:00+00:00',\n",
    " '2017-01-09 00:00:00+00:00',\n",
    " '2017-01-10 00:00:00+00:00',\n",
    " '2017-01-11 00:00:00+00:00',\n",
    " '2017-01-12 00:00:00+00:00',\n",
    " '2017-01-13 00:00:00+00:00',\n",
    " '2017-01-17 00:00:00+00:00',\n",
    " '2017-01-18 00:00:00+00:00',\n",
    " '2017-01-19 00:00:00+00:00',\n",
    " '2017-01-20 00:00:00+00:00',\n",
    " '2017-01-23 00:00:00+00:00',\n",
    " '2017-01-24 00:00:00+00:00',\n",
    " '2017-01-25 00:00:00+00:00',\n",
    " '2017-01-26 00:00:00+00:00',\n",
    " '2017-01-27 00:00:00+00:00',\n",
    " '2017-01-30 00:00:00+00:00',\n",
    " '2017-01-31 00:00:00+00:00',\n",
    " '2017-02-01 00:00:00+00:00'])\n",
    "calendar = jan2017.values.astype('datetime64[D]')\n",
    "\n",
    "event_dates = pd.to_datetime(['2017-01-06 00:00:00+00:00', \n",
    "                             '2017-01-07 00:00:00+00:00', \n",
    "                             '2017-01-08 00:00:00+00:00']).values.astype('datetime64[D]')\n",
    "event_values = np.array([10, 15, 20])"
   ]
  },
  {
   "cell_type": "markdown",
   "metadata": {
    "ein.tags": "worksheet-0",
    "id": "gfBqRu1RIUlW"
   },
   "source": [
    "<center>\n",
    "  <h1>The PyData Toolbox</h1>\n",
    "  <h3>Scott Sanderson (Twitter: @scottbsanderson, GitHub: ssanderson)</h3>\n",
    "  <h3><a href=\"https://github.com/ssanderson/pydata-toolbox\">https://github.com/ssanderson/pydata-toolbox</a></h3>\n",
    "</center>"
   ]
  },
  {
   "cell_type": "markdown",
   "metadata": {
    "collapsed": true,
    "ein.tags": "worksheet-0",
    "id": "URTSXfIUIUlW"
   },
   "source": [
    "# About Me:\n",
    "\n",
    "<img src=\"images/me.jpg\" alt=\"Drawing\" style=\"width: 300px;\"/>\n",
    "\n",
    "- Senior Engineer at [Quantopian](www.quantopian.com)\n",
    "- Background in Mathematics and Philosophy\n",
    "- **Twitter:** [@scottbsanderson](https://twitter.com/scottbsanderson)\n",
    "- **GitHub:** [ssanderson](github.com/ssanderson)"
   ]
  },
  {
   "cell_type": "markdown",
   "metadata": {
    "id": "RYA7A9KPIUlX"
   },
   "source": [
    "## Outline\n",
    "\n",
    "- Built-in Data Structures\n",
    "- Numpy `array`\n",
    "- Pandas `Series`/`DataFrame`\n",
    "- Plotting and \"Real-World\" Analyses"
   ]
  },
  {
   "cell_type": "markdown",
   "metadata": {
    "id": "5gtCn1CoIUlX"
   },
   "source": [
    "# Data Structures"
   ]
  },
  {
   "cell_type": "markdown",
   "metadata": {
    "id": "4YawHNzmIUlY"
   },
   "source": [
    "> Rule 5. Data dominates. If you've chosen the right data structures and organized things well, the algorithms\n",
    "will almost always be self-evident. Data structures, not algorithms, are central to programming.\n",
    "\n",
    "- *Notes on Programming in C*, by Rob Pike."
   ]
  },
  {
   "cell_type": "markdown",
   "metadata": {
    "id": "6BNU8rPJIUlY"
   },
   "source": [
    "# Lists"
   ]
  },
  {
   "cell_type": "code",
   "execution_count": 4,
   "metadata": {
    "id": "lrS207dOIUlZ"
   },
   "outputs": [],
   "source": [
    "assert ran_the_first_cell, \"Oh noes!\""
   ]
  },
  {
   "cell_type": "code",
   "execution_count": 5,
   "metadata": {
    "colab": {
     "base_uri": "https://localhost:8080/"
    },
    "id": "ewoG3E9dIUlb",
    "outputId": "2691d4f5-e182-4a97-8759-6566dd4a9f36"
   },
   "outputs": [
    {
     "data": {
      "text/plain": [
       "[1, 'two', 3.0, 4, 5.0, 'six']"
      ]
     },
     "execution_count": 5,
     "metadata": {},
     "output_type": "execute_result"
    }
   ],
   "source": [
    "l = [1, 'two', 3.0, 4, 5.0, \"six\"]\n",
    "l"
   ]
  },
  {
   "cell_type": "code",
   "execution_count": 6,
   "metadata": {
    "colab": {
     "base_uri": "https://localhost:8080/"
    },
    "id": "b5RLTh7PJnE8",
    "outputId": "6343f022-1541-44f8-969b-577deec687a4"
   },
   "outputs": [
    {
     "data": {
      "text/plain": [
       "['hello', 2, 4, 3.4, 9]"
      ]
     },
     "execution_count": 6,
     "metadata": {},
     "output_type": "execute_result"
    }
   ],
   "source": [
    "lis = [\"hello\",2,4,3.4,9]\n",
    "lis"
   ]
  },
  {
   "cell_type": "code",
   "execution_count": 7,
   "metadata": {
    "colab": {
     "base_uri": "https://localhost:8080/"
    },
    "id": "-Ee_6ezUIUle",
    "outputId": "3d4fcc4d-071f-4942-e3b0-508b54a0932e"
   },
   "outputs": [
    {
     "name": "stdout",
     "output_type": "stream",
     "text": [
      "first: 1\n",
      "second: two\n"
     ]
    }
   ],
   "source": [
    "# Lists can be indexed like C-style arrays.\n",
    "first = l[0]\n",
    "second = l[1]\n",
    "print(\"first:\", first)\n",
    "print(\"second:\", second)"
   ]
  },
  {
   "cell_type": "code",
   "execution_count": 8,
   "metadata": {
    "colab": {
     "base_uri": "https://localhost:8080/"
    },
    "id": "X7zXAUXMJ0WA",
    "outputId": "f57282c7-1ef2-43f5-d81c-617ebc1e4bd7"
   },
   "outputs": [
    {
     "name": "stdout",
     "output_type": "stream",
     "text": [
      "first: hello\n",
      "second: 2\n"
     ]
    }
   ],
   "source": [
    "first = lis[0]\n",
    "second = lis[1]\n",
    "print(\"first:\", first)\n",
    "print(\"second:\", second)"
   ]
  },
  {
   "cell_type": "code",
   "execution_count": 9,
   "metadata": {
    "colab": {
     "base_uri": "https://localhost:8080/"
    },
    "id": "yRd-QSWXIUlg",
    "outputId": "8f9869c0-574f-48c7-881e-f227e931a418"
   },
   "outputs": [
    {
     "name": "stdout",
     "output_type": "stream",
     "text": [
      "last: six\n",
      "second to last: 5.0\n"
     ]
    }
   ],
   "source": [
    "# Negative indexing gives elements relative to the end of the list.\n",
    "last = l[-1]\n",
    "penultimate = l[-2]\n",
    "print(\"last:\", last)\n",
    "print(\"second to last:\", penultimate)"
   ]
  },
  {
   "cell_type": "code",
   "execution_count": 10,
   "metadata": {
    "colab": {
     "base_uri": "https://localhost:8080/"
    },
    "id": "BvkrzRrSJ_9B",
    "outputId": "e04e7d94-4172-42d3-8e31-dfc3cf8c7673"
   },
   "outputs": [
    {
     "name": "stdout",
     "output_type": "stream",
     "text": [
      "last: 9\n",
      "second to last: 3.4\n"
     ]
    }
   ],
   "source": [
    "\n",
    "last = lis[-1]\n",
    "penultimate = lis[-2]\n",
    "print(\"last:\", last)\n",
    "print(\"second to last:\", penultimate)"
   ]
  },
  {
   "cell_type": "code",
   "execution_count": 11,
   "metadata": {
    "colab": {
     "base_uri": "https://localhost:8080/"
    },
    "id": "8ooyYx27IUli",
    "outputId": "053765ae-216c-47ab-e5c3-fdc1ff8828a3"
   },
   "outputs": [
    {
     "data": {
      "text/plain": [
       "['two', 3.0]"
      ]
     },
     "execution_count": 11,
     "metadata": {},
     "output_type": "execute_result"
    }
   ],
   "source": [
    "# Lists can also be sliced, which makes a copy of elements between \n",
    "# start (inclusive) and stop (exclusive)\n",
    "sublist = l[1:3]\n",
    "sublist"
   ]
  },
  {
   "cell_type": "code",
   "execution_count": 12,
   "metadata": {
    "colab": {
     "base_uri": "https://localhost:8080/"
    },
    "id": "CQ7f1MA6Kd9b",
    "outputId": "5bde5ca1-df3f-41bc-bab8-0d022ad51795"
   },
   "outputs": [
    {
     "data": {
      "text/plain": [
       "[4, 3.4]"
      ]
     },
     "execution_count": 12,
     "metadata": {},
     "output_type": "execute_result"
    }
   ],
   "source": [
    "\n",
    "sublist2 = lis[2:4]\n",
    "sublist2"
   ]
  },
  {
   "cell_type": "code",
   "execution_count": 13,
   "metadata": {
    "colab": {
     "base_uri": "https://localhost:8080/"
    },
    "id": "fTve68T9IUll",
    "outputId": "55a32a83-dab4-4a80-939c-20ccf8458911"
   },
   "outputs": [
    {
     "data": {
      "text/plain": [
       "[1, 'two', 3.0]"
      ]
     },
     "execution_count": 13,
     "metadata": {},
     "output_type": "execute_result"
    }
   ],
   "source": [
    "# l[:N] is equivalent to l[0:N].\n",
    "first_three = l[:3]\n",
    "first_three"
   ]
  },
  {
   "cell_type": "code",
   "execution_count": 14,
   "metadata": {
    "colab": {
     "base_uri": "https://localhost:8080/"
    },
    "id": "1rREo6bHKuY7",
    "outputId": "293fdaeb-862c-48fe-c29b-1c814460531d"
   },
   "outputs": [
    {
     "data": {
      "text/plain": [
       "['hello', 2, 4]"
      ]
     },
     "execution_count": 14,
     "metadata": {},
     "output_type": "execute_result"
    }
   ],
   "source": [
    "\n",
    "first_three2 = lis[:3]\n",
    "first_three2"
   ]
  },
  {
   "cell_type": "code",
   "execution_count": 15,
   "metadata": {
    "colab": {
     "base_uri": "https://localhost:8080/"
    },
    "id": "6PpyuUzjIUlo",
    "outputId": "c8797a10-c36f-4f7f-fb04-579803fb9b74"
   },
   "outputs": [
    {
     "data": {
      "text/plain": [
       "[4, 5.0, 'six']"
      ]
     },
     "execution_count": 15,
     "metadata": {},
     "output_type": "execute_result"
    }
   ],
   "source": [
    "# l[3:] is equivalent to l[3:len(l)].\n",
    "after_three = l[3:]\n",
    "after_three"
   ]
  },
  {
   "cell_type": "code",
   "execution_count": 16,
   "metadata": {
    "colab": {
     "base_uri": "https://localhost:8080/"
    },
    "id": "1lOPg0idKncj",
    "outputId": "53d6e8cb-139c-4b15-df70-bc75be8accc7"
   },
   "outputs": [
    {
     "data": {
      "text/plain": [
       "[3.4, 9]"
      ]
     },
     "execution_count": 16,
     "metadata": {},
     "output_type": "execute_result"
    }
   ],
   "source": [
    "\n",
    "after_three2 = lis[3:]\n",
    "after_three2"
   ]
  },
  {
   "cell_type": "code",
   "execution_count": 17,
   "metadata": {
    "colab": {
     "base_uri": "https://localhost:8080/"
    },
    "id": "mLYJvMf5IUlq",
    "outputId": "5f61f19c-3d64-4be3-f719-d3d75a6a8465"
   },
   "outputs": [
    {
     "data": {
      "text/plain": [
       "['b', 'd', 'f']"
      ]
     },
     "execution_count": 17,
     "metadata": {},
     "output_type": "execute_result"
    }
   ],
   "source": [
    "# There's also a third parameter, \"step\", which gets every Nth element.\n",
    "l = ['a', 'b', 'c', 'd', 'e', 'f', 'g','h']\n",
    "l[1:7:2]"
   ]
  },
  {
   "cell_type": "code",
   "execution_count": 18,
   "metadata": {
    "colab": {
     "base_uri": "https://localhost:8080/"
    },
    "id": "28HvxitAK3Az",
    "outputId": "b3968ecd-7813-42e4-fdb4-d919a9d4e7e1"
   },
   "outputs": [
    {
     "data": {
      "text/plain": [
       "[2, 5, 8]"
      ]
     },
     "execution_count": 18,
     "metadata": {},
     "output_type": "execute_result"
    }
   ],
   "source": [
    "lis = [1,2,3,4,5,6,7,8,9,10]\n",
    "lis[1:9:3]"
   ]
  },
  {
   "cell_type": "code",
   "execution_count": 19,
   "metadata": {
    "colab": {
     "base_uri": "https://localhost:8080/"
    },
    "id": "Xz6DKnh6IUls",
    "outputId": "1dd17917-3c14-4f43-8407-7c4a36c688b8"
   },
   "outputs": [
    {
     "data": {
      "text/plain": [
       "['h', 'g', 'f', 'e', 'd', 'c', 'b', 'a']"
      ]
     },
     "execution_count": 19,
     "metadata": {},
     "output_type": "execute_result"
    }
   ],
   "source": [
    "# This is a cute way to reverse a list.\n",
    "l[::-1]"
   ]
  },
  {
   "cell_type": "code",
   "execution_count": 20,
   "metadata": {
    "colab": {
     "base_uri": "https://localhost:8080/"
    },
    "id": "c08vxQQCLJR0",
    "outputId": "81dc1478-fe3e-4872-d953-23deed175b30"
   },
   "outputs": [
    {
     "data": {
      "text/plain": [
       "[10, 9, 8, 7, 6, 5, 4, 3, 2, 1]"
      ]
     },
     "execution_count": 20,
     "metadata": {},
     "output_type": "execute_result"
    }
   ],
   "source": [
    "\n",
    "lis[::-1]"
   ]
  },
  {
   "cell_type": "code",
   "execution_count": 21,
   "metadata": {
    "colab": {
     "base_uri": "https://localhost:8080/"
    },
    "id": "WglBbaZ4IUlu",
    "outputId": "4d117a21-ddbf-4cba-8709-7f0eae3360d7"
   },
   "outputs": [
    {
     "name": "stdout",
     "output_type": "stream",
     "text": [
      "Before: [1, 2, 3, 4, 5]\n",
      "After: [1, 2, 3, 4, 5, 'six']\n"
     ]
    }
   ],
   "source": [
    "# Lists can be grown efficiently (in O(1) amortized time).\n",
    "l = [1, 2, 3, 4, 5]\n",
    "print(\"Before:\", l)\n",
    "l.append('six')\n",
    "print(\"After:\", l)"
   ]
  },
  {
   "cell_type": "code",
   "execution_count": 22,
   "metadata": {
    "colab": {
     "base_uri": "https://localhost:8080/"
    },
    "id": "Yfw45_8YLUvV",
    "outputId": "244a72d9-bb45-4215-e94c-13bb436a591c"
   },
   "outputs": [
    {
     "name": "stdout",
     "output_type": "stream",
     "text": [
      "Before: ['un', 'dos', 'tres']\n",
      "After: ['un', 'dos', 'tres', 'cuatro']\n"
     ]
    }
   ],
   "source": [
    "\n",
    "lis= [\"un\",\"dos\",\"tres\"]\n",
    "print(\"Before:\", lis)\n",
    "lis.append('cuatro')\n",
    "print(\"After:\", lis)"
   ]
  },
  {
   "cell_type": "code",
   "execution_count": 23,
   "metadata": {
    "colab": {
     "base_uri": "https://localhost:8080/"
    },
    "id": "2Po-ypAoIUlx",
    "outputId": "e79e3d22-49c8-4e69-a347-c00f3c3e1825"
   },
   "outputs": [
    {
     "data": {
      "text/plain": [
       "[2, 4, 6, 8, 10]"
      ]
     },
     "execution_count": 23,
     "metadata": {},
     "output_type": "execute_result"
    }
   ],
   "source": [
    "# Comprehensions let us perform elementwise computations.\n",
    "l = [1, 2, 3, 4, 5]\n",
    "[x * 2 for x in l]"
   ]
  },
  {
   "cell_type": "code",
   "execution_count": 24,
   "metadata": {
    "colab": {
     "base_uri": "https://localhost:8080/"
    },
    "id": "ESs1RAwSLmp0",
    "outputId": "f6a8aef9-69f6-4e1f-9161-8c0d4eddc6a4"
   },
   "outputs": [
    {
     "data": {
      "text/plain": [
       "[5.0, 1.0, 1.5, 2.0, 0.5, 10.0, 15.0]"
      ]
     },
     "execution_count": 24,
     "metadata": {},
     "output_type": "execute_result"
    }
   ],
   "source": [
    "lis = [10,2,3,4,1,20,30]\n",
    "[x /2 for x in lis]"
   ]
  },
  {
   "cell_type": "markdown",
   "metadata": {
    "ein.tags": "worksheet-0",
    "id": "Y1_f_Dk6IUlz"
   },
   "source": [
    "## Review: Python Lists\n",
    "\n",
    "- Zero-indexed sequence of arbitrary Python values.\n",
    "- Slicing syntax: `l[start:stop:step]` copies elements at regular intervals from `start` to `stop`.\n",
    "- Efficient (`O(1)`) appends and removes from end.\n",
    "- Comprehension syntax: `[f(x) for x in l if cond(x)]`."
   ]
  },
  {
   "cell_type": "markdown",
   "metadata": {
    "id": "l20QYTRPIUlz"
   },
   "source": [
    "# Dictionaries"
   ]
  },
  {
   "cell_type": "code",
   "execution_count": 25,
   "metadata": {
    "colab": {
     "base_uri": "https://localhost:8080/"
    },
    "id": "32TA7PQ1IUl0",
    "outputId": "9a5b26ac-f9c5-4273-9116-969a0383c57f"
   },
   "outputs": [
    {
     "data": {
      "text/plain": [
       "{'David': 'Hume', 'Immanuel': 'Kant', 'Bertrand': 'Russell'}"
      ]
     },
     "execution_count": 25,
     "metadata": {},
     "output_type": "execute_result"
    }
   ],
   "source": [
    "# Dictionaries are key-value mappings.\n",
    "philosophers = {'David': 'Hume', 'Immanuel': 'Kant', 'Bertrand': 'Russell'}\n",
    "philosophers"
   ]
  },
  {
   "cell_type": "code",
   "execution_count": 26,
   "metadata": {
    "colab": {
     "base_uri": "https://localhost:8080/"
    },
    "id": "0ZKtAFNrMVkf",
    "outputId": "28a76ac6-6e79-464a-da17-f88cecc8e281"
   },
   "outputs": [
    {
     "data": {
      "text/plain": [
       "{'voc': 'a', 'let': 'b', 'num': 1}"
      ]
     },
     "execution_count": 26,
     "metadata": {},
     "output_type": "execute_result"
    }
   ],
   "source": [
    "dicty = {\"voc\":\"a\",\"let\":\"b\",\"num\":1}\n",
    "dicty"
   ]
  },
  {
   "cell_type": "code",
   "execution_count": 27,
   "metadata": {
    "colab": {
     "base_uri": "https://localhost:8080/"
    },
    "id": "81ShstJ1IUl2",
    "outputId": "867e7695-9349-4a57-b0c9-2d1674908f02"
   },
   "outputs": [
    {
     "data": {
      "text/plain": [
       "{'David': 'Hume',\n",
       " 'Immanuel': 'Kant',\n",
       " 'Bertrand': 'Russell',\n",
       " 'Ludwig': 'Wittgenstein'}"
      ]
     },
     "execution_count": 27,
     "metadata": {},
     "output_type": "execute_result"
    }
   ],
   "source": [
    "# Like lists, dictionaries are size-mutable.\n",
    "philosophers['Ludwig'] = 'Wittgenstein'\n",
    "philosophers"
   ]
  },
  {
   "cell_type": "code",
   "execution_count": 28,
   "metadata": {
    "colab": {
     "base_uri": "https://localhost:8080/"
    },
    "id": "G1O4EG89MtNv",
    "outputId": "99dd9a93-2c41-461b-808b-b429ba973cd1"
   },
   "outputs": [
    {
     "data": {
      "text/plain": [
       "{'voc': 'a', 'let': 'b', 'num': 1, 'sign': '-'}"
      ]
     },
     "execution_count": 28,
     "metadata": {},
     "output_type": "execute_result"
    }
   ],
   "source": [
    "dicty['sign'] = '-'\n",
    "dicty"
   ]
  },
  {
   "cell_type": "code",
   "execution_count": 29,
   "metadata": {
    "colab": {
     "base_uri": "https://localhost:8080/"
    },
    "id": "BxJq5kEtIUl4",
    "outputId": "4dabf4e9-36a7-46e1-cd0e-a81a3754f21d"
   },
   "outputs": [
    {
     "data": {
      "text/plain": [
       "{'Immanuel': 'Kant', 'Bertrand': 'Russell', 'Ludwig': 'Wittgenstein'}"
      ]
     },
     "execution_count": 29,
     "metadata": {},
     "output_type": "execute_result"
    }
   ],
   "source": [
    "del philosophers['David']\n",
    "philosophers"
   ]
  },
  {
   "cell_type": "code",
   "execution_count": 30,
   "metadata": {
    "colab": {
     "base_uri": "https://localhost:8080/"
    },
    "id": "tNuuVFd9M-JG",
    "outputId": "9b1a7bbe-e3ff-4fb5-a042-d0cc9c1a568c"
   },
   "outputs": [
    {
     "data": {
      "text/plain": [
       "{'voc': 'a', 'let': 'b', 'sign': '-'}"
      ]
     },
     "execution_count": 30,
     "metadata": {},
     "output_type": "execute_result"
    }
   ],
   "source": [
    "del dicty['num']\n",
    "dicty"
   ]
  },
  {
   "cell_type": "code",
   "execution_count": 31,
   "metadata": {
    "colab": {
     "base_uri": "https://localhost:8080/"
    },
    "id": "JBvRvfD1IUl6",
    "outputId": "03f0a533-1a0b-45d8-c580-0c0819b64029"
   },
   "outputs": [
    {
     "name": "stdout",
     "output_type": "stream",
     "text": [
      "philosophers['Bertrand':'Immanuel'] > unhashable type: 'slice'\n"
     ]
    }
   ],
   "source": [
    "# No slicing.\n",
    "print(\"philosophers['Bertrand':'Immanuel'] > unhashable type: 'slice'\")"
   ]
  },
  {
   "cell_type": "code",
   "execution_count": 32,
   "metadata": {
    "colab": {
     "base_uri": "https://localhost:8080/"
    },
    "id": "ePHwOpDWNIal",
    "outputId": "90db2cba-8830-48e6-91d6-08928153db29"
   },
   "outputs": [
    {
     "name": "stdout",
     "output_type": "stream",
     "text": [
      "dicty['voc':'sign'] > unhashable type: 'slice'\n"
     ]
    }
   ],
   "source": [
    "print(\"dicty['voc':'sign'] > unhashable type: 'slice'\")"
   ]
  },
  {
   "cell_type": "markdown",
   "metadata": {
    "ein.tags": "worksheet-0",
    "id": "clIpTsCNIUl9"
   },
   "source": [
    "## Review: Python Dictionaries\n",
    "\n",
    "- Unordered key-value mapping from (almost) arbitrary keys to arbitrary values.\n",
    "- Efficient (`O(1)`) lookup, insertion, and deletion.\n",
    "- No slicing (would require a notion of order)."
   ]
  },
  {
   "cell_type": "markdown",
   "metadata": {
    "id": "A9hKX43AIUl9"
   },
   "source": [
    "<center><img src=\"images/pacino.gif\" alt=\"Drawing\" style=\"width: 100%;\"/></center>\n"
   ]
  },
  {
   "cell_type": "code",
   "execution_count": 33,
   "metadata": {
    "id": "6LBVlRuHIUl9"
   },
   "outputs": [],
   "source": [
    "# Suppose we have some matrices...\n",
    "a = [[1, 2, 3],\n",
    "     [2, 3, 4],\n",
    "     [5, 6, 7],\n",
    "     [1, 1, 1]]\n",
    "\n",
    "b = [[1, 2, 3, 4],\n",
    "     [2, 3, 4, 5]]"
   ]
  },
  {
   "cell_type": "code",
   "execution_count": 34,
   "metadata": {
    "id": "qKM2OvSUN9np"
   },
   "outputs": [],
   "source": [
    "a2 = [[1, 2, 2],\n",
    "     [2, 3, 2],\n",
    "     [5, 2, 3]]\n",
    "\n",
    "b2 = [[1, 2, 3],\n",
    "     [1, 2, 4]]"
   ]
  },
  {
   "cell_type": "code",
   "execution_count": 35,
   "metadata": {
    "id": "8e-VhAjYIUmB"
   },
   "outputs": [],
   "source": [
    "def matmul(A, B):\n",
    "    \"\"\"Multiply matrix A by matrix B.\"\"\"\n",
    "    rows_out = len(A)\n",
    "    cols_out = len(B[0])\n",
    "    out = [[0 for col in range(cols_out)] for row in range(rows_out)]\n",
    "    \n",
    "    for i in range(rows_out):\n",
    "        for j in range(cols_out):\n",
    "            for k in range(len(B)):\n",
    "                out[i][j] += A[i][k] * B[k][j]\n",
    "    return out"
   ]
  },
  {
   "cell_type": "markdown",
   "metadata": {
    "id": "oKDcOvZFIUmE"
   },
   "source": [
    "<center><img src=\"images/gross.gif\" alt=\"Drawing\" style=\"width: 50%;\"/></center>\n"
   ]
  },
  {
   "cell_type": "code",
   "execution_count": 36,
   "metadata": {
    "colab": {
     "base_uri": "https://localhost:8080/"
    },
    "id": "BZAfZnjdIUmE",
    "outputId": "2820cb60-b958-404b-bd4c-b29e249b239a"
   },
   "outputs": [
    {
     "name": "stdout",
     "output_type": "stream",
     "text": [
      "Wall time: 0 ns\n"
     ]
    },
    {
     "data": {
      "text/plain": [
       "[[5, 8, 11, 14], [8, 13, 18, 23], [17, 28, 39, 50], [3, 5, 7, 9]]"
      ]
     },
     "execution_count": 36,
     "metadata": {},
     "output_type": "execute_result"
    }
   ],
   "source": [
    "%%time\n",
    "\n",
    "matmul(a, b)"
   ]
  },
  {
   "cell_type": "code",
   "execution_count": 37,
   "metadata": {
    "colab": {
     "base_uri": "https://localhost:8080/"
    },
    "id": "7bU0iMqNPDWE",
    "outputId": "4e8c560a-d496-4154-d4d2-f63ebd84d409"
   },
   "outputs": [
    {
     "name": "stdout",
     "output_type": "stream",
     "text": [
      "Wall time: 0 ns\n"
     ]
    },
    {
     "data": {
      "text/plain": [
       "[[3, 6, 11], [5, 10, 18], [7, 14, 23]]"
      ]
     },
     "execution_count": 37,
     "metadata": {},
     "output_type": "execute_result"
    }
   ],
   "source": [
    "%%time\n",
    "\n",
    "matmul(a2, b2)"
   ]
  },
  {
   "cell_type": "code",
   "execution_count": 38,
   "metadata": {
    "colab": {
     "base_uri": "https://localhost:8080/"
    },
    "id": "WKLvauOaIUmG",
    "outputId": "a1751f18-3043-4260-a374-fe7a21314bc6"
   },
   "outputs": [
    {
     "data": {
      "text/plain": [
       "[[0.4062880272336713, 0.6843761615190506, 0.10191537471135692],\n",
       " [0.5770288388662136, 0.599190983132029, 0.559414963285566]]"
      ]
     },
     "execution_count": 38,
     "metadata": {},
     "output_type": "execute_result"
    }
   ],
   "source": [
    "import random\n",
    "def random_matrix(m, n):\n",
    "    out = []\n",
    "    for row in range(m):\n",
    "        out.append([random.random() for _ in range(n)])\n",
    "    return out\n",
    "\n",
    "randm = random_matrix(2, 3)\n",
    "randm"
   ]
  },
  {
   "cell_type": "code",
   "execution_count": 39,
   "metadata": {
    "colab": {
     "base_uri": "https://localhost:8080/"
    },
    "id": "4Op4FBejPVsS",
    "outputId": "89b23f47-1aa0-4182-f1f8-23354047eb60"
   },
   "outputs": [
    {
     "data": {
      "text/plain": [
       "[[0.9126752243791495, 0.787349187684806, 0.7567479229009],\n",
       " [0.03064680606691117, 0.8888822373710992, 0.6528569718993195],\n",
       " [0.847556358022181, 0.9501800677488107, 0.5498638870663264]]"
      ]
     },
     "execution_count": 39,
     "metadata": {},
     "output_type": "execute_result"
    }
   ],
   "source": [
    "randm2 = random_matrix(3, 3)\n",
    "randm2"
   ]
  },
  {
   "cell_type": "code",
   "execution_count": 40,
   "metadata": {
    "colab": {
     "base_uri": "https://localhost:8080/"
    },
    "id": "C8XFCe1QIUmM",
    "outputId": "82f11f97-c6ea-466f-b79d-589b759a316d",
    "scrolled": true
   },
   "outputs": [
    {
     "name": "stdout",
     "output_type": "stream",
     "text": [
      "Wall time: 10.5 s\n"
     ]
    }
   ],
   "source": [
    "%%time\n",
    "randa = random_matrix(600, 100)\n",
    "randb = random_matrix(100, 600)\n",
    "x = matmul(randa, randb)"
   ]
  },
  {
   "cell_type": "code",
   "execution_count": 41,
   "metadata": {
    "colab": {
     "base_uri": "https://localhost:8080/"
    },
    "id": "HRu6wn89PgVC",
    "outputId": "5d08ef19-6958-4c2c-af5a-c288b290c162",
    "scrolled": true
   },
   "outputs": [
    {
     "name": "stdout",
     "output_type": "stream",
     "text": [
      "Wall time: 24.4 s\n"
     ]
    }
   ],
   "source": [
    "%%time\n",
    "randa2 = random_matrix(400,500)\n",
    "randb2 = random_matrix(500,400)\n",
    "x2 = matmul(randa2, randb2)"
   ]
  },
  {
   "cell_type": "code",
   "execution_count": 42,
   "metadata": {
    "id": "FqMMrblgIUmP"
   },
   "outputs": [],
   "source": [
    "# Maybe that's not that bad?  Let's try a simpler case.\n",
    "def python_dot_product(xs, ys):\n",
    "    return sum(x * y for x, y in zip(xs, ys))"
   ]
  },
  {
   "cell_type": "code",
   "execution_count": 43,
   "metadata": {
    "id": "y7-e3DIeIUmR"
   },
   "outputs": [
    {
     "ename": "RuntimeError",
     "evalue": "f2py failed, see output",
     "output_type": "error",
     "traceback": [
      "\u001b[1;31m---------------------------------------------------------------------------\u001b[0m",
      "\u001b[1;31mRuntimeError\u001b[0m                              Traceback (most recent call last)",
      "\u001b[1;32m<ipython-input-43-1c40dced47a1>\u001b[0m in \u001b[0;36m<module>\u001b[1;34m\u001b[0m\n\u001b[1;32m----> 1\u001b[1;33m \u001b[0mget_ipython\u001b[0m\u001b[1;33m(\u001b[0m\u001b[1;33m)\u001b[0m\u001b[1;33m.\u001b[0m\u001b[0mrun_cell_magic\u001b[0m\u001b[1;33m(\u001b[0m\u001b[1;34m'fortran'\u001b[0m\u001b[1;33m,\u001b[0m \u001b[1;34m''\u001b[0m\u001b[1;33m,\u001b[0m \u001b[1;34m'subroutine fortran_dot_product(xs, ys, result)\\n    double precision, intent(in) :: xs(:)\\n    double precision, intent(in) :: ys(:)\\n    double precision, intent(out) :: result\\n    \\n    result = sum(xs * ys)\\nend\\n'\u001b[0m\u001b[1;33m)\u001b[0m\u001b[1;33m\u001b[0m\u001b[1;33m\u001b[0m\u001b[0m\n\u001b[0m",
      "\u001b[1;32m~\\anaconda3\\lib\\site-packages\\IPython\\core\\interactiveshell.py\u001b[0m in \u001b[0;36mrun_cell_magic\u001b[1;34m(self, magic_name, line, cell)\u001b[0m\n\u001b[0;32m   2380\u001b[0m             \u001b[1;32mwith\u001b[0m \u001b[0mself\u001b[0m\u001b[1;33m.\u001b[0m\u001b[0mbuiltin_trap\u001b[0m\u001b[1;33m:\u001b[0m\u001b[1;33m\u001b[0m\u001b[1;33m\u001b[0m\u001b[0m\n\u001b[0;32m   2381\u001b[0m                 \u001b[0margs\u001b[0m \u001b[1;33m=\u001b[0m \u001b[1;33m(\u001b[0m\u001b[0mmagic_arg_s\u001b[0m\u001b[1;33m,\u001b[0m \u001b[0mcell\u001b[0m\u001b[1;33m)\u001b[0m\u001b[1;33m\u001b[0m\u001b[1;33m\u001b[0m\u001b[0m\n\u001b[1;32m-> 2382\u001b[1;33m                 \u001b[0mresult\u001b[0m \u001b[1;33m=\u001b[0m \u001b[0mfn\u001b[0m\u001b[1;33m(\u001b[0m\u001b[1;33m*\u001b[0m\u001b[0margs\u001b[0m\u001b[1;33m,\u001b[0m \u001b[1;33m**\u001b[0m\u001b[0mkwargs\u001b[0m\u001b[1;33m)\u001b[0m\u001b[1;33m\u001b[0m\u001b[1;33m\u001b[0m\u001b[0m\n\u001b[0m\u001b[0;32m   2383\u001b[0m             \u001b[1;32mreturn\u001b[0m \u001b[0mresult\u001b[0m\u001b[1;33m\u001b[0m\u001b[1;33m\u001b[0m\u001b[0m\n\u001b[0;32m   2384\u001b[0m \u001b[1;33m\u001b[0m\u001b[0m\n",
      "\u001b[1;32m<decorator-gen-120>\u001b[0m in \u001b[0;36mfortran\u001b[1;34m(self, line, cell)\u001b[0m\n",
      "\u001b[1;32m~\\anaconda3\\lib\\site-packages\\IPython\\core\\magic.py\u001b[0m in \u001b[0;36m<lambda>\u001b[1;34m(f, *a, **k)\u001b[0m\n\u001b[0;32m    185\u001b[0m     \u001b[1;31m# but it's overkill for just that one bit of state.\u001b[0m\u001b[1;33m\u001b[0m\u001b[1;33m\u001b[0m\u001b[1;33m\u001b[0m\u001b[0m\n\u001b[0;32m    186\u001b[0m     \u001b[1;32mdef\u001b[0m \u001b[0mmagic_deco\u001b[0m\u001b[1;33m(\u001b[0m\u001b[0marg\u001b[0m\u001b[1;33m)\u001b[0m\u001b[1;33m:\u001b[0m\u001b[1;33m\u001b[0m\u001b[1;33m\u001b[0m\u001b[0m\n\u001b[1;32m--> 187\u001b[1;33m         \u001b[0mcall\u001b[0m \u001b[1;33m=\u001b[0m \u001b[1;32mlambda\u001b[0m \u001b[0mf\u001b[0m\u001b[1;33m,\u001b[0m \u001b[1;33m*\u001b[0m\u001b[0ma\u001b[0m\u001b[1;33m,\u001b[0m \u001b[1;33m**\u001b[0m\u001b[0mk\u001b[0m\u001b[1;33m:\u001b[0m \u001b[0mf\u001b[0m\u001b[1;33m(\u001b[0m\u001b[1;33m*\u001b[0m\u001b[0ma\u001b[0m\u001b[1;33m,\u001b[0m \u001b[1;33m**\u001b[0m\u001b[0mk\u001b[0m\u001b[1;33m)\u001b[0m\u001b[1;33m\u001b[0m\u001b[1;33m\u001b[0m\u001b[0m\n\u001b[0m\u001b[0;32m    188\u001b[0m \u001b[1;33m\u001b[0m\u001b[0m\n\u001b[0;32m    189\u001b[0m         \u001b[1;32mif\u001b[0m \u001b[0mcallable\u001b[0m\u001b[1;33m(\u001b[0m\u001b[0marg\u001b[0m\u001b[1;33m)\u001b[0m\u001b[1;33m:\u001b[0m\u001b[1;33m\u001b[0m\u001b[1;33m\u001b[0m\u001b[0m\n",
      "\u001b[1;32m~\\anaconda3\\lib\\site-packages\\fortranmagic.py\u001b[0m in \u001b[0;36mfortran\u001b[1;34m(self, line, cell)\u001b[0m\n\u001b[0;32m    377\u001b[0m                              verbosity=args.verbosity)\n\u001b[0;32m    378\u001b[0m         \u001b[1;32mif\u001b[0m \u001b[0mres\u001b[0m \u001b[1;33m!=\u001b[0m \u001b[1;36m0\u001b[0m\u001b[1;33m:\u001b[0m\u001b[1;33m\u001b[0m\u001b[1;33m\u001b[0m\u001b[0m\n\u001b[1;32m--> 379\u001b[1;33m            \u001b[1;32mraise\u001b[0m \u001b[0mRuntimeError\u001b[0m\u001b[1;33m(\u001b[0m\u001b[1;34m\"f2py failed, see output\"\u001b[0m\u001b[1;33m)\u001b[0m\u001b[1;33m\u001b[0m\u001b[1;33m\u001b[0m\u001b[0m\n\u001b[0m\u001b[0;32m    380\u001b[0m \u001b[1;33m\u001b[0m\u001b[0m\n\u001b[0;32m    381\u001b[0m         \u001b[0mself\u001b[0m\u001b[1;33m.\u001b[0m\u001b[0m_code_cache\u001b[0m\u001b[1;33m[\u001b[0m\u001b[0mkey\u001b[0m\u001b[1;33m]\u001b[0m \u001b[1;33m=\u001b[0m \u001b[0mmodule_name\u001b[0m\u001b[1;33m\u001b[0m\u001b[1;33m\u001b[0m\u001b[0m\n",
      "\u001b[1;31mRuntimeError\u001b[0m: f2py failed, see output"
     ]
    }
   ],
   "source": [
    "%%fortran\n",
    "subroutine fortran_dot_product(xs, ys, result)\n",
    "    double precision, intent(in) :: xs(:)\n",
    "    double precision, intent(in) :: ys(:)\n",
    "    double precision, intent(out) :: result\n",
    "    \n",
    "    result = sum(xs * ys)\n",
    "end"
   ]
  },
  {
   "cell_type": "code",
   "execution_count": null,
   "metadata": {
    "id": "busrSXgNIUmV"
   },
   "outputs": [],
   "source": [
    "list_data = [float(i) for i in range(100000)]\n",
    "array_data = np.array(list_data)"
   ]
  },
  {
   "cell_type": "code",
   "execution_count": null,
   "metadata": {
    "id": "bfKGWI5tQ2ge"
   },
   "outputs": [],
   "source": [
    "list_data2 = [float(i) for i in range(500000)]\n",
    "array_data2 = np.array(list_data2)"
   ]
  },
  {
   "cell_type": "code",
   "execution_count": null,
   "metadata": {
    "colab": {
     "base_uri": "https://localhost:8080/"
    },
    "id": "JvG36SWBIUmX",
    "outputId": "b20d036f-097f-4d0e-c127-aae91905864d"
   },
   "outputs": [],
   "source": [
    "%%time\n",
    "python_dot_product(list_data, list_data)"
   ]
  },
  {
   "cell_type": "code",
   "execution_count": null,
   "metadata": {
    "colab": {
     "base_uri": "https://localhost:8080/"
    },
    "id": "B4cUzOm-Q9yf",
    "outputId": "c44bcb1e-ed80-4f21-df71-cda77f2f8025"
   },
   "outputs": [],
   "source": [
    "%%time\n",
    "python_dot_product(list_data2, list_data2)"
   ]
  },
  {
   "cell_type": "code",
   "execution_count": null,
   "metadata": {
    "colab": {
     "base_uri": "https://localhost:8080/"
    },
    "id": "kfEmfXjYIUmZ",
    "outputId": "01d8f94a-7a6a-4e28-ed55-1d86c5ff3c2b"
   },
   "outputs": [],
   "source": [
    "%%time\n",
    "fortran_dot_product(array_data, array_data)"
   ]
  },
  {
   "cell_type": "code",
   "execution_count": null,
   "metadata": {
    "colab": {
     "base_uri": "https://localhost:8080/"
    },
    "id": "PPiWYv1DRNC2",
    "outputId": "4e85d23e-0914-4ba2-a321-b1053f68e0af"
   },
   "outputs": [],
   "source": [
    "%%time\n",
    "fortran_dot_product(array_data2, array_data2)"
   ]
  },
  {
   "cell_type": "markdown",
   "metadata": {
    "id": "T-7I7QOWIUmb"
   },
   "source": [
    "<center><img src=\"images/sloth.gif\" alt=\"Drawing\" style=\"width: 1080px;\"/></center>\n"
   ]
  },
  {
   "cell_type": "markdown",
   "metadata": {
    "id": "EeAMkH2dIUmb"
   },
   "source": [
    "## Why is the Python Version so Much Slower?"
   ]
  },
  {
   "cell_type": "code",
   "execution_count": null,
   "metadata": {
    "colab": {
     "base_uri": "https://localhost:8080/"
    },
    "id": "I17msW6rIUmc",
    "outputId": "cfdf2eee-19bd-4a0a-9c4d-2ae7dacb4069"
   },
   "outputs": [],
   "source": [
    "# Dynamic typing.\n",
    "def mul_elemwise(xs, ys):\n",
    "    return [x * y for x, y in zip(xs, ys)]\n",
    "\n",
    "mul_elemwise([1, 2, 3, 4], [1, 2 + 0j, 3.0, 'four'])\n",
    "#[type(x) for x in _]"
   ]
  },
  {
   "cell_type": "code",
   "execution_count": null,
   "metadata": {
    "colab": {
     "base_uri": "https://localhost:8080/"
    },
    "id": "tqMVUdOVTCcU",
    "outputId": "ad831544-9f41-48dc-85c6-b98c66e10406"
   },
   "outputs": [],
   "source": [
    "[type(x) for x in _]"
   ]
  },
  {
   "cell_type": "code",
   "execution_count": null,
   "metadata": {
    "colab": {
     "base_uri": "https://localhost:8080/"
    },
    "id": "oHK3MdyxR7Lg",
    "outputId": "051e7080-ec90-44e2-dfac-6b96ffd8e2d0"
   },
   "outputs": [],
   "source": [
    "mul_elemwise([3, 2, 3, 4], [\"tres\",73,2+10.1,3.4])\n"
   ]
  },
  {
   "cell_type": "code",
   "execution_count": null,
   "metadata": {
    "colab": {
     "base_uri": "https://localhost:8080/"
    },
    "id": "VcLUIbhSIUme",
    "outputId": "8f564b13-5e23-486c-c6f1-cd1a1dde62fc"
   },
   "outputs": [],
   "source": [
    "# Interpretation overhead.\n",
    "source_code = 'a + b * c'\n",
    "bytecode = compile(source_code, '', 'eval')\n",
    "import dis; dis.dis(bytecode)"
   ]
  },
  {
   "cell_type": "code",
   "execution_count": null,
   "metadata": {
    "colab": {
     "base_uri": "https://localhost:8080/"
    },
    "id": "pz1dnT48UQrd",
    "outputId": "b4aa52e4-05ef-41ec-aead-1e1e100bddb5"
   },
   "outputs": [],
   "source": [
    "source_code2 = 'a**b'\n",
    "bytecode2 = compile(source_code2, '', 'eval')\n",
    "dis.dis(bytecode2)"
   ]
  },
  {
   "cell_type": "markdown",
   "metadata": {
    "id": "BAYt66a9IUmg"
   },
   "source": [
    "## Why is the Python Version so Slow?\n",
    "- Dynamic typing means that every single operation requires dispatching on the input type.\n",
    "- Having an interpreter means that every instruction is fetched and dispatched at runtime.\n",
    "- Other overheads:\n",
    "  - Arbitrary-size integers.\n",
    "  - Reference-counted garbage collection."
   ]
  },
  {
   "cell_type": "markdown",
   "metadata": {
    "id": "uvGkPFEDIUmh"
   },
   "source": [
    "> This is the paradox that we have to work with when we're doing scientific or numerically-intensive Python. What makes Python fast for development -- this high-level, interpreted, and dynamically-typed aspect of the language -- is exactly what makes it slow for code execution.\n",
    "\n",
    "- Jake VanderPlas, [*Losing Your Loops: Fast Numerical Computing with NumPy*](https://www.youtube.com/watch?v=EEUXKG97YRw)"
   ]
  },
  {
   "cell_type": "markdown",
   "metadata": {
    "id": "EsAht_SjIUmh"
   },
   "source": [
    "# What Do We Do?"
   ]
  },
  {
   "cell_type": "markdown",
   "metadata": {
    "id": "bzQE4FieIUmh"
   },
   "source": [
    "<center><img src=\"images/runaway.gif\" alt=\"Drawing\" style=\"width: 50%;\"/></center>"
   ]
  },
  {
   "cell_type": "markdown",
   "metadata": {
    "id": "N_OR4Ej5IUmi"
   },
   "source": [
    "<center><img src=\"images/thisisfine.gif\" alt=\"Drawing\" style=\"width: 1080px;\"/></center>"
   ]
  },
  {
   "cell_type": "markdown",
   "metadata": {
    "id": "QzXAR7csIUmi"
   },
   "source": [
    "- Python is slow for numerical computation because it performs dynamic dispatch on every operation we perform..."
   ]
  },
  {
   "cell_type": "markdown",
   "metadata": {
    "collapsed": true,
    "id": "YPo2FojsIUmi"
   },
   "source": [
    "- ...but often, we just want to do the same thing over and over in a loop!"
   ]
  },
  {
   "cell_type": "markdown",
   "metadata": {
    "id": "JZC5ypy9IUmj"
   },
   "source": [
    "- If we don't need Python's dynamicism, we don't want to pay (much) for it."
   ]
  },
  {
   "cell_type": "markdown",
   "metadata": {
    "id": "-yOEcJ2CIUmj"
   },
   "source": [
    "- **Idea:** Dispatch **once per operation** instead of **once per element**."
   ]
  },
  {
   "cell_type": "code",
   "execution_count": null,
   "metadata": {
    "colab": {
     "base_uri": "https://localhost:8080/"
    },
    "id": "IflXx9HFIUmj",
    "outputId": "bc031fa6-8dc3-442f-ca51-4cb701f11653"
   },
   "outputs": [],
   "source": [
    "import numpy as np\n",
    "\n",
    "data = np.array([1, 2, 3, 4])\n",
    "data"
   ]
  },
  {
   "cell_type": "code",
   "execution_count": null,
   "metadata": {
    "colab": {
     "base_uri": "https://localhost:8080/"
    },
    "id": "Q1Drnf35VHcO",
    "outputId": "be0edf02-590c-4b07-9187-74aadfa825ad"
   },
   "outputs": [],
   "source": [
    "data2 = np.array([3,4,5,6,7,8])\n",
    "data2"
   ]
  },
  {
   "cell_type": "code",
   "execution_count": null,
   "metadata": {
    "colab": {
     "base_uri": "https://localhost:8080/"
    },
    "id": "NFCYoWKkIUml",
    "outputId": "06c7717f-2322-4da9-e8db-f72d0ba86f5a"
   },
   "outputs": [],
   "source": [
    "data + data"
   ]
  },
  {
   "cell_type": "code",
   "execution_count": null,
   "metadata": {
    "colab": {
     "base_uri": "https://localhost:8080/"
    },
    "id": "tXiXTPZwVPvt",
    "outputId": "3d7a1984-984c-4e03-fb5f-c72e3da6827e"
   },
   "outputs": [],
   "source": [
    "data2 + data2"
   ]
  },
  {
   "cell_type": "code",
   "execution_count": null,
   "metadata": {
    "colab": {
     "base_uri": "https://localhost:8080/"
    },
    "id": "OcXfQlmnIUmn",
    "outputId": "6daaf848-0d2c-4a80-cf04-e50136b13b4c"
   },
   "outputs": [],
   "source": [
    "%%time\n",
    "# Naive dot product\n",
    "(array_data * array_data).sum()"
   ]
  },
  {
   "cell_type": "code",
   "execution_count": null,
   "metadata": {
    "colab": {
     "base_uri": "https://localhost:8080/"
    },
    "id": "w6_Ef78oVWC-",
    "outputId": "4c6368a9-90b5-43f1-ddc5-552229ce51bb"
   },
   "outputs": [],
   "source": [
    "%%time\n",
    "\n",
    "(array_data2 * array_data2).sum()"
   ]
  },
  {
   "cell_type": "code",
   "execution_count": null,
   "metadata": {
    "colab": {
     "base_uri": "https://localhost:8080/"
    },
    "id": "nYuBC-_3IUmq",
    "outputId": "47b992cb-354f-4901-9339-73b05c4d0912"
   },
   "outputs": [],
   "source": [
    "%%time\n",
    "# Built-in dot product.\n",
    "array_data.dot(array_data)"
   ]
  },
  {
   "cell_type": "code",
   "execution_count": null,
   "metadata": {
    "colab": {
     "base_uri": "https://localhost:8080/"
    },
    "id": "udMiVWOVVg0X",
    "outputId": "ea70c4f0-132d-44b5-a7f6-2a082d6effe4"
   },
   "outputs": [],
   "source": [
    "%%time\n",
    "\n",
    "array_data2.dot(array_data2)"
   ]
  },
  {
   "cell_type": "code",
   "execution_count": null,
   "metadata": {
    "colab": {
     "base_uri": "https://localhost:8080/"
    },
    "id": "0E20YwXMIUms",
    "outputId": "ed7d16c1-0913-4635-977e-7e846bf25469"
   },
   "outputs": [],
   "source": [
    "%%time\n",
    "fortran_dot_product(array_data, array_data)"
   ]
  },
  {
   "cell_type": "code",
   "execution_count": null,
   "metadata": {
    "colab": {
     "base_uri": "https://localhost:8080/"
    },
    "id": "hPvdOJ34XYBC",
    "outputId": "0c0d1eaa-de5d-4326-e45c-e6783c6b5622"
   },
   "outputs": [],
   "source": [
    "%%time\n",
    "fortran_dot_product(array_data2, array_data2)"
   ]
  },
  {
   "cell_type": "code",
   "execution_count": null,
   "metadata": {
    "colab": {
     "base_uri": "https://localhost:8080/"
    },
    "id": "VeLRhGl8IUmu",
    "outputId": "92619abb-cec2-440b-d688-7cd6436d6033"
   },
   "outputs": [],
   "source": [
    "# Numpy won't allow us to write a string into an int array.\n",
    "print(\"data[0] ='foo' > ValueError: invalid literal for int() with base 10: 'foo'\" )"
   ]
  },
  {
   "cell_type": "code",
   "execution_count": null,
   "metadata": {
    "colab": {
     "base_uri": "https://localhost:8080/"
    },
    "id": "JZ5DO0dpXfaZ",
    "outputId": "02410c5d-8b88-4dba-bbff-e0d8c20a2746"
   },
   "outputs": [],
   "source": [
    "print('data[3] = \"notString\" > ValueError: invalid literal for int() with base 10: \"notString\"')"
   ]
  },
  {
   "cell_type": "code",
   "execution_count": null,
   "metadata": {
    "colab": {
     "base_uri": "https://localhost:8080/"
    },
    "id": "LwiJ17gLIUmw",
    "outputId": "cccb3f15-0a0a-47d9-94b7-6a384ef4a4b0"
   },
   "outputs": [],
   "source": [
    "# We also can't grow an array once it's created.\n",
    "print(\" data.append(3) > AttributeError: 'numpy.ndarray' object has no attribute 'append'\")"
   ]
  },
  {
   "cell_type": "code",
   "execution_count": null,
   "metadata": {
    "colab": {
     "base_uri": "https://localhost:8080/"
    },
    "id": "MT6-m7JEXqiZ",
    "outputId": "3fee9103-1153-4291-d85b-a1af7638ab10"
   },
   "outputs": [],
   "source": [
    "print(\" data2.append(34) > AttributeError: 'numpy.ndarray' object has no attribute 'append'\")"
   ]
  },
  {
   "cell_type": "code",
   "execution_count": null,
   "metadata": {
    "colab": {
     "base_uri": "https://localhost:8080/"
    },
    "id": "cS8K_u0qIUmx",
    "outputId": "5723bffd-151d-490e-c3a5-aa90a258941f"
   },
   "outputs": [],
   "source": [
    "# We **can** reshape an array though.\n",
    "two_by_two = data.reshape(2, 2)\n",
    "two_by_two"
   ]
  },
  {
   "cell_type": "code",
   "execution_count": null,
   "metadata": {
    "colab": {
     "base_uri": "https://localhost:8080/"
    },
    "id": "KFiBZnSSX0H6",
    "outputId": "db80fc7b-2fd7-471e-d44a-a1a3ec807dad"
   },
   "outputs": [],
   "source": [
    "d2resh = data2.reshape(3, 2)\n",
    "d2resh"
   ]
  },
  {
   "cell_type": "markdown",
   "metadata": {
    "id": "vw13moicIUm0"
   },
   "source": [
    "Numpy arrays are:\n",
    "\n",
    "- Fixed-type"
   ]
  },
  {
   "cell_type": "markdown",
   "metadata": {
    "id": "j6n_gF3MIUm0"
   },
   "source": [
    "- Size-immutable"
   ]
  },
  {
   "cell_type": "markdown",
   "metadata": {
    "id": "5tbZKdIqIUm1"
   },
   "source": [
    "- Multi-dimensional"
   ]
  },
  {
   "cell_type": "markdown",
   "metadata": {
    "id": "jmfabevlIUm1"
   },
   "source": [
    "- Fast\\*"
   ]
  },
  {
   "cell_type": "markdown",
   "metadata": {
    "id": "BWWq5WT5IUm2"
   },
   "source": [
    "\\* If you use them correctly."
   ]
  },
  {
   "cell_type": "markdown",
   "metadata": {
    "id": "bFlT-5GQIUm2"
   },
   "source": [
    "# What's in an Array?"
   ]
  },
  {
   "cell_type": "code",
   "execution_count": null,
   "metadata": {
    "colab": {
     "base_uri": "https://localhost:8080/"
    },
    "id": "NdXmsbx6IUm2",
    "outputId": "03386ab1-ed25-46d4-fffd-f7d1a1cf0671"
   },
   "outputs": [],
   "source": [
    "arr = np.array([1, 2, 3, 4, 5, 6], dtype='int16').reshape(2, 3)\n",
    "print(\"Array:\\n\", arr, sep='')\n",
    "print(\"===========\")\n",
    "print(\"DType:\", arr.dtype)\n",
    "print(\"Shape:\", arr.shape)\n",
    "print(\"Strides:\", arr.strides)\n",
    "print(\"Data:\", arr.data.tobytes())"
   ]
  },
  {
   "cell_type": "code",
   "execution_count": null,
   "metadata": {
    "colab": {
     "base_uri": "https://localhost:8080/"
    },
    "id": "4XoGHp2qYGms",
    "outputId": "5dff9c71-a76e-4937-b594-0a2f7fd77970"
   },
   "outputs": [],
   "source": [
    "arr2 = np.array([10,20,30,40,50,55,1,2,3], dtype='int16').reshape(3, 3)\n",
    "print(\"Array:\\n\", arr2, sep='')\n",
    "print(\"===========\")\n",
    "print(\"DType:\", arr2.dtype)\n",
    "print(\"Shape:\", arr2.shape)\n",
    "print(\"Strides:\", arr2.strides)\n",
    "print(\"Data:\", arr2.data.tobytes())"
   ]
  },
  {
   "cell_type": "markdown",
   "metadata": {
    "id": "YAypV-uUIUm5"
   },
   "source": [
    "# Core Operations\n",
    "\n",
    "- Vectorized **ufuncs** for elementwise operations.\n",
    "- Fancy indexing and masking for selection and filtering.\n",
    "- Aggregations across axes.\n",
    "- Broadcasting"
   ]
  },
  {
   "cell_type": "markdown",
   "metadata": {
    "id": "84vtSl3gIUm6"
   },
   "source": [
    "# UFuncs\n",
    "\n",
    "UFuncs (universal functions) are functions that operate elementwise on one or more arrays."
   ]
  },
  {
   "cell_type": "code",
   "execution_count": null,
   "metadata": {
    "colab": {
     "base_uri": "https://localhost:8080/"
    },
    "id": "37ObQbiBIUm6",
    "outputId": "d78c5f4d-7049-4625-9b23-a7377e22f1e9"
   },
   "outputs": [],
   "source": [
    "data = np.arange(15).reshape(3, 5)\n",
    "data"
   ]
  },
  {
   "cell_type": "code",
   "execution_count": null,
   "metadata": {
    "colab": {
     "base_uri": "https://localhost:8080/"
    },
    "id": "SJI2052DYrBF",
    "outputId": "796c9189-eb0d-4eb5-b8f5-cb582a176fd1"
   },
   "outputs": [],
   "source": [
    "data2 = np.arange(9).reshape(3, 3)\n",
    "data2"
   ]
  },
  {
   "cell_type": "code",
   "execution_count": null,
   "metadata": {
    "colab": {
     "base_uri": "https://localhost:8080/"
    },
    "id": "aCX__CsXIUm8",
    "outputId": "abe62226-f900-43bb-a4d5-b45191e0c831"
   },
   "outputs": [],
   "source": [
    "# Binary operators.\n",
    "data * data"
   ]
  },
  {
   "cell_type": "code",
   "execution_count": null,
   "metadata": {
    "colab": {
     "base_uri": "https://localhost:8080/"
    },
    "id": "knycuAQPY6Bc",
    "outputId": "c1583b7b-8e93-4556-b02e-39a0a3cc34e6"
   },
   "outputs": [],
   "source": [
    "data2 * data2"
   ]
  },
  {
   "cell_type": "code",
   "execution_count": null,
   "metadata": {
    "colab": {
     "base_uri": "https://localhost:8080/"
    },
    "id": "2xJTyQWbIUm_",
    "outputId": "71b69b99-5c80-4279-fbd8-4a81fe55eeaf"
   },
   "outputs": [],
   "source": [
    "# Unary functions.\n",
    "np.sqrt(data)"
   ]
  },
  {
   "cell_type": "code",
   "execution_count": null,
   "metadata": {
    "colab": {
     "base_uri": "https://localhost:8080/"
    },
    "id": "JFFDFb-MZA4k",
    "outputId": "9bfc047b-2e0b-40d2-833b-96a46a784cd6"
   },
   "outputs": [],
   "source": [
    "# Unary functions.\n",
    "np.sqrt(data2)"
   ]
  },
  {
   "cell_type": "code",
   "execution_count": null,
   "metadata": {
    "colab": {
     "base_uri": "https://localhost:8080/"
    },
    "id": "49U5XMCsIUnB",
    "outputId": "d75d8872-2a05-427d-ee40-83e4bc0467f1"
   },
   "outputs": [],
   "source": [
    "# Comparison operations\n",
    "(data % 3) == 0"
   ]
  },
  {
   "cell_type": "code",
   "execution_count": null,
   "metadata": {
    "colab": {
     "base_uri": "https://localhost:8080/"
    },
    "id": "06mJELkHZKdG",
    "outputId": "a3992439-f6d1-49b2-9025-d1eff18bf881"
   },
   "outputs": [],
   "source": [
    "# Comparison operations\n",
    "data2 !=3"
   ]
  },
  {
   "cell_type": "code",
   "execution_count": null,
   "metadata": {
    "colab": {
     "base_uri": "https://localhost:8080/"
    },
    "id": "0b5cnWNKIUnD",
    "outputId": "c90a9dcd-4470-472d-9de8-3d0fa06818f2"
   },
   "outputs": [],
   "source": [
    "# Boolean combinators.\n",
    "((data % 2) == 0) & ((data % 3) == 0)"
   ]
  },
  {
   "cell_type": "code",
   "execution_count": null,
   "metadata": {
    "colab": {
     "base_uri": "https://localhost:8080/"
    },
    "id": "z3sJyZPFZa9e",
    "outputId": "a8b7ba41-23a3-496d-b57e-17cd24fa7683"
   },
   "outputs": [],
   "source": [
    "((data2 % 2) == 0) | ((data2 % 3) == 0)"
   ]
  },
  {
   "cell_type": "code",
   "execution_count": null,
   "metadata": {
    "colab": {
     "base_uri": "https://localhost:8080/"
    },
    "id": "gqv6faQUIUnE",
    "outputId": "fe6b94a6-245c-4b64-e31a-3c210ac01930"
   },
   "outputs": [],
   "source": [
    "# as of python 3.5, @ is matrix-multiply\n",
    "data @ data.T"
   ]
  },
  {
   "cell_type": "code",
   "execution_count": null,
   "metadata": {
    "colab": {
     "base_uri": "https://localhost:8080/"
    },
    "id": "T7yQQFzJaR4f",
    "outputId": "f1b6c1a2-af55-4cc0-aad5-b8e6a445ec96"
   },
   "outputs": [],
   "source": [
    "data2 @ data2.T"
   ]
  },
  {
   "cell_type": "markdown",
   "metadata": {
    "id": "a3vLKFotIUnH"
   },
   "source": [
    "# UFuncs Review\n",
    "\n",
    "- UFuncs provide efficient elementwise operations applied across one or more arrays.\n",
    "- Arithmetic Operators (`+`, `*`, `/`)\n",
    "- Comparisons (`==`, `>`, `!=`)\n",
    "- Boolean Operators (`&`, `|`, `^`)\n",
    "- Trigonometric Functions (`sin`, `cos`)\n",
    "- Transcendental Functions (`exp`, `log`)"
   ]
  },
  {
   "cell_type": "markdown",
   "metadata": {
    "id": "8v1mMQaNIUnH"
   },
   "source": [
    "# Selections"
   ]
  },
  {
   "cell_type": "markdown",
   "metadata": {
    "id": "HwX8BKGtIUnH"
   },
   "source": [
    "We often want to perform an operation on just a subset of our data."
   ]
  },
  {
   "cell_type": "code",
   "execution_count": null,
   "metadata": {
    "colab": {
     "base_uri": "https://localhost:8080/"
    },
    "id": "5PUxnEjdIUnH",
    "outputId": "10f89078-009a-4dce-c618-9aa26a2d9392"
   },
   "outputs": [],
   "source": [
    "sines = np.sin(np.linspace(0, 3.14, 10))\n",
    "cosines = np.cos(np.linspace(0, 3.14, 10))\n",
    "sines"
   ]
  },
  {
   "cell_type": "code",
   "execution_count": null,
   "metadata": {
    "colab": {
     "base_uri": "https://localhost:8080/"
    },
    "id": "1QjaXaJbbbmC",
    "outputId": "2f1eb1a6-024b-48e0-d67b-dafa04ff8247"
   },
   "outputs": [],
   "source": [
    "tang =  np.tan(np.linspace(0, 3.14, 5))\n",
    "cosines2 = np.cos(np.linspace(0, 3.14, 5))\n",
    "tang"
   ]
  },
  {
   "cell_type": "code",
   "execution_count": null,
   "metadata": {
    "colab": {
     "base_uri": "https://localhost:8080/"
    },
    "id": "jFkw_t1TIUnJ",
    "outputId": "bf3194b2-9d6b-461e-c7ad-62ecac95fb7f"
   },
   "outputs": [],
   "source": [
    "# Slicing works with the same semantics as Python lists.\n",
    "sines[0]"
   ]
  },
  {
   "cell_type": "code",
   "execution_count": null,
   "metadata": {
    "colab": {
     "base_uri": "https://localhost:8080/"
    },
    "id": "kRSNA0dzcDdT",
    "outputId": "02498aad-3c80-4d44-f8b6-a83fa1d7a5ca"
   },
   "outputs": [],
   "source": [
    "cosines[0]"
   ]
  },
  {
   "cell_type": "code",
   "execution_count": null,
   "metadata": {
    "colab": {
     "base_uri": "https://localhost:8080/"
    },
    "id": "-DNe3x4cIUnK",
    "outputId": "16f23163-e962-49b5-df99-aec277798c67"
   },
   "outputs": [],
   "source": [
    "sines[:3]  # First three elements  "
   ]
  },
  {
   "cell_type": "code",
   "execution_count": null,
   "metadata": {
    "colab": {
     "base_uri": "https://localhost:8080/"
    },
    "id": "wsKsRGBZcLGy",
    "outputId": "6e76d06e-f971-445f-d6e8-18eaed46e7db"
   },
   "outputs": [],
   "source": [
    "cosines[:4]  "
   ]
  },
  {
   "cell_type": "code",
   "execution_count": null,
   "metadata": {
    "colab": {
     "base_uri": "https://localhost:8080/"
    },
    "id": "fjIrz9LIIUnN",
    "outputId": "18553d2e-198b-4466-bb8e-3a59b8f8c208"
   },
   "outputs": [],
   "source": [
    "sines[5:]  # Elements from 5 on."
   ]
  },
  {
   "cell_type": "code",
   "execution_count": null,
   "metadata": {
    "colab": {
     "base_uri": "https://localhost:8080/"
    },
    "id": "XCNKTXzjcQZ6",
    "outputId": "b50f48e7-27ec-4ef5-f9e0-90ed6c18238f"
   },
   "outputs": [],
   "source": [
    "cosines2[3:]  "
   ]
  },
  {
   "cell_type": "code",
   "execution_count": null,
   "metadata": {
    "colab": {
     "base_uri": "https://localhost:8080/"
    },
    "id": "DjDc1Qj8IUnQ",
    "outputId": "a5d370f7-0d8e-4676-ca9d-0c65d005275b"
   },
   "outputs": [],
   "source": [
    "sines[::2]  # Every other element."
   ]
  },
  {
   "cell_type": "code",
   "execution_count": null,
   "metadata": {
    "colab": {
     "base_uri": "https://localhost:8080/"
    },
    "id": "bZUPaBILccR6",
    "outputId": "e900ce84-eab4-431e-d121-36f961f32437"
   },
   "outputs": [],
   "source": [
    "cosines[::2]  "
   ]
  },
  {
   "cell_type": "code",
   "execution_count": null,
   "metadata": {
    "colab": {
     "base_uri": "https://localhost:8080/"
    },
    "id": "khJtMM4mIUnR",
    "outputId": "629b7267-72db-48e2-d779-f88a00d8d889"
   },
   "outputs": [],
   "source": [
    "# More interesting: we can index with boolean arrays to filter by a predicate.\n",
    "print(\"sines:\\n\", sines)\n",
    "print(\"sines > 0.5:\\n\", sines > 0.5)\n",
    "print(\"sines[sines > 0.5]:\\n\", sines[sines > 0.5])"
   ]
  },
  {
   "cell_type": "code",
   "execution_count": null,
   "metadata": {
    "colab": {
     "base_uri": "https://localhost:8080/"
    },
    "id": "lCzKTqS7craD",
    "outputId": "96e1e011-fc5e-408c-c7b7-5107bc5041cb"
   },
   "outputs": [],
   "source": [
    "print(\"cosines:\\n\", cosines)\n",
    "print(\"cosines > 0.3:\\n\", cosines > 0.3)\n",
    "print(\"cosines[sines > 0.3]:\\n\", cosines[cosines > 0.3])"
   ]
  },
  {
   "cell_type": "code",
   "execution_count": null,
   "metadata": {
    "colab": {
     "base_uri": "https://localhost:8080/"
    },
    "id": "FtEHgOgFIUnT",
    "outputId": "7a2ab9f2-8b45-458f-d7f0-eac5b870c9fa"
   },
   "outputs": [],
   "source": [
    "# We index with lists/arrays of integers to select values at those indices.\n",
    "print(sines)\n",
    "sines[[0, 4, 7]]"
   ]
  },
  {
   "cell_type": "code",
   "execution_count": null,
   "metadata": {
    "colab": {
     "base_uri": "https://localhost:8080/"
    },
    "id": "Olzs0JeVc7Zj",
    "outputId": "bc178fa8-77d7-4c3c-baa5-d10f43e319b9"
   },
   "outputs": [],
   "source": [
    "# We index with lists/arrays of integers to select values at those indices.\n",
    "print(cosines)\n",
    "cosines[[0,2,3,5,7,8]]"
   ]
  },
  {
   "cell_type": "code",
   "execution_count": null,
   "metadata": {
    "id": "N15GTHPyIUnU"
   },
   "outputs": [],
   "source": [
    "# Index arrays are often used for sorting one or more arrays.\n",
    "unsorted_data = np.array([1, 3, 2, 12, -1, 5, 2])"
   ]
  },
  {
   "cell_type": "code",
   "execution_count": null,
   "metadata": {
    "id": "5iBEXqsTdRte"
   },
   "outputs": [],
   "source": [
    "desord2 = np.array([5,31,45,6,-12,2-3])"
   ]
  },
  {
   "cell_type": "code",
   "execution_count": null,
   "metadata": {
    "colab": {
     "base_uri": "https://localhost:8080/"
    },
    "id": "2jUjojNFIUnW",
    "outputId": "358d435e-29b8-404c-d4d3-05caee5ca707"
   },
   "outputs": [],
   "source": [
    "sort_indices = np.argsort(unsorted_data)\n",
    "sort_indices"
   ]
  },
  {
   "cell_type": "code",
   "execution_count": null,
   "metadata": {
    "colab": {
     "base_uri": "https://localhost:8080/"
    },
    "id": "_zVR4mv5deG1",
    "outputId": "47dedb70-4045-43f5-9a0c-05099724853d"
   },
   "outputs": [],
   "source": [
    "sort = np.argsort(desord2)\n",
    "sort"
   ]
  },
  {
   "cell_type": "code",
   "execution_count": null,
   "metadata": {
    "colab": {
     "base_uri": "https://localhost:8080/"
    },
    "id": "LDIsp5adIUnX",
    "outputId": "e1e2d7c9-cc9a-458c-c184-8baab48607a3"
   },
   "outputs": [],
   "source": [
    "unsorted_data[sort_indices]"
   ]
  },
  {
   "cell_type": "code",
   "execution_count": null,
   "metadata": {
    "colab": {
     "base_uri": "https://localhost:8080/"
    },
    "id": "luYUNb5vdwJd",
    "outputId": "98d648f8-82a2-4576-f3c3-96a53ca22d04"
   },
   "outputs": [],
   "source": [
    "desord2[sort]"
   ]
  },
  {
   "cell_type": "code",
   "execution_count": null,
   "metadata": {
    "id": "UprwxUtlIUnZ"
   },
   "outputs": [],
   "source": [
    "market_caps = np.array([12, 6, 10, 5, 6])  # Presumably in dollars?\n",
    "assets = np.array(['A', 'B', 'C', 'D', 'E'])"
   ]
  },
  {
   "cell_type": "code",
   "execution_count": null,
   "metadata": {
    "id": "6qNbL4MgeE2V"
   },
   "outputs": [],
   "source": [
    "nums = np.array([15,23,46,2,1,-2,-98])  \n",
    "assets2 = np.array(['A', 'B', 'C', 'D', 'E','F','G'])"
   ]
  },
  {
   "cell_type": "code",
   "execution_count": null,
   "metadata": {
    "colab": {
     "base_uri": "https://localhost:8080/"
    },
    "id": "2iJXCbHTIUnb",
    "outputId": "d39d536e-a726-4cdd-81f3-39e682b08029"
   },
   "outputs": [],
   "source": [
    "# Sort assets by market cap by using the permutation that would sort market caps on ``assets``.\n",
    "sort_by_mcap = np.argsort(market_caps)\n",
    "assets[sort_by_mcap]"
   ]
  },
  {
   "cell_type": "code",
   "execution_count": null,
   "metadata": {
    "colab": {
     "base_uri": "https://localhost:8080/"
    },
    "id": "fKRGYoyleRNu",
    "outputId": "16572fef-4d14-401a-88a0-6873aed0bca6"
   },
   "outputs": [],
   "source": [
    "sort_by_num = np.argsort(nums)\n",
    "assets2[sort_by_num]"
   ]
  },
  {
   "cell_type": "code",
   "execution_count": null,
   "metadata": {
    "colab": {
     "base_uri": "https://localhost:8080/"
    },
    "id": "Ga7Lf6_0IUnc",
    "outputId": "24b5aaec-2b67-4969-bce2-7941980ac8d0",
    "scrolled": true
   },
   "outputs": [],
   "source": [
    "# Indexers are also useful for aligning data.\n",
    "print(\"Dates:\\n\", repr(event_dates))\n",
    "print(\"Values:\\n\", repr(event_values))\n",
    "print(\"Calendar:\\n\", repr(calendar))"
   ]
  },
  {
   "cell_type": "code",
   "execution_count": null,
   "metadata": {
    "colab": {
     "base_uri": "https://localhost:8080/"
    },
    "id": "AcDO0hGSIUne",
    "outputId": "f02739b9-179d-4b5c-a38f-d2b42c6abe17"
   },
   "outputs": [],
   "source": [
    "print(\"Raw Dates:\", event_dates)\n",
    "print(\"Indices:\", calendar.searchsorted(event_dates))\n",
    "print(\"Forward-Filled Dates:\", calendar[calendar.searchsorted(event_dates)])"
   ]
  },
  {
   "cell_type": "markdown",
   "metadata": {
    "id": "nn9a5_QWIUng"
   },
   "source": [
    "On multi-dimensional arrays, we can slice along each axis independently."
   ]
  },
  {
   "cell_type": "code",
   "execution_count": null,
   "metadata": {
    "colab": {
     "base_uri": "https://localhost:8080/"
    },
    "id": "scdJKWZUIUng",
    "outputId": "4b054bae-1e5e-49c9-ade9-c20d8f1fc008"
   },
   "outputs": [],
   "source": [
    "data = np.arange(25).reshape(5, 5)\n",
    "data"
   ]
  },
  {
   "cell_type": "code",
   "execution_count": null,
   "metadata": {
    "colab": {
     "base_uri": "https://localhost:8080/"
    },
    "id": "iAjpl7mAfiET",
    "outputId": "27f0a0e5-c9a4-4ff1-bcdd-9f04bd5923fb"
   },
   "outputs": [],
   "source": [
    "data2 = np.arange(16).reshape(4,4)\n",
    "data2"
   ]
  },
  {
   "cell_type": "code",
   "execution_count": null,
   "metadata": {
    "colab": {
     "base_uri": "https://localhost:8080/"
    },
    "id": "PpX-3F5TIUni",
    "outputId": "1092d1e1-c7fc-4f86-a235-78d647db3b1c"
   },
   "outputs": [],
   "source": [
    "data[:2, :2]  # First two rows and first two columns."
   ]
  },
  {
   "cell_type": "code",
   "execution_count": null,
   "metadata": {
    "colab": {
     "base_uri": "https://localhost:8080/"
    },
    "id": "qBnH_AW8fvLx",
    "outputId": "14b4f2bb-0ffb-4fdf-8ca8-5f2e7f6371cd"
   },
   "outputs": [],
   "source": [
    "data2[:3, :3]  "
   ]
  },
  {
   "cell_type": "code",
   "execution_count": null,
   "metadata": {
    "colab": {
     "base_uri": "https://localhost:8080/"
    },
    "id": "wjRpfidpIUnj",
    "outputId": "6d1b606a-0d27-467e-ce88-85f5661dc618"
   },
   "outputs": [],
   "source": [
    "data[:2, [0, -1]]  # First two rows, first and last columns."
   ]
  },
  {
   "cell_type": "code",
   "execution_count": null,
   "metadata": {
    "colab": {
     "base_uri": "https://localhost:8080/"
    },
    "id": "_8BtDhM8f4Cg",
    "outputId": "e80d8b7e-def5-434c-ba8c-897d1b33df59"
   },
   "outputs": [],
   "source": [
    "data2[:3, [0, -2]] "
   ]
  },
  {
   "cell_type": "code",
   "execution_count": null,
   "metadata": {
    "colab": {
     "base_uri": "https://localhost:8080/"
    },
    "id": "Jo5jM-bzIUnk",
    "outputId": "e1daafa8-43c9-4c54-b20f-20661c3f3b3c"
   },
   "outputs": [],
   "source": [
    "data[(data[:, 0] % 2) == 0]  # Rows where the first column is divisible by two."
   ]
  },
  {
   "cell_type": "code",
   "execution_count": null,
   "metadata": {
    "colab": {
     "base_uri": "https://localhost:8080/"
    },
    "id": "YJqvwLCDgMuC",
    "outputId": "3f69ce2d-3b17-49aa-9c2f-f39a1b5ef44f"
   },
   "outputs": [],
   "source": [
    "data2[(data2[:, 3] % 3) == 0]  # Rows where the first column is divisible by two."
   ]
  },
  {
   "cell_type": "markdown",
   "metadata": {
    "id": "o9bgUkzkIUnm"
   },
   "source": [
    "# Selections Review\n",
    "\n",
    "- Indexing with an integer removes a dimension.\n",
    "- Slicing operations work on Numpy arrays the same way they do on lists.\n",
    "- Indexing with a boolean array filters to True locations.\n",
    "- Indexing with an integer array selects indices along an axis.\n",
    "- Multidimensional arrays can apply selections independently along different axes."
   ]
  },
  {
   "cell_type": "markdown",
   "metadata": {
    "id": "A3duFBHIIUnm"
   },
   "source": [
    "## Reductions\n",
    "\n",
    "Functions that reduce an array to a scalar."
   ]
  },
  {
   "cell_type": "markdown",
   "metadata": {
    "id": "m_4rMuXmIUnm"
   },
   "source": [
    "$Var(X) = \\frac{1}{N}\\sqrt{\\sum_{i=1}^N (x_i - \\bar{x})^2}$"
   ]
  },
  {
   "cell_type": "code",
   "execution_count": null,
   "metadata": {
    "id": "phveJj88IUnn"
   },
   "outputs": [],
   "source": [
    "def variance(x):\n",
    "    return ((x - x.mean()) ** 2).sum() / len(x)"
   ]
  },
  {
   "cell_type": "code",
   "execution_count": null,
   "metadata": {
    "colab": {
     "base_uri": "https://localhost:8080/"
    },
    "id": "x06v9QKlIUno",
    "outputId": "d57f32b6-078c-4091-b77a-0ef303588fe8"
   },
   "outputs": [],
   "source": [
    "variance(np.random.standard_normal(1000))"
   ]
  },
  {
   "cell_type": "code",
   "execution_count": null,
   "metadata": {
    "colab": {
     "base_uri": "https://localhost:8080/"
    },
    "id": "GeD4YK7Mgq2b",
    "outputId": "8fe1e454-2bf3-4a70-d24b-9924b3214733"
   },
   "outputs": [],
   "source": [
    "variance(np.random.standard_normal(500))"
   ]
  },
  {
   "cell_type": "markdown",
   "metadata": {
    "id": "29KieZvZIUnr"
   },
   "source": [
    "- `sum()` and `mean()` are both **reductions**."
   ]
  },
  {
   "cell_type": "markdown",
   "metadata": {
    "id": "-Bi61g1IIUnr"
   },
   "source": [
    "- In the simplest case, we use these to reduce an entire array into a single value..."
   ]
  },
  {
   "cell_type": "code",
   "execution_count": null,
   "metadata": {
    "colab": {
     "base_uri": "https://localhost:8080/"
    },
    "id": "UlvMlemcIUns",
    "outputId": "5b5e59cd-2d94-4b4f-fbb0-5a84da7e7830"
   },
   "outputs": [],
   "source": [
    "data = np.arange(30)\n",
    "data.mean()"
   ]
  },
  {
   "cell_type": "code",
   "execution_count": null,
   "metadata": {
    "colab": {
     "base_uri": "https://localhost:8080/"
    },
    "id": "xzvqQ_mMgzK6",
    "outputId": "eef0cb74-a589-477e-f202-513760410172"
   },
   "outputs": [],
   "source": [
    "data2 = np.arange(100)\n",
    "data2.mean()"
   ]
  },
  {
   "cell_type": "markdown",
   "metadata": {
    "id": "7ZWT9l5xIUnt"
   },
   "source": [
    "- ...but we can do more interesting things with multi-dimensional arrays."
   ]
  },
  {
   "cell_type": "code",
   "execution_count": null,
   "metadata": {
    "colab": {
     "base_uri": "https://localhost:8080/"
    },
    "id": "4vhn8djEIUnt",
    "outputId": "021945cd-e17c-47d4-9955-c6dfa0f99eca"
   },
   "outputs": [],
   "source": [
    "data = np.arange(30).reshape(3, 10)\n",
    "data"
   ]
  },
  {
   "cell_type": "code",
   "execution_count": null,
   "metadata": {
    "colab": {
     "base_uri": "https://localhost:8080/"
    },
    "id": "qyaO8q-FhB1l",
    "outputId": "d91f03f5-c111-48a4-c73e-1f1a4257694a"
   },
   "outputs": [],
   "source": [
    "data2 = np.arange(100).reshape(5, 20)\n",
    "data2"
   ]
  },
  {
   "cell_type": "code",
   "execution_count": null,
   "metadata": {
    "colab": {
     "base_uri": "https://localhost:8080/"
    },
    "id": "M-cvVSeaIUny",
    "outputId": "31c742ce-41cf-4df6-aec7-e684727f53a4"
   },
   "outputs": [],
   "source": [
    "data.mean()"
   ]
  },
  {
   "cell_type": "code",
   "execution_count": null,
   "metadata": {
    "colab": {
     "base_uri": "https://localhost:8080/"
    },
    "id": "Gwy6FFwmhJ0l",
    "outputId": "b16bed3d-b340-41af-c455-7f4cf3abe7cf"
   },
   "outputs": [],
   "source": [
    "data2.mean()"
   ]
  },
  {
   "cell_type": "code",
   "execution_count": null,
   "metadata": {
    "colab": {
     "base_uri": "https://localhost:8080/"
    },
    "id": "Dd2NWFMiIUn0",
    "outputId": "74b34d93-0e24-4d1c-bb42-9a991e098eb5"
   },
   "outputs": [],
   "source": [
    "data.mean(axis=0)"
   ]
  },
  {
   "cell_type": "code",
   "execution_count": null,
   "metadata": {
    "colab": {
     "base_uri": "https://localhost:8080/"
    },
    "id": "NMe54eAHhQmr",
    "outputId": "b085affc-3d4a-4a32-a8e6-ddd1c46b394f"
   },
   "outputs": [],
   "source": [
    "data2.mean(axis=0)"
   ]
  },
  {
   "cell_type": "code",
   "execution_count": null,
   "metadata": {
    "colab": {
     "base_uri": "https://localhost:8080/"
    },
    "id": "eZlteyC6IUn3",
    "outputId": "3552c7c1-cd9e-4d53-edf9-c985b07280d2"
   },
   "outputs": [],
   "source": [
    "data.mean(axis=1)"
   ]
  },
  {
   "cell_type": "code",
   "execution_count": null,
   "metadata": {
    "colab": {
     "base_uri": "https://localhost:8080/"
    },
    "id": "R9Y2X36qhWBT",
    "outputId": "d35093c5-3d68-44a6-b464-8e1da7b29896"
   },
   "outputs": [],
   "source": [
    "data2.mean(axis=1)"
   ]
  },
  {
   "cell_type": "markdown",
   "metadata": {
    "id": "GFtxPEfUIUn4"
   },
   "source": [
    "## Reductions Review\n",
    "\n",
    "- Reductions allow us to perform efficient aggregations over arrays.\n",
    "- We can do aggregations over a single axis to collapse a single dimension.\n",
    "- Many built-in reductions (`mean`, `sum`, `min`, `max`, `median`, ...)."
   ]
  },
  {
   "cell_type": "markdown",
   "metadata": {
    "id": "1s1e6IOeIUn5"
   },
   "source": [
    "# Broadcasting"
   ]
  },
  {
   "cell_type": "code",
   "execution_count": null,
   "metadata": {
    "colab": {
     "base_uri": "https://localhost:8080/"
    },
    "id": "Dbg5ubkQIUn5",
    "outputId": "81b3e0f6-62e0-4945-8fe9-5e9824219482"
   },
   "outputs": [],
   "source": [
    "row = np.array([1, 2, 3, 4])\n",
    "column = np.array([[1], [2], [3]])\n",
    "print(\"Row:\\n\", row, sep='')\n",
    "print(\"Column:\\n\", column, sep='')"
   ]
  },
  {
   "cell_type": "code",
   "execution_count": null,
   "metadata": {
    "colab": {
     "base_uri": "https://localhost:8080/"
    },
    "id": "ehv_ltEAs54K",
    "outputId": "221cbee9-b36c-4739-bb60-bda2e303b1af"
   },
   "outputs": [],
   "source": [
    "row2 = np.array([5,3,2,1,5,6])\n",
    "column2 = np.array([[1], [2], [3], [1], [2], [3], [1]])\n",
    "print(\"Row:\\n\", row2, sep='')\n",
    "print(\"Column:\\n\", column2, sep='')"
   ]
  },
  {
   "cell_type": "code",
   "execution_count": null,
   "metadata": {
    "colab": {
     "base_uri": "https://localhost:8080/"
    },
    "id": "YukBrXuqIUn7",
    "outputId": "43ba2a95-8ccc-4ee7-86be-951648fbbe3a"
   },
   "outputs": [],
   "source": [
    "row + column"
   ]
  },
  {
   "cell_type": "code",
   "execution_count": null,
   "metadata": {
    "colab": {
     "base_uri": "https://localhost:8080/"
    },
    "id": "nzsvvobgtKgI",
    "outputId": "b430f41a-3c13-4591-8ddf-75a15097f0e2"
   },
   "outputs": [],
   "source": [
    "row2 + column2"
   ]
  },
  {
   "cell_type": "markdown",
   "metadata": {
    "id": "LlcmfZJcIUn8"
   },
   "source": [
    "<center><img src=\"images/broadcasting.png\" alt=\"Drawing\" style=\"width: 60%;\"/></center>\n",
    "\n",
    "<h5>Source: http://www.scipy-lectures.org/_images/numpy_broadcasting.png</h5>"
   ]
  },
  {
   "cell_type": "code",
   "execution_count": null,
   "metadata": {
    "colab": {
     "base_uri": "https://localhost:8080/"
    },
    "id": "8LCNWr2dIUn9",
    "outputId": "de43a6b7-c320-45a6-855a-5c323016b92e"
   },
   "outputs": [],
   "source": [
    "# Broadcasting is particularly useful in conjunction with reductions.\n",
    "print(\"Data:\\n\", data, sep='')\n",
    "print(\"Mean:\\n\", data.mean(axis=0), sep='')\n",
    "print(\"Data - Mean:\\n\", data - data.mean(axis=0), sep='')"
   ]
  },
  {
   "cell_type": "code",
   "execution_count": null,
   "metadata": {
    "colab": {
     "base_uri": "https://localhost:8080/"
    },
    "id": "QGQI1tvCtap0",
    "outputId": "a74ed36d-7318-4dea-f4e8-aeebca2dee26"
   },
   "outputs": [],
   "source": [
    "# Broadcasting is particularly useful in conjunction with reductions.\n",
    "print(\"Data:\\n\", data2, sep='')\n",
    "print(\"Mean:\\n\", data2.mean(axis=0), sep='')\n",
    "print(\"Data - Mean:\\n\", data2 - data2.mean(axis=0), sep='')"
   ]
  },
  {
   "cell_type": "markdown",
   "metadata": {
    "id": "Qg-5tK6KIUn-"
   },
   "source": [
    "# Broadcasting Review\n",
    "\n",
    "- Numpy operations can work on arrays of different dimensions as long as the arrays' shapes are still \"compatible\".\n",
    "- Broadcasting works by \"tiling\" the smaller array along the missing dimension.\n",
    "- The result of a broadcasted operation is always at least as large in each dimension as the largest array in that dimension."
   ]
  },
  {
   "cell_type": "markdown",
   "metadata": {
    "id": "0yQYkkFyIUn_"
   },
   "source": [
    "# Numpy Review"
   ]
  },
  {
   "cell_type": "markdown",
   "metadata": {
    "id": "jfOSWw8-IUn_"
   },
   "source": [
    "- Numerical algorithms are slow in pure Python because the overhead dynamic dispatch dominates our runtime."
   ]
  },
  {
   "cell_type": "markdown",
   "metadata": {
    "id": "eNkkTVpSIUn_"
   },
   "source": [
    "- Numpy solves this problem by:\n",
    "  1. Imposing additional restrictions on the contents of arrays.\n",
    "  2. Moving the inner loops of our algorithms into compiled C code."
   ]
  },
  {
   "cell_type": "markdown",
   "metadata": {
    "id": "SJkAp_uSIUoA"
   },
   "source": [
    "- Using Numpy effectively often requires reworking an algorithms to use vectorized operations instead of for-loops, but the resulting operations are usually simpler, clearer, and faster than the pure Python equivalent."
   ]
  },
  {
   "cell_type": "markdown",
   "metadata": {
    "id": "chaCT_SKIUoB"
   },
   "source": [
    "<center><img src=\"images/unicorn.jpg\" alt=\"Drawing\" style=\"width: 75%;\"/></center>"
   ]
  },
  {
   "cell_type": "markdown",
   "metadata": {
    "id": "9rjpAHrLIUoB"
   },
   "source": [
    "Numpy is great for many things, but..."
   ]
  },
  {
   "cell_type": "markdown",
   "metadata": {
    "id": "Qs69CCl9IUoB"
   },
   "source": [
    "- Sometimes our data is equipped with a natural set of **labels**:\n",
    "  - Dates/Times\n",
    "  - Stock Tickers\n",
    "  - Field Names (e.g. Open/High/Low/Close)"
   ]
  },
  {
   "cell_type": "markdown",
   "metadata": {
    "id": "PRtD9nRsIUoB"
   },
   "source": [
    "- Sometimes we have **more than one type of data** that we want to keep grouped together.\n",
    "  - Tables with a mix of real-valued and categorical data."
   ]
  },
  {
   "cell_type": "markdown",
   "metadata": {
    "id": "OAslknM2IUoB"
   },
   "source": [
    "- Sometimes we have **missing** data, which we need to ignore, fill, or otherwise work around."
   ]
  },
  {
   "cell_type": "markdown",
   "metadata": {
    "id": "kDZaxV3-IUoD"
   },
   "source": [
    "<center><img src=\"images/panda-wrangling.gif\" alt=\"Drawing\" style=\"width: 75%;\"/></center>"
   ]
  },
  {
   "cell_type": "markdown",
   "metadata": {
    "id": "OtI8YG5rIUoD"
   },
   "source": [
    "<center><img src=\"images/pandas_logo.png\" alt=\"Drawing\" style=\"width: 75%;\"/></center>\n"
   ]
  },
  {
   "cell_type": "markdown",
   "metadata": {
    "id": "dgfN527AIUoE"
   },
   "source": [
    "Pandas extends Numpy with more complex data structures:\n",
    "\n",
    "- `Series`: 1-dimensional, homogenously-typed, labelled array.\n",
    "- `DataFrame`: 2-dimensional, semi-homogenous, labelled table."
   ]
  },
  {
   "cell_type": "markdown",
   "metadata": {
    "id": "C726dBUVIUoE"
   },
   "source": [
    "Pandas also provides many utilities for: \n",
    "- Input/Output\n",
    "- Data Cleaning\n",
    "- Rolling Algorithms\n",
    "- Plotting"
   ]
  },
  {
   "cell_type": "markdown",
   "metadata": {
    "id": "HLQnoComIUoE"
   },
   "source": [
    "# Selection in Pandas"
   ]
  },
  {
   "cell_type": "code",
   "execution_count": null,
   "metadata": {
    "colab": {
     "base_uri": "https://localhost:8080/"
    },
    "id": "p5YYb9FIIUoF",
    "outputId": "51f40f73-6a94-497d-b6b6-949236e8b747"
   },
   "outputs": [],
   "source": [
    "s = pd.Series(index=['a', 'b', 'c', 'd', 'e'], data=[1, 2, 3, 4, 5])\n",
    "s"
   ]
  },
  {
   "cell_type": "code",
   "execution_count": null,
   "metadata": {
    "colab": {
     "base_uri": "https://localhost:8080/"
    },
    "id": "EtGwDN4st1N1",
    "outputId": "6b6afc15-531b-4c5f-b1fa-f2149f55cb4e"
   },
   "outputs": [],
   "source": [
    "s2 = pd.Series(index=['1', '2', '3', '4'], data=[1, 2, 4, 8])\n",
    "s2"
   ]
  },
  {
   "cell_type": "code",
   "execution_count": null,
   "metadata": {
    "colab": {
     "base_uri": "https://localhost:8080/"
    },
    "id": "HuTeOvGEIUoG",
    "outputId": "49d2c407-9f7a-4109-bbf9-4bc0d0524992"
   },
   "outputs": [],
   "source": [
    "# There are two pieces to a Series: the index and the values.\n",
    "print(\"The index is:\", s.index)\n",
    "print(\"The values are:\", s.values)"
   ]
  },
  {
   "cell_type": "code",
   "execution_count": null,
   "metadata": {
    "colab": {
     "base_uri": "https://localhost:8080/"
    },
    "id": "InCLJzjSuSHX",
    "outputId": "2ec9cd90-9736-4b40-f53c-ca53a2e183a1"
   },
   "outputs": [],
   "source": [
    "print(\"The index is:\", s2.index)\n",
    "print(\"The values are:\", s2.values)"
   ]
  },
  {
   "cell_type": "code",
   "execution_count": null,
   "metadata": {
    "colab": {
     "base_uri": "https://localhost:8080/"
    },
    "id": "OUxGXG0FIUoH",
    "outputId": "8f5f2464-ae24-4c25-80b8-e690ff8113d9"
   },
   "outputs": [],
   "source": [
    "# We can look up values out of a Series by position...\n",
    "s.iloc[0]"
   ]
  },
  {
   "cell_type": "code",
   "execution_count": null,
   "metadata": {
    "colab": {
     "base_uri": "https://localhost:8080/"
    },
    "id": "RB7ou8RbuZRF",
    "outputId": "e5feaa9e-9801-42fb-ccaa-131dfdb15704"
   },
   "outputs": [],
   "source": [
    "s2.iloc[0]"
   ]
  },
  {
   "cell_type": "code",
   "execution_count": null,
   "metadata": {
    "colab": {
     "base_uri": "https://localhost:8080/"
    },
    "id": "UQlRl2itIUoJ",
    "outputId": "0e6e3617-35f1-46c8-9d10-fb4cd668758b"
   },
   "outputs": [],
   "source": [
    "s.loc['a']"
   ]
  },
  {
   "cell_type": "code",
   "execution_count": null,
   "metadata": {
    "colab": {
     "base_uri": "https://localhost:8080/"
    },
    "id": "a6cP9mzIuee-",
    "outputId": "25504e73-f12c-4206-eb13-24df6bc7404b"
   },
   "outputs": [],
   "source": [
    "s2.loc['4']"
   ]
  },
  {
   "cell_type": "code",
   "execution_count": null,
   "metadata": {
    "colab": {
     "base_uri": "https://localhost:8080/"
    },
    "id": "2NyHyOOGIUoK",
    "outputId": "fe6ddec0-67d2-4e8a-9170-1c27c899ace1"
   },
   "outputs": [],
   "source": [
    "# Slicing works as expected...\n",
    "s.iloc[:2]"
   ]
  },
  {
   "cell_type": "code",
   "execution_count": null,
   "metadata": {
    "colab": {
     "base_uri": "https://localhost:8080/"
    },
    "id": "eEjS2Zh7vEp6",
    "outputId": "f2b6caa1-4d7c-4a6e-9628-1c34574b7c4b"
   },
   "outputs": [],
   "source": [
    "\n",
    "s2.iloc[:4]"
   ]
  },
  {
   "cell_type": "code",
   "execution_count": null,
   "metadata": {
    "colab": {
     "base_uri": "https://localhost:8080/"
    },
    "id": "ou2qwr5wIUoM",
    "outputId": "495235ef-07df-4184-bc86-e27de3fd5a4e"
   },
   "outputs": [],
   "source": [
    "# ...but it works with labels too!\n",
    "s.loc[:'c']"
   ]
  },
  {
   "cell_type": "code",
   "execution_count": null,
   "metadata": {
    "colab": {
     "base_uri": "https://localhost:8080/"
    },
    "id": "IyZ7lsi_vIzG",
    "outputId": "c0dcd7e5-de46-4d40-9e64-4a7896bb73fb"
   },
   "outputs": [],
   "source": [
    "\n",
    "s2.loc[:'3']"
   ]
  },
  {
   "cell_type": "code",
   "execution_count": null,
   "metadata": {
    "colab": {
     "base_uri": "https://localhost:8080/"
    },
    "id": "RVwyMzt2IUoN",
    "outputId": "a31d6035-e237-407e-980b-75a2b30f5668"
   },
   "outputs": [],
   "source": [
    "# Fancy indexing works the same as in numpy.\n",
    "s.iloc[[0, -1]]"
   ]
  },
  {
   "cell_type": "code",
   "execution_count": null,
   "metadata": {
    "colab": {
     "base_uri": "https://localhost:8080/"
    },
    "id": "SU78AD44vP4m",
    "outputId": "44da4ac0-a4d0-42ff-d1aa-127290969279"
   },
   "outputs": [],
   "source": [
    "\n",
    "s2.iloc[[0, -1,-2]]"
   ]
  },
  {
   "cell_type": "code",
   "execution_count": null,
   "metadata": {
    "colab": {
     "base_uri": "https://localhost:8080/"
    },
    "id": "f8_ONI9iIUoO",
    "outputId": "c980528e-936f-46a7-e4f8-10f56b61b647"
   },
   "outputs": [],
   "source": [
    "# As does boolean masking.\n",
    "s.loc[s > 2]"
   ]
  },
  {
   "cell_type": "code",
   "execution_count": null,
   "metadata": {
    "colab": {
     "base_uri": "https://localhost:8080/"
    },
    "id": "OVWksqxXwWhx",
    "outputId": "f1e1735c-99cf-4aa9-9b41-b144efa4a567"
   },
   "outputs": [],
   "source": [
    "\n",
    "s2.loc[s2 == 2]"
   ]
  },
  {
   "cell_type": "code",
   "execution_count": null,
   "metadata": {
    "colab": {
     "base_uri": "https://localhost:8080/"
    },
    "id": "abnDaJ7MIUoP",
    "outputId": "a9397fad-13b5-4a70-c79b-7fb9dfd8e29f"
   },
   "outputs": [],
   "source": [
    "# Element-wise operations are aligned by index.\n",
    "other_s = pd.Series({'a': 10.0, 'c': 20.0, 'd': 30.0, 'z': 40.0})\n",
    "other_s"
   ]
  },
  {
   "cell_type": "code",
   "execution_count": null,
   "metadata": {
    "colab": {
     "base_uri": "https://localhost:8080/"
    },
    "id": "xoNIVZfly2uL",
    "outputId": "e83dfe94-c4c2-4775-97e7-ba168ece2749"
   },
   "outputs": [],
   "source": [
    "\n",
    "other_s2 = pd.Series({'1': 10.1, '3': 20.0, '9': 30.4, '12': 40.0})\n",
    "other_s2"
   ]
  },
  {
   "cell_type": "code",
   "execution_count": null,
   "metadata": {
    "colab": {
     "base_uri": "https://localhost:8080/"
    },
    "id": "fKeMQ-7kIUoR",
    "outputId": "bebe1542-e3fb-482a-ceea-22bc84fb93a4"
   },
   "outputs": [],
   "source": [
    "s + other_s"
   ]
  },
  {
   "cell_type": "code",
   "execution_count": null,
   "metadata": {
    "colab": {
     "base_uri": "https://localhost:8080/"
    },
    "id": "m1wVRQgozHxC",
    "outputId": "c0dff9ed-6aee-4b97-b4bf-4643b94c8f56"
   },
   "outputs": [],
   "source": [
    "s2 + other_s2"
   ]
  },
  {
   "cell_type": "code",
   "execution_count": null,
   "metadata": {
    "colab": {
     "base_uri": "https://localhost:8080/"
    },
    "id": "ncNF_g_XIUoS",
    "outputId": "55390e90-5cd4-4543-c5a3-d35117c9c776"
   },
   "outputs": [],
   "source": [
    "# We can fill in missing values with fillna().\n",
    "(s + other_s).fillna(0.0)"
   ]
  },
  {
   "cell_type": "code",
   "execution_count": null,
   "metadata": {
    "colab": {
     "base_uri": "https://localhost:8080/"
    },
    "id": "h_ucXlAf0BCb",
    "outputId": "f4384423-2535-4bf6-a29d-3ad40aaaa553"
   },
   "outputs": [],
   "source": [
    "(s2 + other_s2).fillna(0.0)"
   ]
  },
  {
   "cell_type": "code",
   "execution_count": null,
   "metadata": {
    "id": "ZXHAaC9pUo2a"
   },
   "outputs": [],
   "source": [
    "import pandas_datareader as pdr\n",
    "import datetime"
   ]
  },
  {
   "cell_type": "code",
   "execution_count": null,
   "metadata": {
    "colab": {
     "base_uri": "https://localhost:8080/",
     "height": 204
    },
    "id": "p2hPoGYOIUoT",
    "outputId": "681c6fd7-4a6a-4eb0-95e7-bbbd00fcc118"
   },
   "outputs": [],
   "source": [
    "# Most real datasets are read in from an external file format.\n",
    "aapl = pdr.get_data_yahoo('AAPL',start=datetime.datetime(2010,1,4),end=datetime.datetime(2012,2,1))\n",
    "aapl.head(4)"
   ]
  },
  {
   "cell_type": "code",
   "execution_count": null,
   "metadata": {
    "colab": {
     "base_uri": "https://localhost:8080/",
     "height": 142
    },
    "id": "mKVy7KRRIUoU",
    "outputId": "086b2423-0b3c-4a0b-86f7-9c1470f04065"
   },
   "outputs": [],
   "source": [
    "# Slicing generalizes to two dimensions as you'd expect:\n",
    "aapl.iloc[:2, :2]"
   ]
  },
  {
   "cell_type": "code",
   "execution_count": null,
   "metadata": {
    "colab": {
     "base_uri": "https://localhost:8080/",
     "height": 235
    },
    "id": "-gns8Gpg1Poz",
    "outputId": "932af683-ceac-4c07-99e6-9a1d5dc0610a"
   },
   "outputs": [],
   "source": [
    "aapl.iloc[:5, ]"
   ]
  },
  {
   "cell_type": "code",
   "execution_count": null,
   "metadata": {
    "colab": {
     "base_uri": "https://localhost:8080/",
     "height": 204
    },
    "id": "s-5-vVl-IUoV",
    "outputId": "79dece5c-372a-4b1b-b89c-e132c59f241a"
   },
   "outputs": [],
   "source": [
    "aapl.loc[pd.Timestamp('2010-02-01'):pd.Timestamp('2010-02-04'), ['Close', 'Volume']]"
   ]
  },
  {
   "cell_type": "code",
   "execution_count": null,
   "metadata": {
    "colab": {
     "base_uri": "https://localhost:8080/",
     "height": 266
    },
    "id": "Js-tmN6L1hS2",
    "outputId": "83c02cba-8bdf-4891-cc55-87bcaa2e0151"
   },
   "outputs": [],
   "source": [
    "aapl.loc[pd.Timestamp('2011-01-01'):pd.Timestamp('2011-01-10'), ['Open']]"
   ]
  },
  {
   "cell_type": "markdown",
   "metadata": {
    "id": "fWXNDxOBIUoY"
   },
   "source": [
    "# Rolling Operations"
   ]
  },
  {
   "cell_type": "markdown",
   "metadata": {
    "id": "w8DoTY4nIUoY"
   },
   "source": [
    "<center><img src=\"images/rolling.gif\" alt=\"Drawing\" style=\"width: 75%;\"/></center>"
   ]
  },
  {
   "cell_type": "code",
   "execution_count": null,
   "metadata": {
    "colab": {
     "base_uri": "https://localhost:8080/",
     "height": 424
    },
    "id": "XB5JZD1NIUoY",
    "outputId": "0027ce89-91f5-406a-eb8f-5a40e56a4615"
   },
   "outputs": [],
   "source": [
    "aapl.rolling(5)[['Close', 'Adj Close']].mean().plot();"
   ]
  },
  {
   "cell_type": "code",
   "execution_count": null,
   "metadata": {
    "colab": {
     "base_uri": "https://localhost:8080/",
     "height": 424
    },
    "id": "d_Px9Pzt2HHf",
    "outputId": "5b4ed884-22a2-47b8-8ca6-ff30296cce10"
   },
   "outputs": [],
   "source": [
    "aapl.rolling(4)[['Close','Open','Adj Close']].mean().plot();"
   ]
  },
  {
   "cell_type": "code",
   "execution_count": null,
   "metadata": {
    "colab": {
     "base_uri": "https://localhost:8080/",
     "height": 454
    },
    "id": "W3aZ32dLIUoa",
    "outputId": "823dbcc5-35de-48ee-d9bf-887073625fc0"
   },
   "outputs": [],
   "source": [
    "# Drop `Volume`, since it's way bigger than everything else.\n",
    "aapl.drop('Volume', axis=1).resample('2W').max().plot();"
   ]
  },
  {
   "cell_type": "code",
   "execution_count": null,
   "metadata": {
    "colab": {
     "base_uri": "https://localhost:8080/",
     "height": 442
    },
    "id": "GrMfA9oN3Iuh",
    "outputId": "6499020d-1fab-4cf7-a3b6-3b7645b59a14"
   },
   "outputs": [],
   "source": [
    "aapl.drop(\"Volume\", axis=1).resample('1A').first().plot();"
   ]
  },
  {
   "cell_type": "code",
   "execution_count": null,
   "metadata": {
    "colab": {
     "base_uri": "https://localhost:8080/",
     "height": 424
    },
    "id": "r05_CEXrIUob",
    "outputId": "f2600416-0930-4544-ef18-b4a9466da6d1"
   },
   "outputs": [],
   "source": [
    "# 30-day rolling exponentially-weighted stddev of returns.\n",
    "aapl['Close'].pct_change().ewm(span=30).std().plot();"
   ]
  },
  {
   "cell_type": "code",
   "execution_count": null,
   "metadata": {
    "colab": {
     "base_uri": "https://localhost:8080/",
     "height": 425
    },
    "id": "Md-lHcA_38_5",
    "outputId": "42c74a73-ec10-4bda-ef6b-5434a799cc64"
   },
   "outputs": [],
   "source": [
    "aapl['Adj Close'].pct_change().ewm(span=15).std().plot();"
   ]
  },
  {
   "cell_type": "markdown",
   "metadata": {
    "id": "8s23m6iJIUoc"
   },
   "source": [
    "# \"Real World\" Data"
   ]
  },
  {
   "cell_type": "code",
   "execution_count": null,
   "metadata": {
    "id": "gvyJ73xGcAdk"
   },
   "outputs": [],
   "source": [
    "from io import BytesIO\n",
    "import os\n",
    "from urllib.parse import urlencode\n",
    "\n",
    "import requests\n",
    "import numpy as np\n",
    "import pandas as pd\n",
    "\n",
    "\n",
    "def read_avocadata(start_date, end_date, cache_loc='avocadata.html'):\n",
    "    \"\"\"Download avocado data to a dataframe.\n",
    "    Parameters\n",
    "    ----------\n",
    "    \"\"\"\n",
    "    start_date = pd.Timestamp(start_date)\n",
    "    end_date = pd.Timestamp(end_date)\n",
    "    base_url = 'https://www.marketnews.usda.gov/mnp/fv-report-retail'\n",
    "    query_params = {\n",
    "        'class': ['FRUITS'],\n",
    "        'commodity': ['AVOCADOS'],\n",
    "        'compareLy': ['No'],\n",
    "        'endDate': [end_date.strftime(\"%m/%d/%Y\")],\n",
    "        'format': ['excel'],\n",
    "        'organic': ['ALL'],\n",
    "        'portal': ['fv'],\n",
    "        'region': ['ALL'],\n",
    "        'repDate': [start_date.strftime(\"%m/%d/%Y\")],\n",
    "        'type': ['retail'],\n",
    "    }\n",
    "\n",
    "    url = base_url + '?' + urlencode(query_params, doseq=1)\n",
    "\n",
    "    if not os.path.exists(cache_loc):\n",
    "        resp = requests.get(url, stream=True)\n",
    "        resp.raise_for_status()\n",
    "\n",
    "        with open(cache_loc, 'wb') as f:\n",
    "            for block in resp.iter_content(chunk_size=4096):\n",
    "                f.write(block)\n",
    "        f.close()\n",
    "\n",
    "    with open(cache_loc, 'rb') as f:\n",
    "        frame = pd.read_html(f, header=0)[0]\n",
    "\n",
    "    # Cleanup\n",
    "    frame = frame[frame['Unit'] == 'each']\n",
    "    frame['Organic'] = (frame['Organic'] == 'Y')\n",
    "    frame['Variety'].replace(\n",
    "        {'VARIOUS GREENSKIN VARIETIES': 'GREENSKIN'},\n",
    "        inplace=True,\n",
    "    )\n",
    "    frame['Date'] = pd.to_datetime(frame['Date'].values, utc=True)\n",
    "\n",
    "    frame['Region'] = frame['Region'].str.replace(' U.S.', '')\n",
    "    frame['Region'] = frame['Region'].str.replace(' ', '_')\n",
    "\n",
    "    # Drop useless columns.\n",
    "    return frame.drop(\n",
    "        ['Class', 'Commodity', 'Environment', 'Unit', '% Marked Local'],\n",
    "        axis=1,\n",
    "    )"
   ]
  },
  {
   "cell_type": "code",
   "execution_count": null,
   "metadata": {
    "colab": {
     "base_uri": "https://localhost:8080/",
     "height": 204
    },
    "id": "vRuLjXfdblN3",
    "outputId": "911fdc82-1d4b-4492-dd96-1370924afd1d"
   },
   "outputs": [],
   "source": [
    "\n",
    "\n",
    "avocados = read_avocadata('2014', '2016')\n",
    "avocados.head()"
   ]
  },
  {
   "cell_type": "code",
   "execution_count": null,
   "metadata": {
    "colab": {
     "base_uri": "https://localhost:8080/"
    },
    "id": "aiqrWQ7QIUoe",
    "outputId": "e1d6e964-71d3-4d34-9d44-f9d01530cd54"
   },
   "outputs": [],
   "source": [
    "# Unlike numpy arrays, pandas DataFrames can have a different dtype for each column.\n",
    "avocados.dtypes"
   ]
  },
  {
   "cell_type": "code",
   "execution_count": null,
   "metadata": {
    "colab": {
     "base_uri": "https://localhost:8080/",
     "height": 424
    },
    "id": "iUgcvZ83IUof",
    "outputId": "bb086cd8-2180-4541-8453-0d2647eb0962"
   },
   "outputs": [],
   "source": [
    "# What's the regional average price of a HASS avocado every day?\n",
    "hass = avocados[avocados.Variety == 'HASS']\n",
    "hass.groupby(['Date', 'Region'])['Weighted Avg Price'].mean().unstack().ffill().plot();"
   ]
  },
  {
   "cell_type": "code",
   "execution_count": null,
   "metadata": {
    "colab": {
     "base_uri": "https://localhost:8080/",
     "height": 424
    },
    "id": "kAfLp5MB5TjV",
    "outputId": "54b5eca7-1981-44e3-8d3d-e4022a14f49c"
   },
   "outputs": [],
   "source": [
    "org = avocados[avocados.Organic == True]\n",
    "org.groupby(['Date', 'Region'])['Number of Stores'].mean().unstack().ffill().plot();"
   ]
  },
  {
   "cell_type": "code",
   "execution_count": null,
   "metadata": {
    "id": "nBxPwx9yIUog"
   },
   "outputs": [],
   "source": [
    "def _organic_spread(group):\n",
    "\n",
    "    if len(group.columns) != 2:\n",
    "        return pd.Series(index=group.index, data=0.0)\n",
    "    \n",
    "    is_organic = group.columns.get_level_values('Organic').values.astype(bool)\n",
    "    organics = group.loc[:, is_organic].squeeze()\n",
    "    non_organics = group.loc[:, ~is_organic].squeeze()\n",
    "    diff = organics - non_organics\n",
    "    return diff\n",
    "\n",
    "def organic_spread_by_region(df):\n",
    "    \"\"\"What's the difference between the price of an organic \n",
    "    and non-organic avocado within each region?\n",
    "    \"\"\"\n",
    "    return (\n",
    "        df\n",
    "        .set_index(['Date', 'Region', 'Organic'])\n",
    "         ['Weighted Avg Price']\n",
    "        .unstack(level=['Region', 'Organic'])\n",
    "        .ffill()\n",
    "        .groupby(level='Region', axis=1)\n",
    "        .apply(_organic_spread)\n",
    "    )"
   ]
  },
  {
   "cell_type": "code",
   "execution_count": null,
   "metadata": {
    "colab": {
     "base_uri": "https://localhost:8080/",
     "height": 440
    },
    "id": "sjf-nfY9IUoi",
    "outputId": "c992eb5a-3087-4039-cd66-58a4cb86b100"
   },
   "outputs": [],
   "source": [
    "organic_spread_by_region(hass).plot();\n",
    "plt.gca().set_title(\"Daily Regional Organic Spread\");\n",
    "plt.legend(bbox_to_anchor=(1, 1));"
   ]
  },
  {
   "cell_type": "code",
   "execution_count": null,
   "metadata": {
    "colab": {
     "base_uri": "https://localhost:8080/",
     "height": 359
    },
    "id": "YMXFCwLqIUoj",
    "outputId": "f637001c-7662-4d3c-c183-d860f541b64a"
   },
   "outputs": [],
   "source": [
    "spread_correlation = organic_spread_by_region(hass).corr()\n",
    "spread_correlation"
   ]
  },
  {
   "cell_type": "code",
   "execution_count": null,
   "metadata": {
    "colab": {
     "base_uri": "https://localhost:8080/",
     "height": 712
    },
    "id": "v0CB1aSrIUok",
    "outputId": "63165b62-8dbb-46aa-9dac-07bd3436a417"
   },
   "outputs": [],
   "source": [
    "import seaborn as sns\n",
    "grid = sns.clustermap(spread_correlation, annot=True)\n",
    "fig = grid.fig\n",
    "axes = fig.axes\n",
    "ax = axes[2]\n",
    "ax.set_xticklabels(ax.get_xticklabels(), rotation=45);"
   ]
  },
  {
   "cell_type": "markdown",
   "metadata": {
    "id": "BWyDDCR2cdwe"
   },
   "source": [
    "## Ejemplo con datos abiertos del gobierno (https://www.datos.gov.co):\n",
    "\n",
    "Con una api para leer archivos csv\n",
    "Descargamos un archivo de Casos positivos de COVID-19 en Colombia y lo subimos a los archivos del notebook."
   ]
  },
  {
   "cell_type": "code",
   "execution_count": null,
   "metadata": {
    "colab": {
     "base_uri": "https://localhost:8080/"
    },
    "id": "VkMaL8O1einZ",
    "outputId": "10a0079d-b124-47f5-905b-a007c9c55a5a"
   },
   "outputs": [],
   "source": [
    "covid = pd.read_csv('Casos_positivos_de_COVID-19_en_Colombia.csv')\n"
   ]
  },
  {
   "cell_type": "code",
   "execution_count": null,
   "metadata": {
    "colab": {
     "base_uri": "https://localhost:8080/",
     "height": 377
    },
    "id": "LvZNgCYGmbns",
    "outputId": "3f627a8d-9e9e-4149-caa2-02c1744bd241"
   },
   "outputs": [],
   "source": [
    "covid.head()"
   ]
  },
  {
   "cell_type": "code",
   "execution_count": null,
   "metadata": {
    "colab": {
     "base_uri": "https://localhost:8080/"
    },
    "id": "M7ODVAq3gLlu",
    "outputId": "791d8e48-aac9-4fb8-b938-41de68238aa0"
   },
   "outputs": [],
   "source": [
    "covid.dtypes"
   ]
  },
  {
   "cell_type": "markdown",
   "metadata": {
    "id": "oygHH33Tn4QA"
   },
   "source": [
    "Creamos una gráfica con los datos de los primeros 600 registros, del promedio personas recuperadas de covid19 en cada dia, divididas en categorias de Sexo y según su edad."
   ]
  },
  {
   "cell_type": "code",
   "execution_count": null,
   "metadata": {
    "colab": {
     "base_uri": "https://localhost:8080/",
     "height": 476
    },
    "id": "OudwukG8gUjB",
    "outputId": "f3472e38-eeee-4245-ab99-38d76b28e930"
   },
   "outputs": [],
   "source": [
    "covid600=covid.head(600)\n",
    "recuperados = covid600[covid.Recuperado == 'Recuperado'];\n",
    "\n",
    "recuperados.groupby(['fecha reporte web', 'Sexo'])['Edad'].mean().unstack().ffill().plot();\n"
   ]
  },
  {
   "cell_type": "markdown",
   "metadata": {
    "id": "G0853Rr0IUol"
   },
   "source": [
    "# Pandas Review\n",
    "\n",
    "- Pandas extends numpy with more complex datastructures and algorithms.\n",
    "- If you understand numpy, you understand 90% of pandas.\n",
    "- `groupby`, `set_index`, and `unstack` are powerful tools for working with categorical data.\n",
    "- Avocado prices are surprisingly interesting :)"
   ]
  },
  {
   "cell_type": "markdown",
   "metadata": {
    "id": "Htcr4qOuIUom"
   },
   "source": [
    "# Thanks!"
   ]
  }
 ],
 "metadata": {
  "celltoolbar": "Slideshow",
  "colab": {
   "name": "geramirezlScottSanderson.ipynb",
   "provenance": [],
   "toc_visible": true
  },
  "kernelspec": {
   "display_name": "Python 3",
   "language": "python",
   "name": "python3"
  },
  "language_info": {
   "codemirror_mode": {
    "name": "ipython",
    "version": 3
   },
   "file_extension": ".py",
   "mimetype": "text/x-python",
   "name": "python",
   "nbconvert_exporter": "python",
   "pygments_lexer": "ipython3",
   "version": "3.8.5"
  },
  "livereveal": {
   "start_slideshow_at": "selected"
  },
  "name": "Main.ipynb"
 },
 "nbformat": 4,
 "nbformat_minor": 1
}
