{
 "cells": [
  {
   "cell_type": "markdown",
   "metadata": {},
   "source": [
    "# Introduction to NumPy\n",
    "by Maxwell Margenot\n",
    "\n",
    "Part of the Quantopian Lecture Series:\n",
    "\n",
    "* [www.quantopian.com/lectures](https://www.quantopian.com/lectures)\n",
    "* [github.com/quantopian/research_public](https://github.com/quantopian/research_public)\n",
    "\n",
    "Notebook released under the Creative Commons Attribution 4.0 License."
   ]
  },
  {
   "cell_type": "markdown",
   "metadata": {},
   "source": [
    "NumPy is an incredibly powerful package in Python that is ubiquitous throughout the Quantopian platform. It has strong integration with Pandas, another tool we will be covering in the lecture series. NumPy adds support for multi-dimensional arrays and mathematical functions that allow you to easily perform linear algebra calculations. This lecture will be a collection of linear algebra examples computed using NumPy."
   ]
  },
  {
   "cell_type": "code",
   "execution_count": 1,
   "metadata": {},
   "outputs": [],
   "source": [
    "import numpy as np\n",
    "import matplotlib.pyplot as plt"
   ]
  },
  {
   "cell_type": "code",
   "execution_count": 2,
   "metadata": {},
   "outputs": [],
   "source": [
    "import numpy as num\n",
    "import matplotlib.pyplot as mat"
   ]
  },
  {
   "cell_type": "markdown",
   "metadata": {},
   "source": [
    "### Basic NumPy arrays"
   ]
  },
  {
   "cell_type": "markdown",
   "metadata": {},
   "source": [
    "The most basic way that we could make use of NumPy in finance is calculating the mean return of a portfolio. Say that we have a list containing the historical return of several stocks."
   ]
  },
  {
   "cell_type": "code",
   "execution_count": 3,
   "metadata": {},
   "outputs": [],
   "source": [
    "stock_list = [3.5, 5, 2, 8, 4.2]"
   ]
  },
  {
   "cell_type": "code",
   "execution_count": 4,
   "metadata": {},
   "outputs": [],
   "source": [
    "lista = [4.5, 1, 3, 5, 12.44]"
   ]
  },
  {
   "cell_type": "markdown",
   "metadata": {},
   "source": [
    "We can make an array by calling a function on the list:"
   ]
  },
  {
   "cell_type": "code",
   "execution_count": 5,
   "metadata": {},
   "outputs": [
    {
     "name": "stdout",
     "output_type": "stream",
     "text": [
      "[3.5 5.  2.  8.  4.2] <class 'numpy.ndarray'>\n"
     ]
    }
   ],
   "source": [
    "returns = np.array(stock_list)\n",
    "print (returns, type(returns))"
   ]
  },
  {
   "cell_type": "code",
   "execution_count": 6,
   "metadata": {},
   "outputs": [
    {
     "name": "stdout",
     "output_type": "stream",
     "text": [
      "[ 4.5   1.    3.    5.   12.44] <class 'numpy.ndarray'>\n"
     ]
    }
   ],
   "source": [
    "retorno = num.array(lista)\n",
    "print (retorno, type(retorno))"
   ]
  },
  {
   "cell_type": "markdown",
   "metadata": {},
   "source": [
    "You'll notice that the type of our array is 'ndarray', not just 'array'. This is because NumPy arrays can be created with multiple dimensions. If we pass np.array() a list of lists, it will create a 2-dimensional array. If we pass a list of lists of lists, it will create a 3-dimensional array, and so on and so forth."
   ]
  },
  {
   "cell_type": "code",
   "execution_count": 7,
   "metadata": {},
   "outputs": [
    {
     "name": "stdout",
     "output_type": "stream",
     "text": [
      "[[1 2]\n",
      " [3 4]] <class 'numpy.ndarray'>\n"
     ]
    }
   ],
   "source": [
    "A = np.array([[1, 2], [3, 4]])\n",
    "print (A, type(A))"
   ]
  },
  {
   "cell_type": "code",
   "execution_count": 8,
   "metadata": {},
   "outputs": [
    {
     "name": "stdout",
     "output_type": "stream",
     "text": [
      "[[5 6]\n",
      " [7 8]] <class 'numpy.ndarray'>\n"
     ]
    }
   ],
   "source": [
    " X = np.array([[5, 6], [7, 8]])\n",
    "print (X, type(X))"
   ]
  },
  {
   "cell_type": "markdown",
   "metadata": {},
   "source": [
    "We can access the dimensions of an array by looking at its `shape` member variable."
   ]
  },
  {
   "cell_type": "code",
   "execution_count": 9,
   "metadata": {},
   "outputs": [
    {
     "name": "stdout",
     "output_type": "stream",
     "text": [
      "(2, 2)\n"
     ]
    }
   ],
   "source": [
    "print (A.shape)"
   ]
  },
  {
   "cell_type": "code",
   "execution_count": 10,
   "metadata": {},
   "outputs": [
    {
     "name": "stdout",
     "output_type": "stream",
     "text": [
      "(2, 2)\n"
     ]
    }
   ],
   "source": [
    "print (X.shape)"
   ]
  },
  {
   "cell_type": "markdown",
   "metadata": {},
   "source": [
    "Arrays are indexed in much the same way as lists in Python. Elements of a list begin indexing from $0$ and end at $n - 1$, where $n$ is the length of the array."
   ]
  },
  {
   "cell_type": "code",
   "execution_count": 11,
   "metadata": {},
   "outputs": [
    {
     "name": "stdout",
     "output_type": "stream",
     "text": [
      "3.5 4.2\n"
     ]
    }
   ],
   "source": [
    "print (returns[0], returns[len(returns) - 1])"
   ]
  },
  {
   "cell_type": "code",
   "execution_count": 12,
   "metadata": {},
   "outputs": [
    {
     "name": "stdout",
     "output_type": "stream",
     "text": [
      "4.5 12.44\n"
     ]
    }
   ],
   "source": [
    "print (retorno[0], retorno[len(returns) - 1])"
   ]
  },
  {
   "cell_type": "markdown",
   "metadata": {},
   "source": [
    "We can take a slice of an array using a colon, just like in a list."
   ]
  },
  {
   "cell_type": "code",
   "execution_count": 13,
   "metadata": {},
   "outputs": [
    {
     "name": "stdout",
     "output_type": "stream",
     "text": [
      "[5. 2.]\n"
     ]
    }
   ],
   "source": [
    "print (returns[1:3])"
   ]
  },
  {
   "cell_type": "code",
   "execution_count": 14,
   "metadata": {},
   "outputs": [
    {
     "name": "stdout",
     "output_type": "stream",
     "text": [
      "[1.]\n"
     ]
    }
   ],
   "source": [
    "print (retorno[1:2])"
   ]
  },
  {
   "cell_type": "markdown",
   "metadata": {},
   "source": [
    "A slice of an array, like in a list, will select a group of elements in the array starting from the first element indicated and going up to (but not including) the last element indicated.\n",
    "\n",
    "In the case of multidimensional arrays, many of the same conventions with slicing and indexing hold. We can access the first column of a 2-dimensional array like so:"
   ]
  },
  {
   "cell_type": "code",
   "execution_count": 15,
   "metadata": {},
   "outputs": [
    {
     "name": "stdout",
     "output_type": "stream",
     "text": [
      "[1 3]\n"
     ]
    }
   ],
   "source": [
    "print (A[:, 0])"
   ]
  },
  {
   "cell_type": "code",
   "execution_count": 16,
   "metadata": {},
   "outputs": [
    {
     "name": "stdout",
     "output_type": "stream",
     "text": [
      "[5 7]\n"
     ]
    }
   ],
   "source": [
    "print (X[:, 0])"
   ]
  },
  {
   "cell_type": "markdown",
   "metadata": {},
   "source": [
    "And the first row of a 2-dimensional array like so:"
   ]
  },
  {
   "cell_type": "code",
   "execution_count": 17,
   "metadata": {},
   "outputs": [
    {
     "name": "stdout",
     "output_type": "stream",
     "text": [
      "[1 2]\n"
     ]
    }
   ],
   "source": [
    "print (A[0, :])"
   ]
  },
  {
   "cell_type": "code",
   "execution_count": 18,
   "metadata": {},
   "outputs": [
    {
     "name": "stdout",
     "output_type": "stream",
     "text": [
      "[5 6]\n"
     ]
    }
   ],
   "source": [
    "print (X[0, :])"
   ]
  },
  {
   "cell_type": "markdown",
   "metadata": {},
   "source": [
    "Notice that each slice of the array returns yet another array!"
   ]
  },
  {
   "cell_type": "code",
   "execution_count": 19,
   "metadata": {},
   "outputs": [
    {
     "name": "stdout",
     "output_type": "stream",
     "text": [
      "<class 'numpy.ndarray'>\n"
     ]
    }
   ],
   "source": [
    "print (type(A[0,:]))"
   ]
  },
  {
   "cell_type": "code",
   "execution_count": 20,
   "metadata": {},
   "outputs": [
    {
     "name": "stdout",
     "output_type": "stream",
     "text": [
      "<class 'numpy.ndarray'>\n"
     ]
    }
   ],
   "source": [
    "print (type(X[0,:]))"
   ]
  },
  {
   "cell_type": "markdown",
   "metadata": {},
   "source": [
    "Passing only one index to a 2-dimensional array will result in returning the row with the given index as well, providing us with another way to access individual rows."
   ]
  },
  {
   "cell_type": "code",
   "execution_count": 21,
   "metadata": {
    "scrolled": true
   },
   "outputs": [
    {
     "name": "stdout",
     "output_type": "stream",
     "text": [
      "[1 2]\n"
     ]
    }
   ],
   "source": [
    "print (A[0])"
   ]
  },
  {
   "cell_type": "code",
   "execution_count": 22,
   "metadata": {},
   "outputs": [
    {
     "name": "stdout",
     "output_type": "stream",
     "text": [
      "[5 6]\n"
     ]
    }
   ],
   "source": [
    "print (X[0])"
   ]
  },
  {
   "cell_type": "markdown",
   "metadata": {},
   "source": [
    "Accessing the index of an individual element will return only the element."
   ]
  },
  {
   "cell_type": "code",
   "execution_count": 23,
   "metadata": {},
   "outputs": [
    {
     "name": "stdout",
     "output_type": "stream",
     "text": [
      "4\n"
     ]
    }
   ],
   "source": [
    "print (A[1, 1])"
   ]
  },
  {
   "cell_type": "code",
   "execution_count": 24,
   "metadata": {},
   "outputs": [
    {
     "name": "stdout",
     "output_type": "stream",
     "text": [
      "8\n"
     ]
    }
   ],
   "source": [
    "print (X[1, 1])"
   ]
  },
  {
   "cell_type": "markdown",
   "metadata": {},
   "source": [
    "#### Array functions\n",
    "\n",
    "Functions built into NumPy can be easily called on arrays. Most functions are applied to an array element-wise (as scalar multiplication is). For example, if we call `log()` on an array, the logarithm will be taken of each element."
   ]
  },
  {
   "cell_type": "code",
   "execution_count": 25,
   "metadata": {},
   "outputs": [
    {
     "name": "stdout",
     "output_type": "stream",
     "text": [
      "[1.25276297 1.60943791 0.69314718 2.07944154 1.43508453]\n"
     ]
    }
   ],
   "source": [
    "print (np.log(returns))"
   ]
  },
  {
   "cell_type": "code",
   "execution_count": 26,
   "metadata": {},
   "outputs": [
    {
     "name": "stdout",
     "output_type": "stream",
     "text": [
      "[1.5040774  0.         1.09861229 1.60943791 2.52091709]\n"
     ]
    }
   ],
   "source": [
    "print (np.log(retorno))"
   ]
  },
  {
   "cell_type": "markdown",
   "metadata": {},
   "source": [
    "Some functions return a single value. This is because they treat the array as a collection (similar to a list), performing the designated function. For example, the `mean()` function will do exactly what you expect, calculating the mean of an array."
   ]
  },
  {
   "cell_type": "code",
   "execution_count": 27,
   "metadata": {},
   "outputs": [
    {
     "name": "stdout",
     "output_type": "stream",
     "text": [
      "4.54\n"
     ]
    }
   ],
   "source": [
    "print (np.mean(returns))"
   ]
  },
  {
   "cell_type": "code",
   "execution_count": 28,
   "metadata": {},
   "outputs": [
    {
     "name": "stdout",
     "output_type": "stream",
     "text": [
      "5.188\n"
     ]
    }
   ],
   "source": [
    "print (np.mean(retorno))"
   ]
  },
  {
   "cell_type": "markdown",
   "metadata": {},
   "source": [
    "Or the `max()` function will return the maximum element of an array."
   ]
  },
  {
   "cell_type": "code",
   "execution_count": 29,
   "metadata": {},
   "outputs": [
    {
     "name": "stdout",
     "output_type": "stream",
     "text": [
      "8.0\n"
     ]
    }
   ],
   "source": [
    "print (np.max(returns))"
   ]
  },
  {
   "cell_type": "code",
   "execution_count": 30,
   "metadata": {},
   "outputs": [
    {
     "name": "stdout",
     "output_type": "stream",
     "text": [
      "12.44\n"
     ]
    }
   ],
   "source": [
    "print (np.max(retorno))"
   ]
  },
  {
   "cell_type": "markdown",
   "metadata": {},
   "source": [
    "For further reading on the universal functions in NumPy, check out the [documentation](https://docs.scipy.org/doc/numpy/user/quickstart.html#universal-functions)."
   ]
  },
  {
   "cell_type": "markdown",
   "metadata": {},
   "source": [
    "### Return to the returns\n",
    "\n",
    "Now let's modify our returns array with scalar values. If we add a scalar value to an array it will be added to every element of the array. If we multiply an array by a scalar value it will be multiplied against every element of the array. If we do both, both will happen!"
   ]
  },
  {
   "cell_type": "code",
   "execution_count": 31,
   "metadata": {
    "scrolled": false
   },
   "outputs": [
    {
     "data": {
      "text/plain": [
       "array([12. , 15. ,  9. , 21. , 13.4])"
      ]
     },
     "execution_count": 31,
     "metadata": {},
     "output_type": "execute_result"
    }
   ],
   "source": [
    "returns*2 + 5"
   ]
  },
  {
   "cell_type": "code",
   "execution_count": 32,
   "metadata": {},
   "outputs": [
    {
     "data": {
      "text/plain": [
       "array([24. , 30. , 18. , 42. , 26.8])"
      ]
     },
     "execution_count": 32,
     "metadata": {},
     "output_type": "execute_result"
    }
   ],
   "source": [
    "returns*4 + 10"
   ]
  },
  {
   "cell_type": "markdown",
   "metadata": {},
   "source": [
    "NumPy also has functions specifically built to operate on arrays. Let's take the mean and standard deviation of this group of returns."
   ]
  },
  {
   "cell_type": "code",
   "execution_count": 33,
   "metadata": {
    "scrolled": true
   },
   "outputs": [
    {
     "name": "stdout",
     "output_type": "stream",
     "text": [
      "Mean:  4.54 Std Dev:  1.9915822855207364\n"
     ]
    }
   ],
   "source": [
    "print (\"Mean: \", np.mean(returns), \"Std Dev: \", np.std(returns))"
   ]
  },
  {
   "cell_type": "code",
   "execution_count": 34,
   "metadata": {},
   "outputs": [
    {
     "name": "stdout",
     "output_type": "stream",
     "text": [
      "Promedio:  4.54 Desviacion estandar:  1.9915822855207364\n"
     ]
    }
   ],
   "source": [
    "print (\"Promedio: \", np.mean(returns), \"Desviacion estandar: \", np.std(returns))"
   ]
  },
  {
   "cell_type": "markdown",
   "metadata": {},
   "source": [
    "Let's simulate a universe of stocks using NumPy's functions. First we need to create the arrays to hold the assets and returns that we will use to build a portfolio. This is because arrays are created with a fixed size. Their dimensions can't be changed without creating a new array."
   ]
  },
  {
   "cell_type": "code",
   "execution_count": 35,
   "metadata": {},
   "outputs": [],
   "source": [
    "N = 10\n",
    "assets = np.zeros((N, 100))\n",
    "returns = np.zeros((N, 100))"
   ]
  },
  {
   "cell_type": "code",
   "execution_count": 36,
   "metadata": {},
   "outputs": [],
   "source": [
    "M = 30\n",
    "recursos = num.zeros((M, 100))\n",
    "retorno = num.zeros((M, 100))"
   ]
  },
  {
   "cell_type": "markdown",
   "metadata": {},
   "source": [
    "This function, `zeroes()`, creates a NumPy array with the given dimensions that is entirely filled in with $0$. We can pass a single value or a tuple of as many dimensions as we like. Passing in the tuple `(N, 100)`, will return a two-dimensional array with $N$ rows and $100$ columns. Our result is a $N \\times 100$ array.\n",
    "\n",
    "Now we will simulate a base asset. We want the universe of stocks to be correlated with each other so we will use this initial value to generate the others."
   ]
  },
  {
   "cell_type": "code",
   "execution_count": 37,
   "metadata": {},
   "outputs": [],
   "source": [
    "R_1 = np.random.normal(1.01, 0.03, 100)\n",
    "returns[0] = R_1\n",
    "assets[0] = np.cumprod(R_1)"
   ]
  },
  {
   "cell_type": "code",
   "execution_count": 38,
   "metadata": {},
   "outputs": [],
   "source": [
    "P_1 = num.random.normal(1.02, 0.04, 100)\n",
    "retorno[0] = P_1\n",
    "recursos[0] = num.cumprod(P_1)"
   ]
  },
  {
   "cell_type": "markdown",
   "metadata": {},
   "source": [
    "The `random` module in NumPy is exceedingly useful. It contains methods for sampling from many different probability distributions, some of which are covered in the [random variables lecture](https://www.quantopian.com/lectures/random-variables) in the Quantopian lecture series. In this case we draw $N = 100$ random samples from a normal distribution with mean $1.01$ and standard deviation $0.03$. We treat these as the daily percentage returns of our asset and take the cumulative product of these samples to get the current price.\n",
    "\n",
    "The way we have generated our universe, the the individual $R_i$ vectors are each 1-dimensional arrays and the `returns` and `assets` variables contain 2-dimensional arrays. Above, we set the initial row of both `returns` and `assets` to be the first $R_i$ vector and the cumulative asset price based on those returns, respectively.\n",
    "\n",
    "We will now use this base asset to create a few other random assets that are correlated with it."
   ]
  },
  {
   "cell_type": "code",
   "execution_count": 39,
   "metadata": {},
   "outputs": [],
   "source": [
    "# Generate assets that are correlated with R_1\n",
    "for i in range(0, N):\n",
    "    R_i = R_1 + np.random.normal(0.001, 0.02, 100)\n",
    "    returns[i] = R_i # Set each row of returns equal to the new R_i array\n",
    "    assets[i] = np.cumprod(R_i)\n",
    "    \n",
    "mean_returns = [(np.mean(R) - 1)*100 for R in returns]\n",
    "return_volatilities = [np.std(R) for R in returns]"
   ]
  },
  {
   "cell_type": "code",
   "execution_count": 40,
   "metadata": {},
   "outputs": [],
   "source": [
    "# Generate assets that are correlated with R_1\n",
    "for i in range(0, M):\n",
    "    P_i = P_1 + num.random.normal(0.002, 0.03, 100)\n",
    "    retorno[i] = P_i # Set each row of returns equal to the new R_i array\n",
    "    recursos[i] = num.cumprod(P_i)\n",
    "    \n",
    "promedio_retorno = [(num.mean(R) - 1)*100 for R in retorno]\n",
    "volatilidad_promedio = [num.std(R) for R in retorno]"
   ]
  },
  {
   "cell_type": "markdown",
   "metadata": {},
   "source": [
    "Here we generate the remaining $N - 1$ securities that we want in our universe by adding random noise to $R_1$. This ensures that our $N - 1$ other assets will be correlated with the base asset because they have some underlying information that is shared.\n",
    "\n",
    "Let's plot what the mean return of each asset looks like:"
   ]
  },
  {
   "cell_type": "code",
   "execution_count": 41,
   "metadata": {
    "scrolled": false
   },
   "outputs": [
    {
     "data": {
      "image/png": "[encoded data removed]",
      "text/plain": [
       "<Figure size 432x288 with 1 Axes>"
      ]
     },
     "metadata": {
      "needs_background": "light"
     },
     "output_type": "display_data"
    }
   ],
   "source": [
    "plt.bar(np.arange(len(mean_returns)), mean_returns)\n",
    "plt.xlabel('Stock')\n",
    "plt.ylabel('Returns')\n",
    "plt.title('Returns for {0} Random Assets'.format(N));"
   ]
  },
  {
   "cell_type": "code",
   "execution_count": 42,
   "metadata": {},
   "outputs": [
    {
     "data": {
      "image/png": "[encoded data removed]",
      "text/plain": [
       "<Figure size 432x288 with 1 Axes>"
      ]
     },
     "metadata": {
      "needs_background": "light"
     },
     "output_type": "display_data"
    }
   ],
   "source": [
    "plt.bar(num.arange(len(promedio_retorno)), promedio_retorno)\n",
    "plt.xlabel('Stock')\n",
    "plt.ylabel('Returns')\n",
    "plt.title('Returns for {0} Random Assets'.format(M));"
   ]
  },
  {
   "cell_type": "markdown",
   "metadata": {},
   "source": [
    "### Calculating Expected Return\n",
    "\n",
    "So we have a universe of stocks. Great! Now let's put them together in a portfolio and calculate its expected return and risk.\n",
    "\n",
    "We will start off by generating $N$ random weights for each asset in our portfolio."
   ]
  },
  {
   "cell_type": "code",
   "execution_count": 43,
   "metadata": {},
   "outputs": [],
   "source": [
    "weights = np.random.uniform(0, 1, N)\n",
    "weights = weights/np.sum(weights)"
   ]
  },
  {
   "cell_type": "code",
   "execution_count": 44,
   "metadata": {},
   "outputs": [],
   "source": [
    "pesos = num.random.uniform(0, 1, M)\n",
    "pesos = pesos/num.sum(pesos)"
   ]
  },
  {
   "cell_type": "markdown",
   "metadata": {},
   "source": [
    "We have to rescale the weights so that they all add up to $1$. We do this by scaling the weights vector by the sum total of all the weights. This step ensures that we will be using $100\\%$ of the portfolio's cash.\n",
    "\n",
    "To calculate the mean return of the portfolio, we have to scale each asset's return by its designated weight. We can pull each element of each array and multiply them individually, but it's quicker to use NumPy's linear algebra methods. The function that we want is `dot()`. This will calculate the dot product between two arrays for us. So if $v = \\left[ 1, 2, 3 \\right]$ and $w = \\left[4, 5, 6 \\right]$, then:\n",
    "\n",
    "$$ v \\cdot w = 1 \\times 4 + 2 \\times 5 + 3 \\times 6 $$\n",
    "\n",
    "For a one-dimensional vector, the dot product will multiply each element pointwise and add all the products together! In our case, we have a vector of weights, $\\omega = \\left[ \\omega_1, \\omega_2, \\dots \\omega_N\\right]$ and a vector of returns, $\\mu = \\left[ \\mu_1, \\mu_2, \\dots, \\mu_N\\right]$. If we take the dot product of these two we will get:\n",
    "\n",
    "$$ \\omega \\cdot \\mu = \\omega_1\\mu_1 + \\omega_2\\mu_2 + \\dots + \\omega_N\\mu_N = \\mu_P $$\n",
    "\n",
    "This yields the sum of all the asset returns scaled by their respective weights. This the the portfolio's overall expected return!"
   ]
  },
  {
   "cell_type": "code",
   "execution_count": 45,
   "metadata": {
    "scrolled": true
   },
   "outputs": [
    {
     "name": "stdout",
     "output_type": "stream",
     "text": [
      "Expected return of the portfolio:  0.45242330462850017\n"
     ]
    }
   ],
   "source": [
    "p_returns = np.dot(weights, mean_returns)\n",
    "print (\"Expected return of the portfolio: \", p_returns)"
   ]
  },
  {
   "cell_type": "code",
   "execution_count": 46,
   "metadata": {},
   "outputs": [
    {
     "name": "stdout",
     "output_type": "stream",
     "text": [
      "Expected return of the portfolio:  2.5425661578299494\n"
     ]
    }
   ],
   "source": [
    "r_returns = num.dot(pesos, promedio_retorno)\n",
    "print (\"Expected return of the portfolio: \", r_returns)"
   ]
  },
  {
   "cell_type": "markdown",
   "metadata": {},
   "source": [
    "Calculating the mean return is fairly intuitive and does not require too much explanation of linear algebra. However, calculating the variance of our portfolio requires a bit more background."
   ]
  },
  {
   "cell_type": "markdown",
   "metadata": {},
   "source": [
    "#### Beware of NaN values\n",
    "\n",
    "Most of the time, all of these calculations will work without an issue. However, when working with real data we run the risk of having `nan` values in our arrays. This is NumPy's way of saying that the data there is missing or doesn't exist. These `nan` values can lead to errors in mathematical calculations so it is important to be aware of whether your array contains `nan` values and to know how to drop them."
   ]
  },
  {
   "cell_type": "code",
   "execution_count": 47,
   "metadata": {},
   "outputs": [
    {
     "name": "stdout",
     "output_type": "stream",
     "text": [
      "[ 1.  2. nan  4.  5.]\n"
     ]
    }
   ],
   "source": [
    "v = np.array([1, 2, np.nan, 4, 5])\n",
    "print (v)"
   ]
  },
  {
   "cell_type": "code",
   "execution_count": 48,
   "metadata": {},
   "outputs": [
    {
     "name": "stdout",
     "output_type": "stream",
     "text": [
      "[ 3.  4. nan  5.  6.]\n"
     ]
    }
   ],
   "source": [
    "w = num.array([3, 4, num.nan, 5, 6])\n",
    "print (w)"
   ]
  },
  {
   "cell_type": "markdown",
   "metadata": {},
   "source": [
    "Let's see what happens when we try to take the mean of this array."
   ]
  },
  {
   "cell_type": "code",
   "execution_count": 49,
   "metadata": {},
   "outputs": [
    {
     "name": "stdout",
     "output_type": "stream",
     "text": [
      "nan\n"
     ]
    }
   ],
   "source": [
    "print (np.mean(v))"
   ]
  },
  {
   "cell_type": "code",
   "execution_count": 50,
   "metadata": {},
   "outputs": [
    {
     "name": "stdout",
     "output_type": "stream",
     "text": [
      "nan\n"
     ]
    }
   ],
   "source": [
    "print (num.mean(w))"
   ]
  },
  {
   "cell_type": "markdown",
   "metadata": {},
   "source": [
    "Clearly, `nan` values can have a large impact on our calculations. Fortunately, we can check for `nan` values with the `isnan()` function."
   ]
  },
  {
   "cell_type": "code",
   "execution_count": 51,
   "metadata": {},
   "outputs": [
    {
     "data": {
      "text/plain": [
       "array([False, False,  True, False, False])"
      ]
     },
     "execution_count": 51,
     "metadata": {},
     "output_type": "execute_result"
    }
   ],
   "source": [
    "np.isnan(v)"
   ]
  },
  {
   "cell_type": "code",
   "execution_count": 52,
   "metadata": {},
   "outputs": [
    {
     "data": {
      "text/plain": [
       "array([False, False,  True, False, False])"
      ]
     },
     "execution_count": 52,
     "metadata": {},
     "output_type": "execute_result"
    }
   ],
   "source": [
    "num.isnan(w)"
   ]
  },
  {
   "cell_type": "markdown",
   "metadata": {},
   "source": [
    "Calling `isnan()` on an array will call the function on each value of the array, returning a value of `True` if the element is `nan` and `False` if the element is valid. Now, knowing whether your array contains `nan` values is all well and good, but how do we remove `nan`s? Handily enough, NumPy arrays can be indexed by boolean values (`True` or `False`). If we use a boolean array to index an array, we will remove all values of the array that register as `False` under the condition. We use the `isnan()` function in create a boolean array, assigning a `True` value to everything that is *not* `nan` and a `False` to the `nan`s and we use that to index the same array."
   ]
  },
  {
   "cell_type": "code",
   "execution_count": 53,
   "metadata": {},
   "outputs": [
    {
     "name": "stdout",
     "output_type": "stream",
     "text": [
      "[1. 2. 4. 5.]\n"
     ]
    }
   ],
   "source": [
    "ix = ~np.isnan(v) # the ~ indicates a logical not, inverting the bools\n",
    "print (v[ix]) # We can also just write v = v[~np.isnan(v)]"
   ]
  },
  {
   "cell_type": "code",
   "execution_count": 54,
   "metadata": {},
   "outputs": [
    {
     "name": "stdout",
     "output_type": "stream",
     "text": [
      "[3. 4. 5. 6.]\n"
     ]
    }
   ],
   "source": [
    "aux = ~num.isnan(w)\n",
    "print (w[aux]) "
   ]
  },
  {
   "cell_type": "code",
   "execution_count": 55,
   "metadata": {},
   "outputs": [
    {
     "name": "stdout",
     "output_type": "stream",
     "text": [
      "3.0\n"
     ]
    }
   ],
   "source": [
    "print (np.mean(v[ix]))"
   ]
  },
  {
   "cell_type": "code",
   "execution_count": 56,
   "metadata": {},
   "outputs": [
    {
     "name": "stdout",
     "output_type": "stream",
     "text": [
      "4.5\n"
     ]
    }
   ],
   "source": [
    "print (num.mean(w[aux]))"
   ]
  },
  {
   "cell_type": "markdown",
   "metadata": {},
   "source": [
    "There are a few shortcuts to this process in the form of NumPy functions specifically built to handle them, such as `nanmean()`."
   ]
  },
  {
   "cell_type": "code",
   "execution_count": 57,
   "metadata": {},
   "outputs": [
    {
     "name": "stdout",
     "output_type": "stream",
     "text": [
      "3.0\n"
     ]
    }
   ],
   "source": [
    "print (np.nanmean(v))"
   ]
  },
  {
   "cell_type": "code",
   "execution_count": 58,
   "metadata": {},
   "outputs": [
    {
     "name": "stdout",
     "output_type": "stream",
     "text": [
      "4.5\n"
     ]
    }
   ],
   "source": [
    "print (num.nanmean(w))"
   ]
  },
  {
   "cell_type": "markdown",
   "metadata": {},
   "source": [
    "The `nanmean()` function simply calculates the mean of the array as if there were no `nan` values at all! There are a few more of these functions, so feel free to read more about them in the [documentation](https://docs.scipy.org/doc/numpy/user/index.html). These indeterminate values are more an issue with data than linear algebra itself so it is helpful that there are ways to handle them."
   ]
  },
  {
   "cell_type": "markdown",
   "metadata": {},
   "source": [
    "### Conclusion\n",
    "\n",
    "Linear algebra is pervasive in finance and in general. For example, the calculation of *optimal* weights according to modern portfolio theory is done using linear algebra techniques. The arrays and functions in NumPy allow us to handle these calculations in an intuitive way. For a quick intro to linear algebra and how to use NumPy to do more significant matrix calculations, proceed to the next section."
   ]
  },
  {
   "cell_type": "markdown",
   "metadata": {},
   "source": [
    "## A brief foray into linear algebra\n",
    "\n",
    "Let's start with a basic overview of some linear algebra. Linear algebra comes down to the multiplication and composition of scalar and matrix values. A scalar value is just a real number that we multiply against an array. When we scale a matrix or array using a scalar, we multiply each individual element of that matrix or array by the scalar.\n",
    "\n",
    "A matrix is a collection of values, typically represented by an $m \\times n$ grid, where $m$ is the number of rows and $n$ is the number of columns. The edge lengths $m$ and $n$ do not necessarily have to be different. If we have $m = n$, we call this a square matrix. A particularly interesting case of a matrix is when $m = 1$ or $n = 1$. In this case we have a special case of a matrix that we call a vector. While there is a matrix object in NumPy we will be doing everything using NumPy arrays because they can have dimensions greater than $2$. For the purpose of this section, we will be using matrix and array interchangeably.\n",
    "\n",
    "We can express the matrix equation as:\n",
    "\n",
    "$$ y = A\\cdot x $$\n",
    "\n",
    "Where $A$ is an $m \\times n$ matrix, $y$ is a $m \\times 1$ vector, and $x$ is a $n \\times 1$ vector. On the right-hand side of the equation we are multiplying a matrix by a vector. This requires a little bit more clarification, lest we think that we can go about multiplying any matrices by any other matrices.\n",
    "\n",
    "#### Matrix multiplication\n",
    "\n",
    "With matrix multiplication, the order in which the matrices are multiplied matters. Multiplying a matrix on the left side by another matrix may be just fine, but multiplying on the right may be undefined."
   ]
  },
  {
   "cell_type": "code",
   "execution_count": 59,
   "metadata": {},
   "outputs": [],
   "source": [
    "A = np.array([\n",
    "        [1, 2, 3, 12, 6],\n",
    "        [4, 5, 6, 15, 20],\n",
    "        [7, 8, 9, 10, 10]        \n",
    "    ])\n",
    "B = np.array([\n",
    "        [4, 4, 2],\n",
    "        [2, 3, 1],\n",
    "        [6, 5, 8],\n",
    "        [9, 9, 9]\n",
    "    ])"
   ]
  },
  {
   "cell_type": "code",
   "execution_count": 60,
   "metadata": {},
   "outputs": [],
   "source": [
    "X = num.array([\n",
    "        [1, 2, 0],\n",
    "        [3, 1, 3],\n",
    "        [0, 2, 1]        \n",
    "    ])\n",
    "Y = num.array([\n",
    "        [2, 7, 2],\n",
    "        [7, 2, 7],\n",
    "        [2, 7, 2]\n",
    "    ])"
   ]
  },
  {
   "cell_type": "markdown",
   "metadata": {},
   "source": [
    "Notice that the above-defined matrices, $A$ and $B$, have different dimensions. $A$ is $3 \\times 5$ and $B$ is $4 \\times 3$. The general rule of what can and cannot be multiplied in which order is based on the dimensions of the matrices. Specifically, the number of columns in the matrix on the left must be equal to the number of rows in the matrix on the right. In super informal terms, let's say that we have an $m \\times n$ matrix and a $p \\times q$ matrix. If we multiply the first by the second on the right, we get the following:\n",
    "\n",
    "$$ (m \\times n) \\cdot (p \\times q) = (m \\times q) $$\n",
    "\n",
    "So the resultant product has the same number of rows as the left matrix and the same number of columns as the right matrix. This limitation of matrix multiplication with regards to dimensions is important to keep track of when writing code. To demonstrate this, we use the `dot()` function to multiply our matrices below:"
   ]
  },
  {
   "cell_type": "code",
   "execution_count": 61,
   "metadata": {},
   "outputs": [],
   "source": [
    "# print (np.dot(A, B)) ValueError: shapes (3,5) and (4,3) not aligned: 5 (dim 1) != 4 (dim 0)"
   ]
  },
  {
   "cell_type": "code",
   "execution_count": 62,
   "metadata": {},
   "outputs": [
    {
     "name": "stdout",
     "output_type": "stream",
     "text": [
      "[[16 11 16]\n",
      " [19 44 19]\n",
      " [16 11 16]]\n"
     ]
    }
   ],
   "source": [
    "print (np.dot(X, Y))"
   ]
  },
  {
   "cell_type": "markdown",
   "metadata": {},
   "source": [
    "These results make sense in accordance with our rule. Multiplying a $3 \\times 5$ matrix on the right by a $4 \\times 3$ matrix results in an error while multiplying a $4 \\times 3$ matrix on the right by a $3 \\times 5$ matrix results in a $4 \\times 5$ matrix."
   ]
  },
  {
   "cell_type": "code",
   "execution_count": 63,
   "metadata": {},
   "outputs": [
    {
     "name": "stdout",
     "output_type": "stream",
     "text": [
      "[[ 34  44  54 128 124]\n",
      " [ 21  27  33  79  82]\n",
      " [ 82 101 120 227 216]\n",
      " [108 135 162 333 324]]\n"
     ]
    }
   ],
   "source": [
    "print (np.dot(B, A))"
   ]
  },
  {
   "cell_type": "code",
   "execution_count": 64,
   "metadata": {},
   "outputs": [
    {
     "name": "stdout",
     "output_type": "stream",
     "text": [
      "[[23 15 23]\n",
      " [13 30 13]\n",
      " [23 15 23]]\n"
     ]
    }
   ],
   "source": [
    "print (np.dot(Y, X))"
   ]
  },
  {
   "cell_type": "markdown",
   "metadata": {},
   "source": [
    "### Portfolio Variance\n",
    "\n",
    "Let's return to our portfolio example from before. We calculated the expected return of the portfolio, but how do we calculate the variance? We start by trying to evaluate the portfolio as a sum of each individual asset, scaled by it's weight.\n",
    "\n",
    "$$ VAR[P] = VAR[\\omega_1 S_1 + \\omega_2 S_2 + \\cdots + \\omega_N S_N] $$\n",
    "\n",
    "Where $S_0, \\cdots, S_N$ are the assets contained within our universe. If all of our assets were independent of each other, we could simply evaluate this as\n",
    "\n",
    "$$ VAR[P] = VAR[\\omega_1 S_1] + VAR[\\omega_2 S_2] + \\cdots + VAR[\\omega_N S_N] = \\omega_1^2\\sigma_1^2 + \\omega_2^2\\sigma_2^2 + \\cdots + \\omega_N^2\\sigma_N^2 $$\n",
    "\n",
    "However, all of our assets depend on each other by their construction. They are all in some way related to our base asset and therefore each other. We thus have to calculate the variance of the portfolio by including the individual pairwise covariances of each asset. Our formula for the variance of the portfolio:\n",
    "\n",
    "$$ VAR[P] = \\sigma_P^2 = \\sum_i \\omega_i^2\\sigma_i^2 + \\sum_i\\sum_{i\\neq j} \\omega_i\\omega_j\\sigma_i\\sigma_j\\rho_{i, j}, \\ i, j \\in \\lbrace 1, 2, \\cdots, N \\rbrace $$\n",
    "\n",
    "Where $\\rho_{i,j}$ is the correlation between $S_i$ and $S_j$, $\\rho_{i, j} = \\frac{COV[S_i, S_j]}{\\sigma_i\\sigma_j}$. This seems exceedingly complicated, but we can easily handle all of this using NumPy arrays. First, we calculate the covariance matrix that relates all the individual stocks in our universe."
   ]
  },
  {
   "cell_type": "code",
   "execution_count": 65,
   "metadata": {},
   "outputs": [
    {
     "name": "stdout",
     "output_type": "stream",
     "text": [
      "[[0.00132338 0.0008826  0.00101359 0.00101494 0.00099348 0.00090144\n",
      "  0.00088003 0.00096188 0.00105623 0.00097256]\n",
      " [0.0008826  0.00125199 0.00085108 0.00092442 0.00087313 0.00074504\n",
      "  0.00086367 0.00088191 0.00101015 0.00091068]\n",
      " [0.00101359 0.00085108 0.00129191 0.00102487 0.00095358 0.00086244\n",
      "  0.00082492 0.00091342 0.00105226 0.00101377]\n",
      " [0.00101494 0.00092442 0.00102487 0.00168225 0.00112981 0.00094817\n",
      "  0.00100356 0.0010177  0.00121303 0.00111019]\n",
      " [0.00099348 0.00087313 0.00095358 0.00112981 0.00148432 0.00088608\n",
      "  0.00097675 0.00094361 0.00105574 0.00094472]\n",
      " [0.00090144 0.00074504 0.00086244 0.00094817 0.00088608 0.00118711\n",
      "  0.00080178 0.00086401 0.00096508 0.00086029]\n",
      " [0.00088003 0.00086367 0.00082492 0.00100356 0.00097675 0.00080178\n",
      "  0.00129961 0.00088015 0.00090241 0.00097246]\n",
      " [0.00096188 0.00088191 0.00091342 0.0010177  0.00094361 0.00086401\n",
      "  0.00088015 0.00128711 0.00107377 0.0010198 ]\n",
      " [0.00105623 0.00101015 0.00105226 0.00121303 0.00105574 0.00096508\n",
      "  0.00090241 0.00107377 0.00150384 0.00103454]\n",
      " [0.00097256 0.00091068 0.00101377 0.00111019 0.00094472 0.00086029\n",
      "  0.00097246 0.0010198  0.00103454 0.00162266]]\n"
     ]
    }
   ],
   "source": [
    "cov_mat = np.cov(returns)\n",
    "print (cov_mat)"
   ]
  },
  {
   "cell_type": "code",
   "execution_count": 66,
   "metadata": {},
   "outputs": [
    {
     "name": "stdout",
     "output_type": "stream",
     "text": [
      "[[0.00276252 0.00182121 0.00178667 0.00183463 0.00206248 0.00177802\n",
      "  0.00204057 0.00174921 0.00163705 0.00173786 0.00173567 0.00170901\n",
      "  0.00191434 0.00194883 0.00216132 0.00180268 0.0020034  0.00204838\n",
      "  0.00161565 0.00191583 0.00188773 0.00204975 0.00178347 0.00191936\n",
      "  0.00190088 0.00185069 0.00204869 0.00158475 0.00182741 0.00193968]\n",
      " [0.00182121 0.00244333 0.00153733 0.00156797 0.00194377 0.00167569\n",
      "  0.00163355 0.00158802 0.00156296 0.00151919 0.00148236 0.00149638\n",
      "  0.00172168 0.00170717 0.00175957 0.00180777 0.00178758 0.00186509\n",
      "  0.00148379 0.00156107 0.00158662 0.00175679 0.00174439 0.00172754\n",
      "  0.00182929 0.00172401 0.00176334 0.00155959 0.00164467 0.00161941]\n",
      " [0.00178667 0.00153733 0.00250252 0.00195712 0.0019527  0.00171217\n",
      "  0.00186454 0.00173089 0.00143786 0.00177874 0.00176856 0.00160137\n",
      "  0.00166114 0.00181604 0.00196574 0.00184888 0.00172263 0.00193383\n",
      "  0.00149443 0.00177968 0.00173022 0.00187969 0.00146422 0.00173925\n",
      "  0.00166252 0.00168223 0.00186763 0.00150582 0.00169782 0.0018959 ]\n",
      " [0.00183463 0.00156797 0.00195712 0.00263159 0.00189603 0.0018325\n",
      "  0.00210227 0.00180229 0.00168011 0.00186952 0.0017759  0.00174476\n",
      "  0.00189565 0.00186468 0.00204624 0.00191415 0.00183625 0.00208222\n",
      "  0.00168549 0.00193201 0.00188309 0.00189923 0.00152999 0.00183755\n",
      "  0.0016593  0.00179215 0.00196147 0.00172675 0.00175128 0.00172559]\n",
      " [0.00206248 0.00194377 0.0019527  0.00189603 0.00337107 0.00188041\n",
      "  0.0019594  0.00179594 0.00148449 0.00188754 0.00170228 0.00184116\n",
      "  0.00194894 0.00198741 0.00190964 0.00202616 0.00193486 0.0020945\n",
      "  0.00186504 0.00186643 0.00193103 0.00214801 0.00179822 0.00195314\n",
      "  0.0019923  0.00180834 0.0021759  0.00145414 0.00189844 0.00180829]\n",
      " [0.00177802 0.00167569 0.00171217 0.0018325  0.00188041 0.00271322\n",
      "  0.00202507 0.00167521 0.00162881 0.00187453 0.00167934 0.00154981\n",
      "  0.00164602 0.00172881 0.00192168 0.0018116  0.00173091 0.00187814\n",
      "  0.00158401 0.00182386 0.00178968 0.00181336 0.00163487 0.0017629\n",
      "  0.00168182 0.00168031 0.00174396 0.00158948 0.00170764 0.0018778 ]\n",
      " [0.00204057 0.00163355 0.00186454 0.00210227 0.0019594  0.00202507\n",
      "  0.00296552 0.00183357 0.00158724 0.00178053 0.00158489 0.00166187\n",
      "  0.0016445  0.00187601 0.00222554 0.00208918 0.00195427 0.00192331\n",
      "  0.00158996 0.00190414 0.00191549 0.00180426 0.00168032 0.00180755\n",
      "  0.00175549 0.00191101 0.00183467 0.00181299 0.00181792 0.00190386]\n",
      " [0.00174921 0.00158802 0.00173089 0.00180229 0.00179594 0.00167521\n",
      "  0.00183357 0.00244133 0.00171657 0.0016364  0.00165268 0.00157291\n",
      "  0.00159605 0.00164467 0.00177269 0.00179371 0.001797   0.0019625\n",
      "  0.00156264 0.00175658 0.00175499 0.00197714 0.00154877 0.00163805\n",
      "  0.00172683 0.00158105 0.00175144 0.00153002 0.00173051 0.00189495]\n",
      " [0.00163705 0.00156296 0.00143786 0.00168011 0.00148449 0.00162881\n",
      "  0.00158724 0.00171657 0.00246367 0.00162497 0.00156067 0.00146787\n",
      "  0.00174345 0.00157982 0.0016318  0.00158028 0.00161677 0.00185892\n",
      "  0.00140429 0.00160531 0.00178011 0.00177185 0.00146148 0.00152864\n",
      "  0.00182477 0.00153738 0.00170182 0.00139662 0.00163715 0.0016807 ]\n",
      " [0.00173786 0.00151919 0.00177874 0.00186952 0.00188754 0.00187453\n",
      "  0.00178053 0.0016364  0.00162497 0.00262644 0.00169199 0.00161143\n",
      "  0.00180419 0.00184175 0.0017978  0.00190444 0.00182759 0.00194345\n",
      "  0.00178258 0.00187227 0.00180846 0.00184496 0.00161364 0.00181773\n",
      "  0.00193831 0.0016782  0.00177815 0.00144591 0.00166109 0.00180096]\n",
      " [0.00173567 0.00148236 0.00176856 0.0017759  0.00170228 0.00167934\n",
      "  0.00158489 0.00165268 0.00156067 0.00169199 0.0023975  0.00162612\n",
      "  0.00166087 0.00178324 0.00170117 0.00172923 0.00168808 0.00185295\n",
      "  0.00151971 0.00179051 0.00166023 0.00191842 0.00163678 0.00168237\n",
      "  0.00169635 0.00147729 0.00182787 0.00154148 0.00172112 0.00159517]\n",
      " [0.00170901 0.00149638 0.00160137 0.00174476 0.00184116 0.00154981\n",
      "  0.00166187 0.00157291 0.00146787 0.00161143 0.00162612 0.00220521\n",
      "  0.00177151 0.00160214 0.00173044 0.00176558 0.0017167  0.00174725\n",
      "  0.00155082 0.0015829  0.00160307 0.00189668 0.00159463 0.00171917\n",
      "  0.00161025 0.00167409 0.00167575 0.00143756 0.00164362 0.00169496]\n",
      " [0.00191434 0.00172168 0.00166114 0.00189565 0.00194894 0.00164602\n",
      "  0.0016445  0.00159605 0.00174345 0.00180419 0.00166087 0.00177151\n",
      "  0.00269051 0.00187282 0.00191681 0.0019567  0.00198659 0.00220214\n",
      "  0.00187456 0.00185487 0.0017989  0.00192255 0.00176822 0.00195058\n",
      "  0.00181661 0.00170004 0.00197038 0.00158173 0.00176103 0.00147312]\n",
      " [0.00194883 0.00170717 0.00181604 0.00186468 0.00198741 0.00172881\n",
      "  0.00187601 0.00164467 0.00157982 0.00184175 0.00178324 0.00160214\n",
      "  0.00187282 0.00259483 0.00199417 0.0018903  0.00176598 0.00208028\n",
      "  0.00155962 0.00180988 0.00176677 0.00197946 0.00178349 0.00180197\n",
      "  0.00185228 0.00196099 0.00187913 0.00155425 0.00177538 0.00177216]\n",
      " [0.00216132 0.00175957 0.00196574 0.00204624 0.00190964 0.00192168\n",
      "  0.00222554 0.00177269 0.0016318  0.0017978  0.00170117 0.00173044\n",
      "  0.00191681 0.00199417 0.00302826 0.00211753 0.00189633 0.0022799\n",
      "  0.00171721 0.00201637 0.00203906 0.00207941 0.00179251 0.00176205\n",
      "  0.00197345 0.00201055 0.00208343 0.00160649 0.00183765 0.00184472]\n",
      " [0.00180268 0.00180777 0.00184888 0.00191415 0.00202616 0.0018116\n",
      "  0.00208918 0.00179371 0.00158028 0.00190444 0.00172923 0.00176558\n",
      "  0.0019567  0.0018903  0.00211753 0.00286336 0.00196604 0.0018825\n",
      "  0.00175891 0.00197141 0.0018239  0.00203959 0.0017316  0.0019335\n",
      "  0.00175152 0.00175649 0.00175507 0.00155845 0.00190099 0.00178256]\n",
      " [0.0020034  0.00178758 0.00172263 0.00183625 0.00193486 0.00173091\n",
      "  0.00195427 0.001797   0.00161677 0.00182759 0.00168808 0.0017167\n",
      "  0.00198659 0.00176598 0.00189633 0.00196604 0.00282998 0.00209801\n",
      "  0.00170517 0.00192718 0.0018157  0.00221219 0.00184017 0.00181475\n",
      "  0.00190769 0.00156429 0.00206265 0.00176926 0.00170595 0.00180579]\n",
      " [0.00204838 0.00186509 0.00193383 0.00208222 0.0020945  0.00187814\n",
      "  0.00192331 0.0019625  0.00185892 0.00194345 0.00185295 0.00174725\n",
      "  0.00220214 0.00208028 0.0022799  0.0018825  0.00209801 0.00314423\n",
      "  0.00183765 0.00209121 0.00212625 0.00213164 0.0018797  0.00198185\n",
      "  0.00204079 0.00195343 0.00219613 0.00180742 0.00185777 0.00196722]\n",
      " [0.00161565 0.00148379 0.00149443 0.00168549 0.00186504 0.00158401\n",
      "  0.00158996 0.00156264 0.00140429 0.00178258 0.00151971 0.00155082\n",
      "  0.00187456 0.00155962 0.00171721 0.00175891 0.00170517 0.00183765\n",
      "  0.00232365 0.00162178 0.0015702  0.00183258 0.00155354 0.00157852\n",
      "  0.00164954 0.00142627 0.00170396 0.00135159 0.00160143 0.00164048]\n",
      " [0.00191583 0.00156107 0.00177968 0.00193201 0.00186643 0.00182386\n",
      "  0.00190414 0.00175658 0.00160531 0.00187227 0.00179051 0.0015829\n",
      "  0.00185487 0.00180988 0.00201637 0.00197141 0.00192718 0.00209121\n",
      "  0.00162178 0.00267133 0.00185687 0.00202767 0.0017771  0.00180657\n",
      "  0.00184393 0.00165111 0.00185262 0.0014864  0.00182041 0.00169692]\n",
      " [0.00188773 0.00158662 0.00173022 0.00188309 0.00193103 0.00178968\n",
      "  0.00191549 0.00175499 0.00178011 0.00180846 0.00166023 0.00160307\n",
      "  0.0017989  0.00176677 0.00203906 0.0018239  0.0018157  0.00212625\n",
      "  0.0015702  0.00185687 0.00271012 0.00181438 0.00159417 0.0017946\n",
      "  0.00194065 0.00169605 0.00203164 0.00161833 0.00176862 0.00177432]\n",
      " [0.00204975 0.00175679 0.00187969 0.00189923 0.00214801 0.00181336\n",
      "  0.00180426 0.00197714 0.00177185 0.00184496 0.00191842 0.00189668\n",
      "  0.00192255 0.00197946 0.00207941 0.00203959 0.00221219 0.00213164\n",
      "  0.00183258 0.00202767 0.00181438 0.00302334 0.00189262 0.00185818\n",
      "  0.00203162 0.00166165 0.00212989 0.00155817 0.00191774 0.00188614]\n",
      " [0.00178347 0.00174439 0.00146422 0.00152999 0.00179822 0.00163487\n",
      "  0.00168032 0.00154877 0.00146148 0.00161364 0.00163678 0.00159463\n",
      "  0.00176822 0.00178349 0.00179251 0.0017316  0.00184017 0.0018797\n",
      "  0.00155354 0.0017771  0.00159417 0.00189262 0.00254675 0.00164129\n",
      "  0.00156166 0.00151214 0.00166276 0.00155215 0.00163763 0.00159774]\n",
      " [0.00191936 0.00172754 0.00173925 0.00183755 0.00195314 0.0017629\n",
      "  0.00180755 0.00163805 0.00152864 0.00181773 0.00168237 0.00171917\n",
      "  0.00195058 0.00180197 0.00176205 0.0019335  0.00181475 0.00198185\n",
      "  0.00157852 0.00180657 0.0017946  0.00185818 0.00164129 0.00243398\n",
      "  0.00174033 0.00166277 0.00202278 0.00164264 0.00161784 0.00168965]\n",
      " [0.00190088 0.00182929 0.00166252 0.0016593  0.0019923  0.00168182\n",
      "  0.00175549 0.00172683 0.00182477 0.00193831 0.00169635 0.00161025\n",
      "  0.00181661 0.00185228 0.00197345 0.00175152 0.00190769 0.00204079\n",
      "  0.00164954 0.00184393 0.00194065 0.00203162 0.00156166 0.00174033\n",
      "  0.00288707 0.00170128 0.00194163 0.00166105 0.0019096  0.00173818]\n",
      " [0.00185069 0.00172401 0.00168223 0.00179215 0.00180834 0.00168031\n",
      "  0.00191101 0.00158105 0.00153738 0.0016782  0.00147729 0.00167409\n",
      "  0.00170004 0.00196099 0.00201055 0.00175649 0.00156429 0.00195343\n",
      "  0.00142627 0.00165111 0.00169605 0.00166165 0.00151214 0.00166277\n",
      "  0.00170128 0.00267806 0.00163686 0.00146115 0.00175319 0.00188714]\n",
      " [0.00204869 0.00176334 0.00186763 0.00196147 0.0021759  0.00174396\n",
      "  0.00183467 0.00175144 0.00170182 0.00177815 0.00182787 0.00167575\n",
      "  0.00197038 0.00187913 0.00208343 0.00175507 0.00206265 0.00219613\n",
      "  0.00170396 0.00185262 0.00203164 0.00212989 0.00166276 0.00202278\n",
      "  0.00194163 0.00163686 0.00303461 0.001564   0.00189599 0.00170686]\n",
      " [0.00158475 0.00155959 0.00150582 0.00172675 0.00145414 0.00158948\n",
      "  0.00181299 0.00153002 0.00139662 0.00144591 0.00154148 0.00143756\n",
      "  0.00158173 0.00155425 0.00160649 0.00155845 0.00176926 0.00180742\n",
      "  0.00135159 0.0014864  0.00161833 0.00155817 0.00155215 0.00164264\n",
      "  0.00166105 0.00146115 0.001564   0.0025134  0.00145376 0.00158049]\n",
      " [0.00182741 0.00164467 0.00169782 0.00175128 0.00189844 0.00170764\n",
      "  0.00181792 0.00173051 0.00163715 0.00166109 0.00172112 0.00164362\n",
      "  0.00176103 0.00177538 0.00183765 0.00190099 0.00170595 0.00185777\n",
      "  0.00160143 0.00182041 0.00176862 0.00191774 0.00163763 0.00161784\n",
      "  0.0019096  0.00175319 0.00189599 0.00145376 0.0025326  0.00151953]\n",
      " [0.00193968 0.00161941 0.0018959  0.00172559 0.00180829 0.0018778\n",
      "  0.00190386 0.00189495 0.0016807  0.00180096 0.00159517 0.00169496\n",
      "  0.00147312 0.00177216 0.00184472 0.00178256 0.00180579 0.00196722\n",
      "  0.00164048 0.00169692 0.00177432 0.00188614 0.00159774 0.00168965\n",
      "  0.00173818 0.00188714 0.00170686 0.00158049 0.00151953 0.00280146]]\n"
     ]
    }
   ],
   "source": [
    "cov_ret = np.cov(retorno)\n",
    "print (cov_ret)"
   ]
  },
  {
   "cell_type": "markdown",
   "metadata": {},
   "source": [
    "This array is not formatted particularly nicely, but a covariance matrix is a very important concept. The covariance matrix is of the form:\n",
    "\n",
    "$$ \\left[\\begin{matrix}\n",
    "VAR[S_1] & COV[S_1, S_2] & \\cdots & COV[S_1, S_N] \\\\\n",
    "COV[S_2, S_1] & VAR[S_2] & \\cdots & COV[S_2, S_N] \\\\\n",
    "\\vdots & \\vdots & \\ddots & \\vdots \\\\\n",
    "COV[S_N, S_1] & COV[S_N, S_2] & \\cdots & VAR[S_N]\n",
    "\\end{matrix}\\right] $$\n",
    "\n",
    "So each diagonal entry is the variance of that asset at that index and each off-diagonal holds the covariance of two assets indexed by the column and row number. What is important is that once we have the covariance matrix we are able to do some very quick linear algebra to calculate the variance of the overall portfolio. We can represent the variance of the portfolio in array form as:\n",
    "\n",
    "$$ \\sigma_p^2 = \\omega \\ C \\ \\omega^\\intercal$$\n",
    "\n",
    "Where $C$ is the covariance matrix of all the assets and $\\omega$ is the array containing the weights of each individual asset. The superscript $\\intercal$ on the second $\\omega$ listed above denotes the **transpose** of $\\omega$. For a reference on the evaluation of the variance of a portfolio as a matrix equation, please see the Wikipedia article on [modern portfolio theory](https://en.wikipedia.org/wiki/Modern_portfolio_theory).\n",
    "\n",
    "The transpose of an array is what you get when you switch the rows and columns of an array. This has the effect of reflecting an array across what you might imagine as a diagonal. For example, take our array $A$ from before:"
   ]
  },
  {
   "cell_type": "code",
   "execution_count": 67,
   "metadata": {},
   "outputs": [
    {
     "name": "stdout",
     "output_type": "stream",
     "text": [
      "[[ 1  2  3 12  6]\n",
      " [ 4  5  6 15 20]\n",
      " [ 7  8  9 10 10]]\n"
     ]
    }
   ],
   "source": [
    "print (A)"
   ]
  },
  {
   "cell_type": "code",
   "execution_count": 68,
   "metadata": {},
   "outputs": [
    {
     "name": "stdout",
     "output_type": "stream",
     "text": [
      "[[1 2 0]\n",
      " [3 1 3]\n",
      " [0 2 1]]\n"
     ]
    }
   ],
   "source": [
    "print(X)"
   ]
  },
  {
   "cell_type": "markdown",
   "metadata": {},
   "source": [
    "The transpose looks like a mirror image of the same array."
   ]
  },
  {
   "cell_type": "code",
   "execution_count": 69,
   "metadata": {},
   "outputs": [
    {
     "name": "stdout",
     "output_type": "stream",
     "text": [
      "[[ 1  4  7]\n",
      " [ 2  5  8]\n",
      " [ 3  6  9]\n",
      " [12 15 10]\n",
      " [ 6 20 10]]\n"
     ]
    }
   ],
   "source": [
    "print (np.transpose(A))"
   ]
  },
  {
   "cell_type": "code",
   "execution_count": 70,
   "metadata": {},
   "outputs": [
    {
     "name": "stdout",
     "output_type": "stream",
     "text": [
      "[[1 3 0]\n",
      " [2 1 2]\n",
      " [0 3 1]]\n"
     ]
    }
   ],
   "source": [
    "print (np.transpose(X))"
   ]
  },
  {
   "cell_type": "markdown",
   "metadata": {},
   "source": [
    "But $\\omega$ here is a 1-dimensional array, a vector! It makes perfect to take the transpose of $A$, a $3 \\times 5$ array, as the output will be a $5 \\times 3$ array, but a 1-dimensional array is not quite as intuitive. A typical 1-dimensional array can be thought of as a $1 \\times n$ horizontal vector. Thus, taking the tranpose of this array essentially means changing it into a $n \\times 1$ vertical vector. This makes sense because 1-dimensional arrays are still arrays and any multiplication done between 1-dimensional and higher dimensional arrays must keep in line with our dimensionality issue of matrix multiplication.\n",
    "\n",
    "To make a long story short, we think of $\\omega$ as $1 \\times N$ since we have $N$ securities. This makes it so that $\\omega^\\intercal$ is $N \\times 1$. Again, our covariance matrix is $N \\times N$. So the overall multiplication works out like so, in informal terms:\n",
    "\n",
    "$$ \\text{Dimensions}(\\sigma_p^2) = \\text{Dimensions}(\\omega C \\omega^\\intercal) = (1 \\times N)\\cdot (N \\times N)\\cdot (N \\times 1) = (1 \\times 1)$$\n",
    "\n",
    "Multiplying the covariance matrix on the left by the plain horizontal vector and on the right by that vector's transpose results in the calculation of a single scalar ($1 \\times 1$) value, our portfolio's variance.\n",
    "\n",
    "So knowing this, let's proceed and calculate the portfolio variance! We can easily calculate the product of these arrays by using `dot()` for matrix multiplication, though this time we have to do it twice."
   ]
  },
  {
   "cell_type": "code",
   "execution_count": 71,
   "metadata": {
    "scrolled": false
   },
   "outputs": [
    {
     "name": "stdout",
     "output_type": "stream",
     "text": [
      "Portfolio volatility:  0.0318304013525587\n"
     ]
    }
   ],
   "source": [
    "# Calculating the portfolio volatility\n",
    "var_p = np.dot(np.dot(weights, cov_mat), weights.T)\n",
    "vol_p = np.sqrt(var_p)\n",
    "print (\"Portfolio volatility: \", vol_p)"
   ]
  },
  {
   "cell_type": "markdown",
   "metadata": {},
   "source": [
    "To confirm this calculation, let's simply evaluate the volatility of the portfolio using only NumPy functions."
   ]
  },
  {
   "cell_type": "code",
   "execution_count": 72,
   "metadata": {},
   "outputs": [
    {
     "name": "stdout",
     "output_type": "stream",
     "text": [
      "Portfolio volatility:  0.0318304013525587\n"
     ]
    }
   ],
   "source": [
    "# Confirming calculation\n",
    "vol_p_alt = np.sqrt(np.var(np.dot(weights, returns), ddof=1))\n",
    "print (\"Portfolio volatility: \", vol_p_alt)"
   ]
  },
  {
   "cell_type": "markdown",
   "metadata": {},
   "source": [
    "The `ddof` parameter is a simple integer input that tells the function the number of degrees of freedom to take into account. This is a more statistical concept, but what this tells us that our matrix calculation is correct!\n",
    "\n",
    "A lot of this might not make sense at first glance. It helps to go back and forth between the theory and the code representations until you have a better grasp of the mathematics involved. It is definitely not necessary to be an expert on linear algebra and on matrix operations, but linear algebra can help to streamline the process of working with large amounts of data. For further reading on NumPy, check out the [documentation](https://docs.scipy.org/doc/numpy/user/index.html)."
   ]
  },
  {
   "cell_type": "markdown",
   "metadata": {},
   "source": [
    "*This presentation is for informational purposes only and does not constitute an offer to sell, a solicitation to buy, or a recommendation for any security; nor does it constitute an offer to provide investment advisory or other services by Quantopian, Inc. (\"Quantopian\"). Nothing contained herein constitutes investment advice or offers any opinion with respect to the suitability of any security, and any views expressed herein should not be taken as advice to buy, sell, or hold any security or as an endorsement of any security or company.  In preparing the information contained herein, Quantopian, Inc. has not taken into account the investment needs, objectives, and financial circumstances of any particular investor. Any views expressed and data illustrated herein were prepared based upon information, believed to be reliable, available to Quantopian, Inc. at the time of publication. Quantopian makes no guarantees as to their accuracy or completeness. All information is subject to change and may quickly become unreliable for various reasons, including changes in market conditions or economic circumstances.*"
   ]
  }
 ],
 "metadata": {
  "kernelspec": {
   "display_name": "Python 3",
   "language": "python",
   "name": "python3"
  },
  "language_info": {
   "codemirror_mode": {
    "name": "ipython",
    "version": 3
   },
   "file_extension": ".py",
   "mimetype": "text/x-python",
   "name": "python",
   "nbconvert_exporter": "python",
   "pygments_lexer": "ipython3",
   "version": "3.8.5"
  }
 },
 "nbformat": 4,
 "nbformat_minor": 1
}
